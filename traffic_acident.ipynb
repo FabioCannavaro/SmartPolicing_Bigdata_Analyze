{
  "nbformat": 4,
  "nbformat_minor": 0,
  "metadata": {
    "colab": {
      "provenance": [],
      "authorship_tag": "ABX9TyOhYTKxyJXCvKuyvSPuyCz3",
      "include_colab_link": true
    },
    "kernelspec": {
      "name": "python3",
      "display_name": "Python 3"
    },
    "language_info": {
      "name": "python"
    }
  },
  "cells": [
    {
      "cell_type": "markdown",
      "metadata": {
        "id": "view-in-github",
        "colab_type": "text"
      },
      "source": [
        "<a href=\"https://colab.research.google.com/github/FabioCannavaro/SmartPolicing_Bigdata_Analyze/blob/main/traffic_acident.ipynb\" target=\"_parent\"><img src=\"https://colab.research.google.com/assets/colab-badge.svg\" alt=\"Open In Colab\"/></a>"
      ]
    },
    {
      "cell_type": "code",
      "execution_count": null,
      "metadata": {
        "colab": {
          "base_uri": "https://localhost:8080/"
        },
        "id": "ygmooLeJPQ41",
        "outputId": "597d0b09-e4c2-49ff-9e00-0698cca51e0f"
      },
      "outputs": [
        {
          "output_type": "stream",
          "name": "stdout",
          "text": [
            "Drive already mounted at /content/drive; to attempt to forcibly remount, call drive.mount(\"/content/drive\", force_remount=True).\n"
          ]
        }
      ],
      "source": [
        "from google.colab import drive\n",
        "drive.mount('/content/drive')"
      ]
    },
    {
      "cell_type": "code",
      "source": [
        "%cd /content/drive/My Drive/"
      ],
      "metadata": {
        "colab": {
          "base_uri": "https://localhost:8080/"
        },
        "id": "IkmYDY7_Ta_b",
        "outputId": "967ccf52-d012-422f-84ad-9b3f09bdd430"
      },
      "execution_count": null,
      "outputs": [
        {
          "output_type": "stream",
          "name": "stdout",
          "text": [
            "/content/drive/My Drive\n"
          ]
        }
      ]
    },
    {
      "cell_type": "code",
      "source": [
        "ls"
      ],
      "metadata": {
        "colab": {
          "base_uri": "https://localhost:8080/"
        },
        "id": "a5wRDzLbTdIk",
        "outputId": "1bd9ba7c-f5b2-41bc-ff06-e5200235e9a3"
      },
      "execution_count": null,
      "outputs": [
        {
          "output_type": "stream",
          "name": "stdout",
          "text": [
            "'13. FasterRCNN.gdoc'\n",
            "'Candito 6 Week Program | LiftVault.com의 사본.gsheet'\n",
            "\u001b[0m\u001b[01;34m'Colab Notebooks'\u001b[0m/\n",
            " \u001b[01;34mData_Science\u001b[0m/\n",
            " \u001b[01;34mdataset\u001b[0m/\n",
            " fah_converter.ipynb\n",
            "\u001b[01;34m'faster rcnn'\u001b[0m/\n",
            " GVT10x10.gsheet\n",
            " mnist-original.mat\n",
            " \u001b[01;34mtraffic\u001b[0m/\n",
            " yolov5.ipynb\n",
            " 김대한_컴퓨터공학과_2020113384.zip\n",
            "'사본: Juggernaut Method Base Template Spreadsheet.gsheet'\n",
            "'사본: 거인의비밀 ver.3.3.xlsx'\n",
            "\u001b[01;34m'최종 게임'\u001b[0m/\n",
            "'캔디토 리니어.xlsx 사본'\n"
          ]
        }
      ]
    },
    {
      "cell_type": "code",
      "source": [
        "%cd /content/drive/My Drive/traffic/"
      ],
      "metadata": {
        "colab": {
          "base_uri": "https://localhost:8080/"
        },
        "id": "Oi5uz5dATgyM",
        "outputId": "750eae8c-7fc0-4818-c423-6c3176f347fd"
      },
      "execution_count": null,
      "outputs": [
        {
          "output_type": "stream",
          "name": "stdout",
          "text": [
            "/content/drive/My Drive/traffic\n"
          ]
        }
      ]
    },
    {
      "cell_type": "code",
      "source": [
        "ls"
      ],
      "metadata": {
        "colab": {
          "base_uri": "https://localhost:8080/"
        },
        "id": "HpjZv9ySTlLp",
        "outputId": "5d64ea8a-710c-4eb9-8cf2-afd516565dd0"
      },
      "execution_count": null,
      "outputs": [
        {
          "output_type": "stream",
          "name": "stdout",
          "text": [
            "codeBook_v3.xlsx  KP2020.csv  KP2021.csv  NPA2020.csv\n"
          ]
        }
      ]
    },
    {
      "cell_type": "code",
      "source": [
        "!sudo apt-get install -y fonts-nanum\n",
        "!sudo fc-cache -fv\n",
        "!rm ~/.cache/matplotlib -rf"
      ],
      "metadata": {
        "colab": {
          "base_uri": "https://localhost:8080/"
        },
        "id": "uA7s8-IYwujh",
        "outputId": "8fff300a-7be8-4981-d1bf-8b3de51d2dbc"
      },
      "execution_count": null,
      "outputs": [
        {
          "output_type": "stream",
          "name": "stdout",
          "text": [
            "Reading package lists... Done\n",
            "Building dependency tree       \n",
            "Reading state information... Done\n",
            "fonts-nanum is already the newest version (20180306-3).\n",
            "The following package was automatically installed and is no longer required:\n",
            "  libnvidia-common-510\n",
            "Use 'sudo apt autoremove' to remove it.\n",
            "0 upgraded, 0 newly installed, 0 to remove and 21 not upgraded.\n",
            "/usr/share/fonts: caching, new cache contents: 0 fonts, 1 dirs\n",
            "/usr/share/fonts/truetype: caching, new cache contents: 0 fonts, 3 dirs\n",
            "/usr/share/fonts/truetype/humor-sans: caching, new cache contents: 1 fonts, 0 dirs\n",
            "/usr/share/fonts/truetype/liberation: caching, new cache contents: 16 fonts, 0 dirs\n",
            "/usr/share/fonts/truetype/nanum: caching, new cache contents: 10 fonts, 0 dirs\n",
            "/usr/local/share/fonts: caching, new cache contents: 0 fonts, 0 dirs\n",
            "/root/.local/share/fonts: skipping, no such directory\n",
            "/root/.fonts: skipping, no such directory\n",
            "/usr/share/fonts/truetype: skipping, looped directory detected\n",
            "/usr/share/fonts/truetype/humor-sans: skipping, looped directory detected\n",
            "/usr/share/fonts/truetype/liberation: skipping, looped directory detected\n",
            "/usr/share/fonts/truetype/nanum: skipping, looped directory detected\n",
            "/var/cache/fontconfig: cleaning cache directory\n",
            "/root/.cache/fontconfig: not cleaning non-existent cache directory\n",
            "/root/.fontconfig: not cleaning non-existent cache directory\n",
            "fc-cache: succeeded\n"
          ]
        }
      ]
    },
    {
      "cell_type": "code",
      "source": [
        "import numpy as np\n",
        "import pandas as pd\n",
        "import matplotlib.pyplot as plt\n",
        "import os\n",
        "import sys\n",
        "import glob\n",
        "import seaborn as sns\n",
        "import statsmodels.api as sm\n",
        "import array\n",
        "import re \n",
        "import datetime as dt\n",
        "\n",
        "file_path='/content/drive/MyDrive/traffic/KP2020.csv'\n",
        "\n",
        "df=pd.read_csv(file_path, encoding='cp949')\n",
        "df"
      ],
      "metadata": {
        "colab": {
          "base_uri": "https://localhost:8080/",
          "height": 423
        },
        "id": "KUJe8_FVRbU9",
        "outputId": "459a2c8b-dd3d-4cde-b3f6-0bef4151b442"
      },
      "execution_count": null,
      "outputs": [
        {
          "output_type": "execute_result",
          "data": {
            "text/plain": [
              "      RECV_DEPT_NM                 RECV_CPLT_DM  NPA_CL  EVT_STAT_CD  \\\n",
              "0              충남청  20/12/01 01:43:07.000000000      19           10   \n",
              "1              대전청  20/12/01 02:05:04.000000000      13           10   \n",
              "2              대전청  20/12/01 02:06:52.000000000      13           10   \n",
              "3              충남청  20/12/01 02:37:25.000000000      19           10   \n",
              "4              충남청  20/12/01 08:17:50.000000000      19           10   \n",
              "...            ...                          ...     ...          ...   \n",
              "77072          충남청  20/12/31 01:18:16.000000000      19           10   \n",
              "77073          충남청  20/12/31 01:17:45.000000000      19           10   \n",
              "77074          충남청  20/12/31 00:13:50.000000000      19           10   \n",
              "77075          대전청  20/12/31 00:49:29.000000000      13           10   \n",
              "77076          대전청  20/12/31 00:49:06.000000000      13           10   \n",
              "\n",
              "       EVT_CL_CD  RPTER_SEX                   HPPN_PNU_ADDR      HPPN_X  \\\n",
              "0            305        1.0       충청남도 보령시 궁촌동(행정:대천4동) 369  126.598345   \n",
              "1            601        3.0                             NaN  127.404663   \n",
              "2            601        1.0                             NaN  127.404663   \n",
              "3            606        3.0        충청남도 보령시 천북면 하만리 628-10   126.524980   \n",
              "4            401        2.0  충청남도 천안시 서북구 성정동(행정:성정2동) 1259  127.137160   \n",
              "...          ...        ...                             ...         ...   \n",
              "77072        302        2.0  충청남도 보령시 주교면 주교리(행정:주교면) 191-6  126.571002   \n",
              "77073        501        3.0                             NaN         NaN   \n",
              "77074        604        3.0      충청남도 아산시 온천동(행정:온양1동) 1498  127.000391   \n",
              "77075        302        2.0       대전광역시 서구 갈마동(행정:갈마2동) 975  127.373351   \n",
              "77076        601        3.0                             NaN         NaN   \n",
              "\n",
              "          HPPN_Y SME_EVT_YN  \n",
              "0      36.341537          Y  \n",
              "1      36.341685        NaN  \n",
              "2      36.341685        NaN  \n",
              "3      36.474390          N  \n",
              "4      36.826718        NaN  \n",
              "...          ...        ...  \n",
              "77072  36.387791        NaN  \n",
              "77073        NaN        NaN  \n",
              "77074  36.788411        NaN  \n",
              "77075  36.348051          Y  \n",
              "77076        NaN        NaN  \n",
              "\n",
              "[77077 rows x 10 columns]"
            ],
            "text/html": [
              "\n",
              "  <div id=\"df-437c2fe8-c98d-4f9d-9dd3-e4dc2c2eaa41\">\n",
              "    <div class=\"colab-df-container\">\n",
              "      <div>\n",
              "<style scoped>\n",
              "    .dataframe tbody tr th:only-of-type {\n",
              "        vertical-align: middle;\n",
              "    }\n",
              "\n",
              "    .dataframe tbody tr th {\n",
              "        vertical-align: top;\n",
              "    }\n",
              "\n",
              "    .dataframe thead th {\n",
              "        text-align: right;\n",
              "    }\n",
              "</style>\n",
              "<table border=\"1\" class=\"dataframe\">\n",
              "  <thead>\n",
              "    <tr style=\"text-align: right;\">\n",
              "      <th></th>\n",
              "      <th>RECV_DEPT_NM</th>\n",
              "      <th>RECV_CPLT_DM</th>\n",
              "      <th>NPA_CL</th>\n",
              "      <th>EVT_STAT_CD</th>\n",
              "      <th>EVT_CL_CD</th>\n",
              "      <th>RPTER_SEX</th>\n",
              "      <th>HPPN_PNU_ADDR</th>\n",
              "      <th>HPPN_X</th>\n",
              "      <th>HPPN_Y</th>\n",
              "      <th>SME_EVT_YN</th>\n",
              "    </tr>\n",
              "  </thead>\n",
              "  <tbody>\n",
              "    <tr>\n",
              "      <th>0</th>\n",
              "      <td>충남청</td>\n",
              "      <td>20/12/01 01:43:07.000000000</td>\n",
              "      <td>19</td>\n",
              "      <td>10</td>\n",
              "      <td>305</td>\n",
              "      <td>1.0</td>\n",
              "      <td>충청남도 보령시 궁촌동(행정:대천4동) 369</td>\n",
              "      <td>126.598345</td>\n",
              "      <td>36.341537</td>\n",
              "      <td>Y</td>\n",
              "    </tr>\n",
              "    <tr>\n",
              "      <th>1</th>\n",
              "      <td>대전청</td>\n",
              "      <td>20/12/01 02:05:04.000000000</td>\n",
              "      <td>13</td>\n",
              "      <td>10</td>\n",
              "      <td>601</td>\n",
              "      <td>3.0</td>\n",
              "      <td>NaN</td>\n",
              "      <td>127.404663</td>\n",
              "      <td>36.341685</td>\n",
              "      <td>NaN</td>\n",
              "    </tr>\n",
              "    <tr>\n",
              "      <th>2</th>\n",
              "      <td>대전청</td>\n",
              "      <td>20/12/01 02:06:52.000000000</td>\n",
              "      <td>13</td>\n",
              "      <td>10</td>\n",
              "      <td>601</td>\n",
              "      <td>1.0</td>\n",
              "      <td>NaN</td>\n",
              "      <td>127.404663</td>\n",
              "      <td>36.341685</td>\n",
              "      <td>NaN</td>\n",
              "    </tr>\n",
              "    <tr>\n",
              "      <th>3</th>\n",
              "      <td>충남청</td>\n",
              "      <td>20/12/01 02:37:25.000000000</td>\n",
              "      <td>19</td>\n",
              "      <td>10</td>\n",
              "      <td>606</td>\n",
              "      <td>3.0</td>\n",
              "      <td>충청남도 보령시 천북면 하만리 628-10</td>\n",
              "      <td>126.524980</td>\n",
              "      <td>36.474390</td>\n",
              "      <td>N</td>\n",
              "    </tr>\n",
              "    <tr>\n",
              "      <th>4</th>\n",
              "      <td>충남청</td>\n",
              "      <td>20/12/01 08:17:50.000000000</td>\n",
              "      <td>19</td>\n",
              "      <td>10</td>\n",
              "      <td>401</td>\n",
              "      <td>2.0</td>\n",
              "      <td>충청남도 천안시 서북구 성정동(행정:성정2동) 1259</td>\n",
              "      <td>127.137160</td>\n",
              "      <td>36.826718</td>\n",
              "      <td>NaN</td>\n",
              "    </tr>\n",
              "    <tr>\n",
              "      <th>...</th>\n",
              "      <td>...</td>\n",
              "      <td>...</td>\n",
              "      <td>...</td>\n",
              "      <td>...</td>\n",
              "      <td>...</td>\n",
              "      <td>...</td>\n",
              "      <td>...</td>\n",
              "      <td>...</td>\n",
              "      <td>...</td>\n",
              "      <td>...</td>\n",
              "    </tr>\n",
              "    <tr>\n",
              "      <th>77072</th>\n",
              "      <td>충남청</td>\n",
              "      <td>20/12/31 01:18:16.000000000</td>\n",
              "      <td>19</td>\n",
              "      <td>10</td>\n",
              "      <td>302</td>\n",
              "      <td>2.0</td>\n",
              "      <td>충청남도 보령시 주교면 주교리(행정:주교면) 191-6</td>\n",
              "      <td>126.571002</td>\n",
              "      <td>36.387791</td>\n",
              "      <td>NaN</td>\n",
              "    </tr>\n",
              "    <tr>\n",
              "      <th>77073</th>\n",
              "      <td>충남청</td>\n",
              "      <td>20/12/31 01:17:45.000000000</td>\n",
              "      <td>19</td>\n",
              "      <td>10</td>\n",
              "      <td>501</td>\n",
              "      <td>3.0</td>\n",
              "      <td>NaN</td>\n",
              "      <td>NaN</td>\n",
              "      <td>NaN</td>\n",
              "      <td>NaN</td>\n",
              "    </tr>\n",
              "    <tr>\n",
              "      <th>77074</th>\n",
              "      <td>충남청</td>\n",
              "      <td>20/12/31 00:13:50.000000000</td>\n",
              "      <td>19</td>\n",
              "      <td>10</td>\n",
              "      <td>604</td>\n",
              "      <td>3.0</td>\n",
              "      <td>충청남도 아산시 온천동(행정:온양1동) 1498</td>\n",
              "      <td>127.000391</td>\n",
              "      <td>36.788411</td>\n",
              "      <td>NaN</td>\n",
              "    </tr>\n",
              "    <tr>\n",
              "      <th>77075</th>\n",
              "      <td>대전청</td>\n",
              "      <td>20/12/31 00:49:29.000000000</td>\n",
              "      <td>13</td>\n",
              "      <td>10</td>\n",
              "      <td>302</td>\n",
              "      <td>2.0</td>\n",
              "      <td>대전광역시 서구 갈마동(행정:갈마2동) 975</td>\n",
              "      <td>127.373351</td>\n",
              "      <td>36.348051</td>\n",
              "      <td>Y</td>\n",
              "    </tr>\n",
              "    <tr>\n",
              "      <th>77076</th>\n",
              "      <td>대전청</td>\n",
              "      <td>20/12/31 00:49:06.000000000</td>\n",
              "      <td>13</td>\n",
              "      <td>10</td>\n",
              "      <td>601</td>\n",
              "      <td>3.0</td>\n",
              "      <td>NaN</td>\n",
              "      <td>NaN</td>\n",
              "      <td>NaN</td>\n",
              "      <td>NaN</td>\n",
              "    </tr>\n",
              "  </tbody>\n",
              "</table>\n",
              "<p>77077 rows × 10 columns</p>\n",
              "</div>\n",
              "      <button class=\"colab-df-convert\" onclick=\"convertToInteractive('df-437c2fe8-c98d-4f9d-9dd3-e4dc2c2eaa41')\"\n",
              "              title=\"Convert this dataframe to an interactive table.\"\n",
              "              style=\"display:none;\">\n",
              "        \n",
              "  <svg xmlns=\"http://www.w3.org/2000/svg\" height=\"24px\"viewBox=\"0 0 24 24\"\n",
              "       width=\"24px\">\n",
              "    <path d=\"M0 0h24v24H0V0z\" fill=\"none\"/>\n",
              "    <path d=\"M18.56 5.44l.94 2.06.94-2.06 2.06-.94-2.06-.94-.94-2.06-.94 2.06-2.06.94zm-11 1L8.5 8.5l.94-2.06 2.06-.94-2.06-.94L8.5 2.5l-.94 2.06-2.06.94zm10 10l.94 2.06.94-2.06 2.06-.94-2.06-.94-.94-2.06-.94 2.06-2.06.94z\"/><path d=\"M17.41 7.96l-1.37-1.37c-.4-.4-.92-.59-1.43-.59-.52 0-1.04.2-1.43.59L10.3 9.45l-7.72 7.72c-.78.78-.78 2.05 0 2.83L4 21.41c.39.39.9.59 1.41.59.51 0 1.02-.2 1.41-.59l7.78-7.78 2.81-2.81c.8-.78.8-2.07 0-2.86zM5.41 20L4 18.59l7.72-7.72 1.47 1.35L5.41 20z\"/>\n",
              "  </svg>\n",
              "      </button>\n",
              "      \n",
              "  <style>\n",
              "    .colab-df-container {\n",
              "      display:flex;\n",
              "      flex-wrap:wrap;\n",
              "      gap: 12px;\n",
              "    }\n",
              "\n",
              "    .colab-df-convert {\n",
              "      background-color: #E8F0FE;\n",
              "      border: none;\n",
              "      border-radius: 50%;\n",
              "      cursor: pointer;\n",
              "      display: none;\n",
              "      fill: #1967D2;\n",
              "      height: 32px;\n",
              "      padding: 0 0 0 0;\n",
              "      width: 32px;\n",
              "    }\n",
              "\n",
              "    .colab-df-convert:hover {\n",
              "      background-color: #E2EBFA;\n",
              "      box-shadow: 0px 1px 2px rgba(60, 64, 67, 0.3), 0px 1px 3px 1px rgba(60, 64, 67, 0.15);\n",
              "      fill: #174EA6;\n",
              "    }\n",
              "\n",
              "    [theme=dark] .colab-df-convert {\n",
              "      background-color: #3B4455;\n",
              "      fill: #D2E3FC;\n",
              "    }\n",
              "\n",
              "    [theme=dark] .colab-df-convert:hover {\n",
              "      background-color: #434B5C;\n",
              "      box-shadow: 0px 1px 3px 1px rgba(0, 0, 0, 0.15);\n",
              "      filter: drop-shadow(0px 1px 2px rgba(0, 0, 0, 0.3));\n",
              "      fill: #FFFFFF;\n",
              "    }\n",
              "  </style>\n",
              "\n",
              "      <script>\n",
              "        const buttonEl =\n",
              "          document.querySelector('#df-437c2fe8-c98d-4f9d-9dd3-e4dc2c2eaa41 button.colab-df-convert');\n",
              "        buttonEl.style.display =\n",
              "          google.colab.kernel.accessAllowed ? 'block' : 'none';\n",
              "\n",
              "        async function convertToInteractive(key) {\n",
              "          const element = document.querySelector('#df-437c2fe8-c98d-4f9d-9dd3-e4dc2c2eaa41');\n",
              "          const dataTable =\n",
              "            await google.colab.kernel.invokeFunction('convertToInteractive',\n",
              "                                                     [key], {});\n",
              "          if (!dataTable) return;\n",
              "\n",
              "          const docLinkHtml = 'Like what you see? Visit the ' +\n",
              "            '<a target=\"_blank\" href=https://colab.research.google.com/notebooks/data_table.ipynb>data table notebook</a>'\n",
              "            + ' to learn more about interactive tables.';\n",
              "          element.innerHTML = '';\n",
              "          dataTable['output_type'] = 'display_data';\n",
              "          await google.colab.output.renderOutput(dataTable, element);\n",
              "          const docLink = document.createElement('div');\n",
              "          docLink.innerHTML = docLinkHtml;\n",
              "          element.appendChild(docLink);\n",
              "        }\n",
              "      </script>\n",
              "    </div>\n",
              "  </div>\n",
              "  "
            ]
          },
          "metadata": {},
          "execution_count": 7
        }
      ]
    },
    {
      "cell_type": "code",
      "source": [
        "df.columns"
      ],
      "metadata": {
        "id": "7kVyp40LaK23",
        "colab": {
          "base_uri": "https://localhost:8080/"
        },
        "outputId": "e161db00-508e-4292-e712-45efa6034284"
      },
      "execution_count": null,
      "outputs": [
        {
          "output_type": "execute_result",
          "data": {
            "text/plain": [
              "Index(['RECV_DEPT_NM', 'RECV_CPLT_DM', 'NPA_CL', 'EVT_STAT_CD', 'EVT_CL_CD',\n",
              "       'RPTER_SEX', 'HPPN_PNU_ADDR', 'HPPN_X', 'HPPN_Y', 'SME_EVT_YN'],\n",
              "      dtype='object')"
            ]
          },
          "metadata": {},
          "execution_count": 8
        }
      ]
    },
    {
      "cell_type": "code",
      "source": [
        "df.info()"
      ],
      "metadata": {
        "colab": {
          "base_uri": "https://localhost:8080/"
        },
        "id": "IZ0LCGZulzJ2",
        "outputId": "939a8a1f-6c72-45cf-970e-4e6fdedf6867"
      },
      "execution_count": null,
      "outputs": [
        {
          "output_type": "stream",
          "name": "stdout",
          "text": [
            "<class 'pandas.core.frame.DataFrame'>\n",
            "RangeIndex: 77077 entries, 0 to 77076\n",
            "Data columns (total 10 columns):\n",
            " #   Column         Non-Null Count  Dtype  \n",
            "---  ------         --------------  -----  \n",
            " 0   RECV_DEPT_NM   77077 non-null  object \n",
            " 1   RECV_CPLT_DM   77077 non-null  object \n",
            " 2   NPA_CL         77077 non-null  int64  \n",
            " 3   EVT_STAT_CD    77077 non-null  int64  \n",
            " 4   EVT_CL_CD      77077 non-null  int64  \n",
            " 5   RPTER_SEX      74658 non-null  float64\n",
            " 6   HPPN_PNU_ADDR  47805 non-null  object \n",
            " 7   HPPN_X         60313 non-null  float64\n",
            " 8   HPPN_Y         60313 non-null  float64\n",
            " 9   SME_EVT_YN     13442 non-null  object \n",
            "dtypes: float64(3), int64(3), object(4)\n",
            "memory usage: 5.9+ MB\n"
          ]
        }
      ]
    },
    {
      "cell_type": "code",
      "source": [
        "df.RPTER_SEX"
      ],
      "metadata": {
        "colab": {
          "base_uri": "https://localhost:8080/"
        },
        "id": "rm59CteLpwTC",
        "outputId": "f4a84f47-a800-45d7-fc02-9d9918cbc9ca"
      },
      "execution_count": null,
      "outputs": [
        {
          "output_type": "execute_result",
          "data": {
            "text/plain": [
              "0        1.0\n",
              "1        3.0\n",
              "2        1.0\n",
              "3        3.0\n",
              "4        2.0\n",
              "        ... \n",
              "77072    2.0\n",
              "77073    3.0\n",
              "77074    3.0\n",
              "77075    2.0\n",
              "77076    3.0\n",
              "Name: RPTER_SEX, Length: 77077, dtype: float64"
            ]
          },
          "metadata": {},
          "execution_count": 10
        }
      ]
    },
    {
      "cell_type": "code",
      "source": [
        "sexdata=df.RPTER_SEX.value_counts().sort_index(ascending=True)\n",
        "#SEX_COUNT[:3].plot(kind='barh')\n",
        "\n",
        "plt.figure(figsize=(8,8))\n",
        "plt.bar(sexdata.index,sexdata)\n",
        "plt.title('신고자 성별')\n",
        "plt.xlabel('성별')\n",
        "plt.ylabel('숫자')\n",
        "plt.show()"
      ],
      "metadata": {
        "colab": {
          "base_uri": "https://localhost:8080/",
          "height": 951
        },
        "id": "ldQtnHm0qmCn",
        "outputId": "bea6c5c6-ba6c-4cfe-8154-75bb85571357"
      },
      "execution_count": null,
      "outputs": [
        {
          "output_type": "stream",
          "name": "stderr",
          "text": [
            "/usr/local/lib/python3.8/dist-packages/matplotlib/backends/backend_agg.py:214: RuntimeWarning: Glyph 49888 missing from current font.\n",
            "  font.set_text(s, 0.0, flags=flags)\n",
            "/usr/local/lib/python3.8/dist-packages/matplotlib/backends/backend_agg.py:214: RuntimeWarning: Glyph 44256 missing from current font.\n",
            "  font.set_text(s, 0.0, flags=flags)\n",
            "/usr/local/lib/python3.8/dist-packages/matplotlib/backends/backend_agg.py:214: RuntimeWarning: Glyph 51088 missing from current font.\n",
            "  font.set_text(s, 0.0, flags=flags)\n",
            "/usr/local/lib/python3.8/dist-packages/matplotlib/backends/backend_agg.py:214: RuntimeWarning: Glyph 49457 missing from current font.\n",
            "  font.set_text(s, 0.0, flags=flags)\n",
            "/usr/local/lib/python3.8/dist-packages/matplotlib/backends/backend_agg.py:214: RuntimeWarning: Glyph 48324 missing from current font.\n",
            "  font.set_text(s, 0.0, flags=flags)\n",
            "/usr/local/lib/python3.8/dist-packages/matplotlib/backends/backend_agg.py:214: RuntimeWarning: Glyph 49707 missing from current font.\n",
            "  font.set_text(s, 0.0, flags=flags)\n",
            "/usr/local/lib/python3.8/dist-packages/matplotlib/backends/backend_agg.py:183: RuntimeWarning: Glyph 49457 missing from current font.\n",
            "  font.set_text(s, 0, flags=flags)\n",
            "/usr/local/lib/python3.8/dist-packages/matplotlib/backends/backend_agg.py:183: RuntimeWarning: Glyph 48324 missing from current font.\n",
            "  font.set_text(s, 0, flags=flags)\n",
            "/usr/local/lib/python3.8/dist-packages/matplotlib/backends/backend_agg.py:183: RuntimeWarning: Glyph 49707 missing from current font.\n",
            "  font.set_text(s, 0, flags=flags)\n",
            "/usr/local/lib/python3.8/dist-packages/matplotlib/backends/backend_agg.py:183: RuntimeWarning: Glyph 51088 missing from current font.\n",
            "  font.set_text(s, 0, flags=flags)\n",
            "/usr/local/lib/python3.8/dist-packages/matplotlib/backends/backend_agg.py:183: RuntimeWarning: Glyph 49888 missing from current font.\n",
            "  font.set_text(s, 0, flags=flags)\n",
            "/usr/local/lib/python3.8/dist-packages/matplotlib/backends/backend_agg.py:183: RuntimeWarning: Glyph 44256 missing from current font.\n",
            "  font.set_text(s, 0, flags=flags)\n"
          ]
        },
        {
          "output_type": "display_data",
          "data": {
            "text/plain": [
              "<Figure size 576x576 with 1 Axes>"
            ],
            "image/png": "[encoded data removed]"
          },
          "metadata": {
            "needs_background": "light"
          }
        }
      ]
    },
    {
      "cell_type": "code",
      "source": [
        "df.RECV_DEPT_NM"
      ],
      "metadata": {
        "colab": {
          "base_uri": "https://localhost:8080/"
        },
        "id": "f4dY-sQ1uXFR",
        "outputId": "8c390243-5408-4b33-f732-9b8ffd150eef"
      },
      "execution_count": null,
      "outputs": [
        {
          "output_type": "execute_result",
          "data": {
            "text/plain": [
              "0        충남청\n",
              "1        대전청\n",
              "2        대전청\n",
              "3        충남청\n",
              "4        충남청\n",
              "        ... \n",
              "77072    충남청\n",
              "77073    충남청\n",
              "77074    충남청\n",
              "77075    대전청\n",
              "77076    대전청\n",
              "Name: RECV_DEPT_NM, Length: 77077, dtype: object"
            ]
          },
          "metadata": {},
          "execution_count": 12
        }
      ]
    },
    {
      "cell_type": "code",
      "source": [
        "df.RECV_DEPT_NM.unique()"
      ],
      "metadata": {
        "colab": {
          "base_uri": "https://localhost:8080/"
        },
        "id": "FJzhI8Aruc_p",
        "outputId": "6d87a8e4-4ae1-4fac-be0e-3bae6653be83"
      },
      "execution_count": null,
      "outputs": [
        {
          "output_type": "execute_result",
          "data": {
            "text/plain": [
              "array(['충남청', '대전청', '2지구대(충남)', '남대전지구대', '대전대덕', '대전동부', '대전파출소',\n",
              "       '대전역지구대', '대전중부', '대전둔산', '대전서부', '서대전지구대', '대전유성', '세종로파출소', '세종',\n",
              "       '세종청'], dtype=object)"
            ]
          },
          "metadata": {},
          "execution_count": 13
        }
      ]
    },
    {
      "cell_type": "code",
      "source": [
        "partdata=dept_by_accident=df.RECV_DEPT_NM.value_counts()\n",
        "partdata"
      ],
      "metadata": {
        "colab": {
          "base_uri": "https://localhost:8080/"
        },
        "id": "CGsjOzHCuvWn",
        "outputId": "9edb843a-c278-4cb6-f00c-cdf26cc065d9"
      },
      "execution_count": null,
      "outputs": [
        {
          "output_type": "execute_result",
          "data": {
            "text/plain": [
              "충남청         41814\n",
              "대전청         34600\n",
              "2지구대(충남)       95\n",
              "대전역지구대         89\n",
              "남대전지구대         70\n",
              "대전동부           64\n",
              "서대전지구대         60\n",
              "대전둔산           55\n",
              "대전유성           48\n",
              "대전중부           47\n",
              "대전서부           47\n",
              "대전대덕           34\n",
              "대전파출소          15\n",
              "세종로파출소         14\n",
              "세종             14\n",
              "세종청            11\n",
              "Name: RECV_DEPT_NM, dtype: int64"
            ]
          },
          "metadata": {},
          "execution_count": 14
        }
      ]
    },
    {
      "cell_type": "code",
      "source": [
        "plt.rc('font', family='NanumBarunGothic') \n",
        "#dept_by_accident[:16].plot(kind='barh')\n",
        "plt.figure(figsize=(16,8))\n",
        "plt.bar(partdata.index,partdata)\n",
        "plt.title('청별 교통사고')\n",
        "plt.xlabel('청')\n",
        "plt.ylabel('사고')\n",
        "plt.show()"
      ],
      "metadata": {
        "colab": {
          "base_uri": "https://localhost:8080/",
          "height": 512
        },
        "id": "qhHUyeMWu9kk",
        "outputId": "f8118ebc-4227-48ed-c208-fef0e6a48668"
      },
      "execution_count": null,
      "outputs": [
        {
          "output_type": "display_data",
          "data": {
            "text/plain": [
              "<Figure size 1152x576 with 1 Axes>"
            ],
            "image/png": "[encoded data removed]"
          },
          "metadata": {
            "needs_background": "light"
          }
        }
      ]
    },
    {
      "cell_type": "code",
      "source": [
        "#dept_by_accident[2:16].plot(kind='barh')\n",
        "plt.figure(figsize=(16,8))\n",
        "plt.bar(partdata[2:16].index,partdata[2:16])\n",
        "plt.title('청별 교통사고')\n",
        "plt.xlabel('청')\n",
        "plt.ylabel('사고')\n",
        "plt.show()"
      ],
      "metadata": {
        "colab": {
          "base_uri": "https://localhost:8080/",
          "height": 512
        },
        "id": "dEZVrKKvyB9t",
        "outputId": "03b540d6-2886-4502-ebad-37a1185b61eb"
      },
      "execution_count": null,
      "outputs": [
        {
          "output_type": "display_data",
          "data": {
            "text/plain": [
              "<Figure size 1152x576 with 1 Axes>"
            ],
            "image/png": "[encoded data removed]"
          },
          "metadata": {
            "needs_background": "light"
          }
        }
      ]
    },
    {
      "cell_type": "code",
      "source": [
        "df['Date']=pd.to_datetime(df['RECV_CPLT_DM'], format='%y/%m/%d %H:%M:%S.%f')\n",
        "cnt_time=df['Date']\n",
        "cnt_time\n"
      ],
      "metadata": {
        "colab": {
          "base_uri": "https://localhost:8080/"
        },
        "id": "GTzQrFUfo0Wn",
        "outputId": "e6a3e952-f359-4423-b3ae-943d9a8eeb61"
      },
      "execution_count": null,
      "outputs": [
        {
          "output_type": "execute_result",
          "data": {
            "text/plain": [
              "0       2020-12-01 01:43:07\n",
              "1       2020-12-01 02:05:04\n",
              "2       2020-12-01 02:06:52\n",
              "3       2020-12-01 02:37:25\n",
              "4       2020-12-01 08:17:50\n",
              "                ...        \n",
              "77072   2020-12-31 01:18:16\n",
              "77073   2020-12-31 01:17:45\n",
              "77074   2020-12-31 00:13:50\n",
              "77075   2020-12-31 00:49:29\n",
              "77076   2020-12-31 00:49:06\n",
              "Name: Date, Length: 77077, dtype: datetime64[ns]"
            ]
          },
          "metadata": {},
          "execution_count": 17
        }
      ]
    },
    {
      "cell_type": "code",
      "source": [
        "df['Date_date']=df['Date'].dt.date #날짜별로 데이터처리\n",
        "df['Date_day']=df['Date'].dt.day #일별로 데이터 처리\n",
        "df['Date_time']=df['Date'].dt.time #전체 시간별로 데이터 처리\n",
        "df['Date_hour']=df['Date'].dt.hour #시간별로 데이터 처리(0~23시)\n",
        "df['Date_weekname']=df['Date'].dt.day_name() #요일별 데이터 처리"
      ],
      "metadata": {
        "id": "YsmStXVS4Oe7"
      },
      "execution_count": null,
      "outputs": []
    },
    {
      "cell_type": "code",
      "source": [
        "datedata=df['Date_date'].value_counts().sort_index(ascending=True) #날짜별\n",
        "datedata"
      ],
      "metadata": {
        "colab": {
          "base_uri": "https://localhost:8080/"
        },
        "id": "VYnGiSb449r0",
        "outputId": "808a9ce1-d76d-4425-c802-a1052c696bdc"
      },
      "execution_count": null,
      "outputs": [
        {
          "output_type": "execute_result",
          "data": {
            "text/plain": [
              "2020-12-01    1947\n",
              "2020-12-02    1777\n",
              "2020-12-03    1917\n",
              "2020-12-04    2074\n",
              "2020-12-05    2123\n",
              "2020-12-06    1776\n",
              "2020-12-07    2076\n",
              "2020-12-08    2043\n",
              "2020-12-09    2255\n",
              "2020-12-10    2844\n",
              "2020-12-11    3526\n",
              "2020-12-12    2862\n",
              "2020-12-13    2173\n",
              "2020-12-14    2466\n",
              "2020-12-15    2384\n",
              "2020-12-16    2514\n",
              "2020-12-17    2804\n",
              "2020-12-18    3042\n",
              "2020-12-19    2513\n",
              "2020-12-20    2267\n",
              "2020-12-21    2609\n",
              "2020-12-22    2549\n",
              "2020-12-23    2665\n",
              "2020-12-24    3005\n",
              "2020-12-25    2890\n",
              "2020-12-26    2527\n",
              "2020-12-27    2560\n",
              "2020-12-28    2716\n",
              "2020-12-29    2605\n",
              "2020-12-30    2640\n",
              "2020-12-31    2928\n",
              "Name: Date_date, dtype: int64"
            ]
          },
          "metadata": {},
          "execution_count": 19
        }
      ]
    },
    {
      "cell_type": "code",
      "source": [
        "plt.figure(figsize=(31,8))\n",
        "plt.bar(datedata.index,datedata)\n",
        "plt.title('날짜별 교통사고')\n",
        "plt.xlabel('날짜')\n",
        "plt.ylabel('사고')\n",
        "plt.show()"
      ],
      "metadata": {
        "colab": {
          "base_uri": "https://localhost:8080/",
          "height": 467
        },
        "id": "TMlIxHR3-PiF",
        "outputId": "54b03e11-fcb0-47d0-9809-8ad6e803f21c"
      },
      "execution_count": null,
      "outputs": [
        {
          "output_type": "display_data",
          "data": {
            "text/plain": [
              "<Figure size 2232x576 with 1 Axes>"
            ],
            "image/png": "[encoded data removed]"
          },
          "metadata": {
            "needs_background": "light"
          }
        }
      ]
    },
    {
      "cell_type": "code",
      "source": [
        "hourdata=df['Date_hour'].value_counts().sort_index(ascending=True) #시간별\n",
        "hourdata"
      ],
      "metadata": {
        "colab": {
          "base_uri": "https://localhost:8080/"
        },
        "id": "CnEJjRb156fx",
        "outputId": "85317511-2f71-472f-d256-f6b66ed719a4"
      },
      "execution_count": null,
      "outputs": [
        {
          "output_type": "execute_result",
          "data": {
            "text/plain": [
              "0     3377\n",
              "1     2670\n",
              "2     2088\n",
              "3     1728\n",
              "4     1252\n",
              "5     1161\n",
              "6     1269\n",
              "7     1481\n",
              "8     2125\n",
              "9     2802\n",
              "10    3441\n",
              "11    3429\n",
              "12    3530\n",
              "13    3685\n",
              "14    4111\n",
              "15    4197\n",
              "16    4182\n",
              "17    4313\n",
              "18    4482\n",
              "19    4005\n",
              "20    4033\n",
              "21    4806\n",
              "22    4955\n",
              "23    3955\n",
              "Name: Date_hour, dtype: int64"
            ]
          },
          "metadata": {},
          "execution_count": 21
        }
      ]
    },
    {
      "cell_type": "code",
      "source": [
        "plt.figure(figsize=(10,5))\n",
        "plt.bar(hourdata.index,hourdata)\n",
        "plt.title('시간별 교통사고')\n",
        "plt.xlabel('시간')\n",
        "plt.ylabel('사고')\n",
        "plt.xticks(np.arange(24))\n",
        "plt.show()"
      ],
      "metadata": {
        "colab": {
          "base_uri": "https://localhost:8080/",
          "height": 349
        },
        "id": "1nVNQJLA92RI",
        "outputId": "219d2b02-30c2-4a5d-c688-2182faeeb3f1"
      },
      "execution_count": null,
      "outputs": [
        {
          "output_type": "display_data",
          "data": {
            "text/plain": [
              "<Figure size 720x360 with 1 Axes>"
            ],
            "image/png": "[encoded data removed]"
          },
          "metadata": {
            "needs_background": "light"
          }
        }
      ]
    },
    {
      "cell_type": "code",
      "source": [
        "weekdata=df['Date_weekname'].value_counts().sort_index(ascending=True)\n",
        "weekdata"
      ],
      "metadata": {
        "colab": {
          "base_uri": "https://localhost:8080/"
        },
        "id": "UwTdHrzl6OUq",
        "outputId": "ee83c3ed-80ba-4489-c08d-e55f72372189"
      },
      "execution_count": null,
      "outputs": [
        {
          "output_type": "execute_result",
          "data": {
            "text/plain": [
              "Friday       11532\n",
              "Monday        9867\n",
              "Saturday     10025\n",
              "Sunday        8776\n",
              "Thursday     13498\n",
              "Tuesday      11528\n",
              "Wednesday    11851\n",
              "Name: Date_weekname, dtype: int64"
            ]
          },
          "metadata": {},
          "execution_count": 23
        }
      ]
    },
    {
      "cell_type": "code",
      "source": [
        "weeks=['Monday','Tuesday','Wednesday','Thursday',\"Friday\",\"Saturday\",\"Sunday\"]\n",
        "weekdata=weekdata.agg(weeks)\n",
        "plt.figure(figsize=(8,5))\n",
        "plt.bar(weekdata.index,weekdata)\n",
        "plt.title('요일 별 교통사고')\n",
        "plt.xlabel('요일')\n",
        "plt.ylabel('사고')\n",
        "plt.xticks(rotation=90)\n",
        "plt.show()"
      ],
      "metadata": {
        "colab": {
          "base_uri": "https://localhost:8080/",
          "height": 393
        },
        "id": "uveTqBWr8E1J",
        "outputId": "51396c74-62eb-4fee-a5d6-6ff24fbf08a2"
      },
      "execution_count": null,
      "outputs": [
        {
          "output_type": "display_data",
          "data": {
            "text/plain": [
              "<Figure size 576x360 with 1 Axes>"
            ],
            "image/png": "[encoded data removed]"
          },
          "metadata": {
            "needs_background": "light"
          }
        }
      ]
    },
    {
      "cell_type": "markdown",
      "source": [
        "===========================================================================\n",
        "**401, 402, 403, 404 따로 분류**\n",
        "======================================"
      ],
      "metadata": {
        "id": "oteXoIYDOpjk"
      }
    },
    {
      "cell_type": "code",
      "source": [
        "#EVT_CL_CD(사건종별코드) == 401, 402, 403, 404인 행 \n",
        "is_accident = (df['EVT_CL_CD'] == 401) | (df['EVT_CL_CD']==402) | (df['EVT_CL_CD']==403) | (df['EVT_CL_CD']==404)\n",
        "accident = df[is_accident]\n",
        "accident"
      ],
      "metadata": {
        "colab": {
          "base_uri": "https://localhost:8080/",
          "height": 814
        },
        "id": "SRzgCfpqFIcy",
        "outputId": "a6566491-a2ec-44cb-dc40-19e9a4849d33"
      },
      "execution_count": null,
      "outputs": [
        {
          "output_type": "execute_result",
          "data": {
            "text/plain": [
              "      RECV_DEPT_NM                 RECV_CPLT_DM  NPA_CL  EVT_STAT_CD  \\\n",
              "4              충남청  20/12/01 08:17:50.000000000      19           10   \n",
              "8              충남청  20/12/01 07:37:18.000000000      19           10   \n",
              "9              대전청  20/12/01 07:08:44.000000000      13           10   \n",
              "10             대전청  20/12/01 07:09:20.000000000      13           10   \n",
              "11             충남청  20/12/01 08:21:08.000000000      19           10   \n",
              "...            ...                          ...     ...          ...   \n",
              "76998          충남청  20/12/31 00:34:45.000000000      19           10   \n",
              "77023          충남청  20/12/31 00:12:19.000000000      31           10   \n",
              "77036          대전청  20/12/31 01:08:43.000000000      13           10   \n",
              "77068          대전청  20/12/31 01:17:01.000000000      13           10   \n",
              "77069          대전청  20/12/31 01:18:53.000000000      13           10   \n",
              "\n",
              "       EVT_CL_CD  RPTER_SEX                     HPPN_PNU_ADDR      HPPN_X  \\\n",
              "4            401        2.0    충청남도 천안시 서북구 성정동(행정:성정2동) 1259  127.137160   \n",
              "8            402        1.0  충청남도 천안시 서북구 성환읍 성월리(행정:성환읍) 150  127.136142   \n",
              "9            401        1.0           대전광역시 중구 석교동(석교동) 85-14  127.447545   \n",
              "10           401        2.0        대전광역시 중구 석교동(행정:석교동) 88-11  127.447175   \n",
              "11           402        1.0         충청남도 청양군 남양면 온직리(남양면) 산31  126.807222   \n",
              "...          ...        ...                               ...         ...   \n",
              "76998        401        1.0          충청남도 서산시 온석동(동문1동) 393-3  126.471756   \n",
              "77023        402        1.0          세종특별자치시 세종시 아름동(행정:아름동)   127.249663   \n",
              "77036        401        1.0             대전광역시 중구 대흥동(행정:대흥동)   127.428343   \n",
              "77068        401        1.0       대전광역시 서구 도마동(행정:도마2동) 549-1  127.369099   \n",
              "77069        401        1.0          대전광역시 서구 도마동(도마2동) 549-1  127.368945   \n",
              "\n",
              "          HPPN_Y SME_EVT_YN                Date   Date_date  Date_day  \\\n",
              "4      36.826718        NaN 2020-12-01 08:17:50  2020-12-01         1   \n",
              "8      36.917900        NaN 2020-12-01 07:37:18  2020-12-01         1   \n",
              "9      36.306724        NaN 2020-12-01 07:08:44  2020-12-01         1   \n",
              "10     36.306694        NaN 2020-12-01 07:09:20  2020-12-01         1   \n",
              "11     36.395000        NaN 2020-12-01 08:21:08  2020-12-01         1   \n",
              "...          ...        ...                 ...         ...       ...   \n",
              "76998  36.801603          Y 2020-12-31 00:34:45  2020-12-31        31   \n",
              "77023  36.511364        NaN 2020-12-31 00:12:19  2020-12-31        31   \n",
              "77036  36.324386        NaN 2020-12-31 01:08:43  2020-12-31        31   \n",
              "77068  36.312971        NaN 2020-12-31 01:17:01  2020-12-31        31   \n",
              "77069  36.312984        NaN 2020-12-31 01:18:53  2020-12-31        31   \n",
              "\n",
              "      Date_time  Date_hour Date_weekname  \n",
              "4      08:17:50          8       Tuesday  \n",
              "8      07:37:18          7       Tuesday  \n",
              "9      07:08:44          7       Tuesday  \n",
              "10     07:09:20          7       Tuesday  \n",
              "11     08:21:08          8       Tuesday  \n",
              "...         ...        ...           ...  \n",
              "76998  00:34:45          0      Thursday  \n",
              "77023  00:12:19          0      Thursday  \n",
              "77036  01:08:43          1      Thursday  \n",
              "77068  01:17:01          1      Thursday  \n",
              "77069  01:18:53          1      Thursday  \n",
              "\n",
              "[8017 rows x 16 columns]"
            ],
            "text/html": [
              "\n",
              "  <div id=\"df-bbe5ede3-4b18-4865-80cb-30b266bbe7ba\">\n",
              "    <div class=\"colab-df-container\">\n",
              "      <div>\n",
              "<style scoped>\n",
              "    .dataframe tbody tr th:only-of-type {\n",
              "        vertical-align: middle;\n",
              "    }\n",
              "\n",
              "    .dataframe tbody tr th {\n",
              "        vertical-align: top;\n",
              "    }\n",
              "\n",
              "    .dataframe thead th {\n",
              "        text-align: right;\n",
              "    }\n",
              "</style>\n",
              "<table border=\"1\" class=\"dataframe\">\n",
              "  <thead>\n",
              "    <tr style=\"text-align: right;\">\n",
              "      <th></th>\n",
              "      <th>RECV_DEPT_NM</th>\n",
              "      <th>RECV_CPLT_DM</th>\n",
              "      <th>NPA_CL</th>\n",
              "      <th>EVT_STAT_CD</th>\n",
              "      <th>EVT_CL_CD</th>\n",
              "      <th>RPTER_SEX</th>\n",
              "      <th>HPPN_PNU_ADDR</th>\n",
              "      <th>HPPN_X</th>\n",
              "      <th>HPPN_Y</th>\n",
              "      <th>SME_EVT_YN</th>\n",
              "      <th>Date</th>\n",
              "      <th>Date_date</th>\n",
              "      <th>Date_day</th>\n",
              "      <th>Date_time</th>\n",
              "      <th>Date_hour</th>\n",
              "      <th>Date_weekname</th>\n",
              "    </tr>\n",
              "  </thead>\n",
              "  <tbody>\n",
              "    <tr>\n",
              "      <th>4</th>\n",
              "      <td>충남청</td>\n",
              "      <td>20/12/01 08:17:50.000000000</td>\n",
              "      <td>19</td>\n",
              "      <td>10</td>\n",
              "      <td>401</td>\n",
              "      <td>2.0</td>\n",
              "      <td>충청남도 천안시 서북구 성정동(행정:성정2동) 1259</td>\n",
              "      <td>127.137160</td>\n",
              "      <td>36.826718</td>\n",
              "      <td>NaN</td>\n",
              "      <td>2020-12-01 08:17:50</td>\n",
              "      <td>2020-12-01</td>\n",
              "      <td>1</td>\n",
              "      <td>08:17:50</td>\n",
              "      <td>8</td>\n",
              "      <td>Tuesday</td>\n",
              "    </tr>\n",
              "    <tr>\n",
              "      <th>8</th>\n",
              "      <td>충남청</td>\n",
              "      <td>20/12/01 07:37:18.000000000</td>\n",
              "      <td>19</td>\n",
              "      <td>10</td>\n",
              "      <td>402</td>\n",
              "      <td>1.0</td>\n",
              "      <td>충청남도 천안시 서북구 성환읍 성월리(행정:성환읍) 150</td>\n",
              "      <td>127.136142</td>\n",
              "      <td>36.917900</td>\n",
              "      <td>NaN</td>\n",
              "      <td>2020-12-01 07:37:18</td>\n",
              "      <td>2020-12-01</td>\n",
              "      <td>1</td>\n",
              "      <td>07:37:18</td>\n",
              "      <td>7</td>\n",
              "      <td>Tuesday</td>\n",
              "    </tr>\n",
              "    <tr>\n",
              "      <th>9</th>\n",
              "      <td>대전청</td>\n",
              "      <td>20/12/01 07:08:44.000000000</td>\n",
              "      <td>13</td>\n",
              "      <td>10</td>\n",
              "      <td>401</td>\n",
              "      <td>1.0</td>\n",
              "      <td>대전광역시 중구 석교동(석교동) 85-14</td>\n",
              "      <td>127.447545</td>\n",
              "      <td>36.306724</td>\n",
              "      <td>NaN</td>\n",
              "      <td>2020-12-01 07:08:44</td>\n",
              "      <td>2020-12-01</td>\n",
              "      <td>1</td>\n",
              "      <td>07:08:44</td>\n",
              "      <td>7</td>\n",
              "      <td>Tuesday</td>\n",
              "    </tr>\n",
              "    <tr>\n",
              "      <th>10</th>\n",
              "      <td>대전청</td>\n",
              "      <td>20/12/01 07:09:20.000000000</td>\n",
              "      <td>13</td>\n",
              "      <td>10</td>\n",
              "      <td>401</td>\n",
              "      <td>2.0</td>\n",
              "      <td>대전광역시 중구 석교동(행정:석교동) 88-11</td>\n",
              "      <td>127.447175</td>\n",
              "      <td>36.306694</td>\n",
              "      <td>NaN</td>\n",
              "      <td>2020-12-01 07:09:20</td>\n",
              "      <td>2020-12-01</td>\n",
              "      <td>1</td>\n",
              "      <td>07:09:20</td>\n",
              "      <td>7</td>\n",
              "      <td>Tuesday</td>\n",
              "    </tr>\n",
              "    <tr>\n",
              "      <th>11</th>\n",
              "      <td>충남청</td>\n",
              "      <td>20/12/01 08:21:08.000000000</td>\n",
              "      <td>19</td>\n",
              "      <td>10</td>\n",
              "      <td>402</td>\n",
              "      <td>1.0</td>\n",
              "      <td>충청남도 청양군 남양면 온직리(남양면) 산31</td>\n",
              "      <td>126.807222</td>\n",
              "      <td>36.395000</td>\n",
              "      <td>NaN</td>\n",
              "      <td>2020-12-01 08:21:08</td>\n",
              "      <td>2020-12-01</td>\n",
              "      <td>1</td>\n",
              "      <td>08:21:08</td>\n",
              "      <td>8</td>\n",
              "      <td>Tuesday</td>\n",
              "    </tr>\n",
              "    <tr>\n",
              "      <th>...</th>\n",
              "      <td>...</td>\n",
              "      <td>...</td>\n",
              "      <td>...</td>\n",
              "      <td>...</td>\n",
              "      <td>...</td>\n",
              "      <td>...</td>\n",
              "      <td>...</td>\n",
              "      <td>...</td>\n",
              "      <td>...</td>\n",
              "      <td>...</td>\n",
              "      <td>...</td>\n",
              "      <td>...</td>\n",
              "      <td>...</td>\n",
              "      <td>...</td>\n",
              "      <td>...</td>\n",
              "      <td>...</td>\n",
              "    </tr>\n",
              "    <tr>\n",
              "      <th>76998</th>\n",
              "      <td>충남청</td>\n",
              "      <td>20/12/31 00:34:45.000000000</td>\n",
              "      <td>19</td>\n",
              "      <td>10</td>\n",
              "      <td>401</td>\n",
              "      <td>1.0</td>\n",
              "      <td>충청남도 서산시 온석동(동문1동) 393-3</td>\n",
              "      <td>126.471756</td>\n",
              "      <td>36.801603</td>\n",
              "      <td>Y</td>\n",
              "      <td>2020-12-31 00:34:45</td>\n",
              "      <td>2020-12-31</td>\n",
              "      <td>31</td>\n",
              "      <td>00:34:45</td>\n",
              "      <td>0</td>\n",
              "      <td>Thursday</td>\n",
              "    </tr>\n",
              "    <tr>\n",
              "      <th>77023</th>\n",
              "      <td>충남청</td>\n",
              "      <td>20/12/31 00:12:19.000000000</td>\n",
              "      <td>31</td>\n",
              "      <td>10</td>\n",
              "      <td>402</td>\n",
              "      <td>1.0</td>\n",
              "      <td>세종특별자치시 세종시 아름동(행정:아름동)</td>\n",
              "      <td>127.249663</td>\n",
              "      <td>36.511364</td>\n",
              "      <td>NaN</td>\n",
              "      <td>2020-12-31 00:12:19</td>\n",
              "      <td>2020-12-31</td>\n",
              "      <td>31</td>\n",
              "      <td>00:12:19</td>\n",
              "      <td>0</td>\n",
              "      <td>Thursday</td>\n",
              "    </tr>\n",
              "    <tr>\n",
              "      <th>77036</th>\n",
              "      <td>대전청</td>\n",
              "      <td>20/12/31 01:08:43.000000000</td>\n",
              "      <td>13</td>\n",
              "      <td>10</td>\n",
              "      <td>401</td>\n",
              "      <td>1.0</td>\n",
              "      <td>대전광역시 중구 대흥동(행정:대흥동)</td>\n",
              "      <td>127.428343</td>\n",
              "      <td>36.324386</td>\n",
              "      <td>NaN</td>\n",
              "      <td>2020-12-31 01:08:43</td>\n",
              "      <td>2020-12-31</td>\n",
              "      <td>31</td>\n",
              "      <td>01:08:43</td>\n",
              "      <td>1</td>\n",
              "      <td>Thursday</td>\n",
              "    </tr>\n",
              "    <tr>\n",
              "      <th>77068</th>\n",
              "      <td>대전청</td>\n",
              "      <td>20/12/31 01:17:01.000000000</td>\n",
              "      <td>13</td>\n",
              "      <td>10</td>\n",
              "      <td>401</td>\n",
              "      <td>1.0</td>\n",
              "      <td>대전광역시 서구 도마동(행정:도마2동) 549-1</td>\n",
              "      <td>127.369099</td>\n",
              "      <td>36.312971</td>\n",
              "      <td>NaN</td>\n",
              "      <td>2020-12-31 01:17:01</td>\n",
              "      <td>2020-12-31</td>\n",
              "      <td>31</td>\n",
              "      <td>01:17:01</td>\n",
              "      <td>1</td>\n",
              "      <td>Thursday</td>\n",
              "    </tr>\n",
              "    <tr>\n",
              "      <th>77069</th>\n",
              "      <td>대전청</td>\n",
              "      <td>20/12/31 01:18:53.000000000</td>\n",
              "      <td>13</td>\n",
              "      <td>10</td>\n",
              "      <td>401</td>\n",
              "      <td>1.0</td>\n",
              "      <td>대전광역시 서구 도마동(도마2동) 549-1</td>\n",
              "      <td>127.368945</td>\n",
              "      <td>36.312984</td>\n",
              "      <td>NaN</td>\n",
              "      <td>2020-12-31 01:18:53</td>\n",
              "      <td>2020-12-31</td>\n",
              "      <td>31</td>\n",
              "      <td>01:18:53</td>\n",
              "      <td>1</td>\n",
              "      <td>Thursday</td>\n",
              "    </tr>\n",
              "  </tbody>\n",
              "</table>\n",
              "<p>8017 rows × 16 columns</p>\n",
              "</div>\n",
              "      <button class=\"colab-df-convert\" onclick=\"convertToInteractive('df-bbe5ede3-4b18-4865-80cb-30b266bbe7ba')\"\n",
              "              title=\"Convert this dataframe to an interactive table.\"\n",
              "              style=\"display:none;\">\n",
              "        \n",
              "  <svg xmlns=\"http://www.w3.org/2000/svg\" height=\"24px\"viewBox=\"0 0 24 24\"\n",
              "       width=\"24px\">\n",
              "    <path d=\"M0 0h24v24H0V0z\" fill=\"none\"/>\n",
              "    <path d=\"M18.56 5.44l.94 2.06.94-2.06 2.06-.94-2.06-.94-.94-2.06-.94 2.06-2.06.94zm-11 1L8.5 8.5l.94-2.06 2.06-.94-2.06-.94L8.5 2.5l-.94 2.06-2.06.94zm10 10l.94 2.06.94-2.06 2.06-.94-2.06-.94-.94-2.06-.94 2.06-2.06.94z\"/><path d=\"M17.41 7.96l-1.37-1.37c-.4-.4-.92-.59-1.43-.59-.52 0-1.04.2-1.43.59L10.3 9.45l-7.72 7.72c-.78.78-.78 2.05 0 2.83L4 21.41c.39.39.9.59 1.41.59.51 0 1.02-.2 1.41-.59l7.78-7.78 2.81-2.81c.8-.78.8-2.07 0-2.86zM5.41 20L4 18.59l7.72-7.72 1.47 1.35L5.41 20z\"/>\n",
              "  </svg>\n",
              "      </button>\n",
              "      \n",
              "  <style>\n",
              "    .colab-df-container {\n",
              "      display:flex;\n",
              "      flex-wrap:wrap;\n",
              "      gap: 12px;\n",
              "    }\n",
              "\n",
              "    .colab-df-convert {\n",
              "      background-color: #E8F0FE;\n",
              "      border: none;\n",
              "      border-radius: 50%;\n",
              "      cursor: pointer;\n",
              "      display: none;\n",
              "      fill: #1967D2;\n",
              "      height: 32px;\n",
              "      padding: 0 0 0 0;\n",
              "      width: 32px;\n",
              "    }\n",
              "\n",
              "    .colab-df-convert:hover {\n",
              "      background-color: #E2EBFA;\n",
              "      box-shadow: 0px 1px 2px rgba(60, 64, 67, 0.3), 0px 1px 3px 1px rgba(60, 64, 67, 0.15);\n",
              "      fill: #174EA6;\n",
              "    }\n",
              "\n",
              "    [theme=dark] .colab-df-convert {\n",
              "      background-color: #3B4455;\n",
              "      fill: #D2E3FC;\n",
              "    }\n",
              "\n",
              "    [theme=dark] .colab-df-convert:hover {\n",
              "      background-color: #434B5C;\n",
              "      box-shadow: 0px 1px 3px 1px rgba(0, 0, 0, 0.15);\n",
              "      filter: drop-shadow(0px 1px 2px rgba(0, 0, 0, 0.3));\n",
              "      fill: #FFFFFF;\n",
              "    }\n",
              "  </style>\n",
              "\n",
              "      <script>\n",
              "        const buttonEl =\n",
              "          document.querySelector('#df-bbe5ede3-4b18-4865-80cb-30b266bbe7ba button.colab-df-convert');\n",
              "        buttonEl.style.display =\n",
              "          google.colab.kernel.accessAllowed ? 'block' : 'none';\n",
              "\n",
              "        async function convertToInteractive(key) {\n",
              "          const element = document.querySelector('#df-bbe5ede3-4b18-4865-80cb-30b266bbe7ba');\n",
              "          const dataTable =\n",
              "            await google.colab.kernel.invokeFunction('convertToInteractive',\n",
              "                                                     [key], {});\n",
              "          if (!dataTable) return;\n",
              "\n",
              "          const docLinkHtml = 'Like what you see? Visit the ' +\n",
              "            '<a target=\"_blank\" href=https://colab.research.google.com/notebooks/data_table.ipynb>data table notebook</a>'\n",
              "            + ' to learn more about interactive tables.';\n",
              "          element.innerHTML = '';\n",
              "          dataTable['output_type'] = 'display_data';\n",
              "          await google.colab.output.renderOutput(dataTable, element);\n",
              "          const docLink = document.createElement('div');\n",
              "          docLink.innerHTML = docLinkHtml;\n",
              "          element.appendChild(docLink);\n",
              "        }\n",
              "      </script>\n",
              "    </div>\n",
              "  </div>\n",
              "  "
            ]
          },
          "metadata": {},
          "execution_count": 25
        }
      ]
    },
    {
      "cell_type": "code",
      "source": [
        "accident[['HPPN_X', 'HPPN_Y']].value_counts().loc[lambda x:x>1]"
      ],
      "metadata": {
        "colab": {
          "base_uri": "https://localhost:8080/"
        },
        "id": "06fTtUovcbga",
        "outputId": "a35e36f9-a55d-4f50-8f04-360ac4abfc96"
      },
      "execution_count": null,
      "outputs": [
        {
          "output_type": "execute_result",
          "data": {
            "text/plain": [
              "HPPN_X      HPPN_Y   \n",
              "127.404663  36.341685    236\n",
              "127.415465  36.358555     17\n",
              "127.432362  36.358932     15\n",
              "127.403651  36.357021     12\n",
              "127.432176  36.359160      9\n",
              "                        ... \n",
              "127.380750  36.327233      2\n",
              "127.301330  36.486318      2\n",
              "127.165278  36.812222      2\n",
              "127.099780  36.827350      2\n",
              "126.557850  37.026267      2\n",
              "Length: 668, dtype: int64"
            ]
          },
          "metadata": {},
          "execution_count": 26
        }
      ]
    },
    {
      "cell_type": "code",
      "source": [
        "sexdata_20=accident.RPTER_SEX.value_counts().sort_index(ascending=True)\n",
        "\n",
        "plt.figure(figsize=(8,8))\n",
        "plt.bar(sexdata_20.index,sexdata_20)\n",
        "plt.title('신고자 성별')\n",
        "plt.xlabel('성별')\n",
        "plt.ylabel('숫자')\n",
        "plt.show()"
      ],
      "metadata": {
        "colab": {
          "base_uri": "https://localhost:8080/",
          "height": 512
        },
        "id": "G43cAreXHfn1",
        "outputId": "c1ef36e7-d019-4f2e-afa9-f9d31a1f867e"
      },
      "execution_count": null,
      "outputs": [
        {
          "output_type": "display_data",
          "data": {
            "text/plain": [
              "<Figure size 576x576 with 1 Axes>"
            ],
            "image/png": "[encoded data removed]"
          },
          "metadata": {
            "needs_background": "light"
          }
        }
      ]
    },
    {
      "cell_type": "code",
      "source": [
        "accident_dept_20=accident.RECV_DEPT_NM\n",
        "accident_dept_20"
      ],
      "metadata": {
        "colab": {
          "base_uri": "https://localhost:8080/"
        },
        "id": "SJ9-0ajKIhNN",
        "outputId": "2a3ace03-27c9-418f-a6a2-d4dd6f6e40bf"
      },
      "execution_count": null,
      "outputs": [
        {
          "output_type": "execute_result",
          "data": {
            "text/plain": [
              "4        충남청\n",
              "8        충남청\n",
              "9        대전청\n",
              "10       대전청\n",
              "11       충남청\n",
              "        ... \n",
              "76998    충남청\n",
              "77023    충남청\n",
              "77036    대전청\n",
              "77068    대전청\n",
              "77069    대전청\n",
              "Name: RECV_DEPT_NM, Length: 8017, dtype: object"
            ]
          },
          "metadata": {},
          "execution_count": 28
        }
      ]
    },
    {
      "cell_type": "code",
      "source": [
        "partdata_20=dept_by_accident=accident_dept_20.value_counts()\n",
        "partdata_20"
      ],
      "metadata": {
        "colab": {
          "base_uri": "https://localhost:8080/"
        },
        "id": "Xx4jLiDOLq35",
        "outputId": "3fb64264-deee-460f-de23-5ad5f4d52ea7"
      },
      "execution_count": null,
      "outputs": [
        {
          "output_type": "execute_result",
          "data": {
            "text/plain": [
              "충남청         4381\n",
              "대전청         3488\n",
              "2지구대(충남)      85\n",
              "남대전지구대        11\n",
              "대전파출소         10\n",
              "대전역지구대        10\n",
              "대전유성           8\n",
              "서대전지구대         7\n",
              "세종청            4\n",
              "대전대덕           4\n",
              "대전중부           3\n",
              "세종             3\n",
              "대전둔산           2\n",
              "대전동부           1\n",
              "Name: RECV_DEPT_NM, dtype: int64"
            ]
          },
          "metadata": {},
          "execution_count": 29
        }
      ]
    },
    {
      "cell_type": "code",
      "source": [
        "plt.figure(figsize=(16,8))\n",
        "plt.bar(partdata_20.index,partdata_20)\n",
        "plt.title('청별 교통사고')\n",
        "plt.xlabel('청')\n",
        "plt.ylabel('사고')\n",
        "plt.show()"
      ],
      "metadata": {
        "colab": {
          "base_uri": "https://localhost:8080/",
          "height": 512
        },
        "id": "CESBfyBlL4LH",
        "outputId": "7da02f9e-f7d3-4350-f8ce-2f2cd9999d97"
      },
      "execution_count": null,
      "outputs": [
        {
          "output_type": "display_data",
          "data": {
            "text/plain": [
              "<Figure size 1152x576 with 1 Axes>"
            ],
            "image/png": "[encoded data removed]"
          },
          "metadata": {
            "needs_background": "light"
          }
        }
      ]
    },
    {
      "cell_type": "code",
      "source": [
        "plt.figure(figsize=(16,8))\n",
        "plt.bar(partdata_20[2:16].index,partdata_20[2:16])\n",
        "plt.title('청별 교통사고')\n",
        "plt.xlabel('청')\n",
        "plt.ylabel('사고')\n",
        "plt.show()"
      ],
      "metadata": {
        "colab": {
          "base_uri": "https://localhost:8080/",
          "height": 512
        },
        "id": "zmLgMElpL-al",
        "outputId": "131d064e-1617-44c2-e1c3-403b99cd252a"
      },
      "execution_count": null,
      "outputs": [
        {
          "output_type": "display_data",
          "data": {
            "text/plain": [
              "<Figure size 1152x576 with 1 Axes>"
            ],
            "image/png": "[encoded data removed]"
          },
          "metadata": {
            "needs_background": "light"
          }
        }
      ]
    },
    {
      "cell_type": "code",
      "source": [
        "#df['Date']=pd.to_datetime(df['RECV_CPLT_DM'], format='%y/%m/%d %H:%M:%S.%f')\n",
        "accident.Date"
      ],
      "metadata": {
        "colab": {
          "base_uri": "https://localhost:8080/"
        },
        "id": "43l0OI74MNp9",
        "outputId": "d532ec79-6bc6-482c-a048-085bb4d26d10"
      },
      "execution_count": null,
      "outputs": [
        {
          "output_type": "execute_result",
          "data": {
            "text/plain": [
              "4       2020-12-01 08:17:50\n",
              "8       2020-12-01 07:37:18\n",
              "9       2020-12-01 07:08:44\n",
              "10      2020-12-01 07:09:20\n",
              "11      2020-12-01 08:21:08\n",
              "                ...        \n",
              "76998   2020-12-31 00:34:45\n",
              "77023   2020-12-31 00:12:19\n",
              "77036   2020-12-31 01:08:43\n",
              "77068   2020-12-31 01:17:01\n",
              "77069   2020-12-31 01:18:53\n",
              "Name: Date, Length: 8017, dtype: datetime64[ns]"
            ]
          },
          "metadata": {},
          "execution_count": 32
        }
      ]
    },
    {
      "cell_type": "code",
      "source": [
        "datedata_20=accident.Date_date.value_counts().sort_index(ascending=True) #날짜별\n",
        "datedata_20"
      ],
      "metadata": {
        "colab": {
          "base_uri": "https://localhost:8080/"
        },
        "id": "tPSUS23rMhmM",
        "outputId": "80f7e07d-8652-46ea-a413-07ccf2336bf4"
      },
      "execution_count": null,
      "outputs": [
        {
          "output_type": "execute_result",
          "data": {
            "text/plain": [
              "2020-12-01    285\n",
              "2020-12-02    309\n",
              "2020-12-03    302\n",
              "2020-12-04    332\n",
              "2020-12-05    286\n",
              "2020-12-06    215\n",
              "2020-12-07    318\n",
              "2020-12-08    274\n",
              "2020-12-09    259\n",
              "2020-12-10    267\n",
              "2020-12-11    271\n",
              "2020-12-12    261\n",
              "2020-12-13    167\n",
              "2020-12-14    233\n",
              "2020-12-15    282\n",
              "2020-12-16    233\n",
              "2020-12-17    251\n",
              "2020-12-18    335\n",
              "2020-12-19    228\n",
              "2020-12-20    164\n",
              "2020-12-21    290\n",
              "2020-12-22    213\n",
              "2020-12-23    276\n",
              "2020-12-24    315\n",
              "2020-12-25    193\n",
              "2020-12-26    204\n",
              "2020-12-27    150\n",
              "2020-12-28    233\n",
              "2020-12-29    220\n",
              "2020-12-30    225\n",
              "2020-12-31    426\n",
              "Name: Date_date, dtype: int64"
            ]
          },
          "metadata": {},
          "execution_count": 33
        }
      ]
    },
    {
      "cell_type": "code",
      "source": [
        "plt.figure(figsize=(31,8))\n",
        "plt.bar(datedata_20.index,datedata_20)\n",
        "plt.title('날짜별 교통사고')\n",
        "plt.xlabel('날짜')\n",
        "plt.ylabel('사고')\n",
        "plt.show()"
      ],
      "metadata": {
        "colab": {
          "base_uri": "https://localhost:8080/",
          "height": 468
        },
        "id": "x6cFf0reM4eA",
        "outputId": "6e0a7853-7493-4de2-93f2-1a48f10fa88d"
      },
      "execution_count": null,
      "outputs": [
        {
          "output_type": "display_data",
          "data": {
            "text/plain": [
              "<Figure size 2232x576 with 1 Axes>"
            ],
            "image/png": "[encoded data removed]"
          },
          "metadata": {
            "needs_background": "light"
          }
        }
      ]
    },
    {
      "cell_type": "code",
      "source": [
        "hourdata_20=accident.Date_hour.value_counts().sort_index(ascending=True) #시간별\n",
        "hourdata_20"
      ],
      "metadata": {
        "colab": {
          "base_uri": "https://localhost:8080/"
        },
        "id": "7kEbBPpoM6MW",
        "outputId": "a3d8c6d5-0bcd-4fc7-d3a3-5dacb6e077a7"
      },
      "execution_count": null,
      "outputs": [
        {
          "output_type": "execute_result",
          "data": {
            "text/plain": [
              "0     163\n",
              "1     115\n",
              "2      67\n",
              "3      54\n",
              "4      38\n",
              "5      71\n",
              "6     132\n",
              "7     275\n",
              "8     419\n",
              "9     396\n",
              "10    424\n",
              "11    417\n",
              "12    427\n",
              "13    465\n",
              "14    472\n",
              "15    523\n",
              "16    483\n",
              "17    598\n",
              "18    744\n",
              "19    431\n",
              "20    372\n",
              "21    410\n",
              "22    331\n",
              "23    190\n",
              "Name: Date_hour, dtype: int64"
            ]
          },
          "metadata": {},
          "execution_count": 35
        }
      ]
    },
    {
      "cell_type": "code",
      "source": [
        "plt.figure(figsize=(10,5))\n",
        "plt.bar(hourdata_20.index,hourdata_20)\n",
        "plt.title('시간별 교통사고')\n",
        "plt.xlabel('시간')\n",
        "plt.ylabel('사고')\n",
        "plt.xticks(np.arange(24))\n",
        "plt.show()"
      ],
      "metadata": {
        "colab": {
          "base_uri": "https://localhost:8080/",
          "height": 349
        },
        "id": "93KZDOMRNGYj",
        "outputId": "735624fd-2d07-468f-8aae-ad158d7d5db9"
      },
      "execution_count": null,
      "outputs": [
        {
          "output_type": "display_data",
          "data": {
            "text/plain": [
              "<Figure size 720x360 with 1 Axes>"
            ],
            "image/png": "[encoded data removed]"
          },
          "metadata": {
            "needs_background": "light"
          }
        }
      ]
    },
    {
      "cell_type": "code",
      "source": [
        "weekdata_20=accident.Date_weekname.value_counts().sort_index(ascending=True)\n",
        "weekdata_20"
      ],
      "metadata": {
        "colab": {
          "base_uri": "https://localhost:8080/"
        },
        "id": "gJJXGst8NIjd",
        "outputId": "42f6e43e-4790-4089-aa29-520a09f436ed"
      },
      "execution_count": null,
      "outputs": [
        {
          "output_type": "execute_result",
          "data": {
            "text/plain": [
              "Friday       1131\n",
              "Monday       1074\n",
              "Saturday      979\n",
              "Sunday        696\n",
              "Thursday     1561\n",
              "Tuesday      1274\n",
              "Wednesday    1302\n",
              "Name: Date_weekname, dtype: int64"
            ]
          },
          "metadata": {},
          "execution_count": 37
        }
      ]
    },
    {
      "cell_type": "code",
      "source": [
        "weeks=['Monday','Tuesday','Wednesday','Thursday',\"Friday\",\"Saturday\",\"Sunday\"]\n",
        "weekdata_20=weekdata_20.agg(weeks)\n",
        "plt.figure(figsize=(8,5))\n",
        "plt.bar(weekdata_20.index,weekdata_20)\n",
        "plt.title('요일 별 교통사고')\n",
        "plt.xlabel('요일')\n",
        "plt.ylabel('사고')\n",
        "plt.xticks(rotation=90)\n",
        "plt.show()"
      ],
      "metadata": {
        "colab": {
          "base_uri": "https://localhost:8080/",
          "height": 393
        },
        "id": "Wt7FCr7TNTHM",
        "outputId": "48c3a046-5ef5-45fe-fc38-e2802babb927"
      },
      "execution_count": null,
      "outputs": [
        {
          "output_type": "display_data",
          "data": {
            "text/plain": [
              "<Figure size 576x360 with 1 Axes>"
            ],
            "image/png": "[encoded data removed]"
          },
          "metadata": {
            "needs_background": "light"
          }
        }
      ]
    },
    {
      "cell_type": "code",
      "source": [
        "#충청남도에서 발생한 교통사고\n",
        "is_chungnam_acc_KP2020 = accident['HPPN_PNU_ADDR'].str.contains(\"충청남도\", na = False)\n",
        "chungnam_accident_KP2020 = accident[is_chungnam_acc_KP2020]\n",
        "chungnam_accident_KP2020"
      ],
      "metadata": {
        "colab": {
          "base_uri": "https://localhost:8080/",
          "height": 814
        },
        "id": "LMirpTG6QHBU",
        "outputId": "9d38a0ae-9da5-4024-ade1-4e2013a772ec"
      },
      "execution_count": null,
      "outputs": [
        {
          "output_type": "execute_result",
          "data": {
            "text/plain": [
              "      RECV_DEPT_NM                 RECV_CPLT_DM  NPA_CL  EVT_STAT_CD  \\\n",
              "4              충남청  20/12/01 08:17:50.000000000      19           10   \n",
              "8              충남청  20/12/01 07:37:18.000000000      19           10   \n",
              "11             충남청  20/12/01 08:21:08.000000000      19           10   \n",
              "31             충남청  20/12/01 01:36:38.000000000      19           10   \n",
              "57             충남청  20/12/01 02:23:03.000000000      19           10   \n",
              "...            ...                          ...     ...          ...   \n",
              "76855          충남청  20/12/30 17:48:50.000000000      19           10   \n",
              "76957          충남청  20/12/30 16:41:25.000000000      19           10   \n",
              "76971          충남청  20/12/31 00:15:47.000000000      19           10   \n",
              "76995          충남청  20/12/31 00:33:54.000000000      19           10   \n",
              "76998          충남청  20/12/31 00:34:45.000000000      19           10   \n",
              "\n",
              "       EVT_CL_CD  RPTER_SEX                     HPPN_PNU_ADDR      HPPN_X  \\\n",
              "4            401        2.0    충청남도 천안시 서북구 성정동(행정:성정2동) 1259  127.137160   \n",
              "8            402        1.0  충청남도 천안시 서북구 성환읍 성월리(행정:성환읍) 150  127.136142   \n",
              "11           402        1.0         충청남도 청양군 남양면 온직리(남양면) 산31  126.807222   \n",
              "31           401        1.0    충청남도 서산시 대산읍 대로리(행정:대산읍) 216-3  126.412290   \n",
              "57           401        1.0    충청남도 아산시 둔포면 송용리(행정:둔포면) 71-68  127.032318   \n",
              "...          ...        ...                               ...         ...   \n",
              "76855        401        3.0        충청남도 서산시 석남동(행정:석남동) 16-28  126.453121   \n",
              "76957        401        1.0       충청남도 예산군 덕산면 신평리(덕산면) 171-5  126.661613   \n",
              "76971        401        1.0    충청남도 아산시 둔포면 둔포리(행정:둔포면) 415-3  127.037671   \n",
              "76995        401        1.0          충청남도 서산시 온석동(동문1동) 354-2  126.471991   \n",
              "76998        401        1.0          충청남도 서산시 온석동(동문1동) 393-3  126.471756   \n",
              "\n",
              "          HPPN_Y SME_EVT_YN                Date   Date_date  Date_day  \\\n",
              "4      36.826718        NaN 2020-12-01 08:17:50  2020-12-01         1   \n",
              "8      36.917900        NaN 2020-12-01 07:37:18  2020-12-01         1   \n",
              "11     36.395000        NaN 2020-12-01 08:21:08  2020-12-01         1   \n",
              "31     36.967612        NaN 2020-12-01 01:36:38  2020-12-01         1   \n",
              "57     36.921510        NaN 2020-12-01 02:23:03  2020-12-01         1   \n",
              "...          ...        ...                 ...         ...       ...   \n",
              "76855  36.771080        NaN 2020-12-30 17:48:50  2020-12-30        30   \n",
              "76957  36.694186        NaN 2020-12-30 16:41:25  2020-12-30        30   \n",
              "76971  36.927216          Y 2020-12-31 00:15:47  2020-12-31        31   \n",
              "76995  36.801294          Y 2020-12-31 00:33:54  2020-12-31        31   \n",
              "76998  36.801603          Y 2020-12-31 00:34:45  2020-12-31        31   \n",
              "\n",
              "      Date_time  Date_hour Date_weekname  \n",
              "4      08:17:50          8       Tuesday  \n",
              "8      07:37:18          7       Tuesday  \n",
              "11     08:21:08          8       Tuesday  \n",
              "31     01:36:38          1       Tuesday  \n",
              "57     02:23:03          2       Tuesday  \n",
              "...         ...        ...           ...  \n",
              "76855  17:48:50         17     Wednesday  \n",
              "76957  16:41:25         16     Wednesday  \n",
              "76971  00:15:47          0      Thursday  \n",
              "76995  00:33:54          0      Thursday  \n",
              "76998  00:34:45          0      Thursday  \n",
              "\n",
              "[3849 rows x 16 columns]"
            ],
            "text/html": [
              "\n",
              "  <div id=\"df-ac20ec59-4d99-4f8b-8ada-13d04d6c9e61\">\n",
              "    <div class=\"colab-df-container\">\n",
              "      <div>\n",
              "<style scoped>\n",
              "    .dataframe tbody tr th:only-of-type {\n",
              "        vertical-align: middle;\n",
              "    }\n",
              "\n",
              "    .dataframe tbody tr th {\n",
              "        vertical-align: top;\n",
              "    }\n",
              "\n",
              "    .dataframe thead th {\n",
              "        text-align: right;\n",
              "    }\n",
              "</style>\n",
              "<table border=\"1\" class=\"dataframe\">\n",
              "  <thead>\n",
              "    <tr style=\"text-align: right;\">\n",
              "      <th></th>\n",
              "      <th>RECV_DEPT_NM</th>\n",
              "      <th>RECV_CPLT_DM</th>\n",
              "      <th>NPA_CL</th>\n",
              "      <th>EVT_STAT_CD</th>\n",
              "      <th>EVT_CL_CD</th>\n",
              "      <th>RPTER_SEX</th>\n",
              "      <th>HPPN_PNU_ADDR</th>\n",
              "      <th>HPPN_X</th>\n",
              "      <th>HPPN_Y</th>\n",
              "      <th>SME_EVT_YN</th>\n",
              "      <th>Date</th>\n",
              "      <th>Date_date</th>\n",
              "      <th>Date_day</th>\n",
              "      <th>Date_time</th>\n",
              "      <th>Date_hour</th>\n",
              "      <th>Date_weekname</th>\n",
              "    </tr>\n",
              "  </thead>\n",
              "  <tbody>\n",
              "    <tr>\n",
              "      <th>4</th>\n",
              "      <td>충남청</td>\n",
              "      <td>20/12/01 08:17:50.000000000</td>\n",
              "      <td>19</td>\n",
              "      <td>10</td>\n",
              "      <td>401</td>\n",
              "      <td>2.0</td>\n",
              "      <td>충청남도 천안시 서북구 성정동(행정:성정2동) 1259</td>\n",
              "      <td>127.137160</td>\n",
              "      <td>36.826718</td>\n",
              "      <td>NaN</td>\n",
              "      <td>2020-12-01 08:17:50</td>\n",
              "      <td>2020-12-01</td>\n",
              "      <td>1</td>\n",
              "      <td>08:17:50</td>\n",
              "      <td>8</td>\n",
              "      <td>Tuesday</td>\n",
              "    </tr>\n",
              "    <tr>\n",
              "      <th>8</th>\n",
              "      <td>충남청</td>\n",
              "      <td>20/12/01 07:37:18.000000000</td>\n",
              "      <td>19</td>\n",
              "      <td>10</td>\n",
              "      <td>402</td>\n",
              "      <td>1.0</td>\n",
              "      <td>충청남도 천안시 서북구 성환읍 성월리(행정:성환읍) 150</td>\n",
              "      <td>127.136142</td>\n",
              "      <td>36.917900</td>\n",
              "      <td>NaN</td>\n",
              "      <td>2020-12-01 07:37:18</td>\n",
              "      <td>2020-12-01</td>\n",
              "      <td>1</td>\n",
              "      <td>07:37:18</td>\n",
              "      <td>7</td>\n",
              "      <td>Tuesday</td>\n",
              "    </tr>\n",
              "    <tr>\n",
              "      <th>11</th>\n",
              "      <td>충남청</td>\n",
              "      <td>20/12/01 08:21:08.000000000</td>\n",
              "      <td>19</td>\n",
              "      <td>10</td>\n",
              "      <td>402</td>\n",
              "      <td>1.0</td>\n",
              "      <td>충청남도 청양군 남양면 온직리(남양면) 산31</td>\n",
              "      <td>126.807222</td>\n",
              "      <td>36.395000</td>\n",
              "      <td>NaN</td>\n",
              "      <td>2020-12-01 08:21:08</td>\n",
              "      <td>2020-12-01</td>\n",
              "      <td>1</td>\n",
              "      <td>08:21:08</td>\n",
              "      <td>8</td>\n",
              "      <td>Tuesday</td>\n",
              "    </tr>\n",
              "    <tr>\n",
              "      <th>31</th>\n",
              "      <td>충남청</td>\n",
              "      <td>20/12/01 01:36:38.000000000</td>\n",
              "      <td>19</td>\n",
              "      <td>10</td>\n",
              "      <td>401</td>\n",
              "      <td>1.0</td>\n",
              "      <td>충청남도 서산시 대산읍 대로리(행정:대산읍) 216-3</td>\n",
              "      <td>126.412290</td>\n",
              "      <td>36.967612</td>\n",
              "      <td>NaN</td>\n",
              "      <td>2020-12-01 01:36:38</td>\n",
              "      <td>2020-12-01</td>\n",
              "      <td>1</td>\n",
              "      <td>01:36:38</td>\n",
              "      <td>1</td>\n",
              "      <td>Tuesday</td>\n",
              "    </tr>\n",
              "    <tr>\n",
              "      <th>57</th>\n",
              "      <td>충남청</td>\n",
              "      <td>20/12/01 02:23:03.000000000</td>\n",
              "      <td>19</td>\n",
              "      <td>10</td>\n",
              "      <td>401</td>\n",
              "      <td>1.0</td>\n",
              "      <td>충청남도 아산시 둔포면 송용리(행정:둔포면) 71-68</td>\n",
              "      <td>127.032318</td>\n",
              "      <td>36.921510</td>\n",
              "      <td>NaN</td>\n",
              "      <td>2020-12-01 02:23:03</td>\n",
              "      <td>2020-12-01</td>\n",
              "      <td>1</td>\n",
              "      <td>02:23:03</td>\n",
              "      <td>2</td>\n",
              "      <td>Tuesday</td>\n",
              "    </tr>\n",
              "    <tr>\n",
              "      <th>...</th>\n",
              "      <td>...</td>\n",
              "      <td>...</td>\n",
              "      <td>...</td>\n",
              "      <td>...</td>\n",
              "      <td>...</td>\n",
              "      <td>...</td>\n",
              "      <td>...</td>\n",
              "      <td>...</td>\n",
              "      <td>...</td>\n",
              "      <td>...</td>\n",
              "      <td>...</td>\n",
              "      <td>...</td>\n",
              "      <td>...</td>\n",
              "      <td>...</td>\n",
              "      <td>...</td>\n",
              "      <td>...</td>\n",
              "    </tr>\n",
              "    <tr>\n",
              "      <th>76855</th>\n",
              "      <td>충남청</td>\n",
              "      <td>20/12/30 17:48:50.000000000</td>\n",
              "      <td>19</td>\n",
              "      <td>10</td>\n",
              "      <td>401</td>\n",
              "      <td>3.0</td>\n",
              "      <td>충청남도 서산시 석남동(행정:석남동) 16-28</td>\n",
              "      <td>126.453121</td>\n",
              "      <td>36.771080</td>\n",
              "      <td>NaN</td>\n",
              "      <td>2020-12-30 17:48:50</td>\n",
              "      <td>2020-12-30</td>\n",
              "      <td>30</td>\n",
              "      <td>17:48:50</td>\n",
              "      <td>17</td>\n",
              "      <td>Wednesday</td>\n",
              "    </tr>\n",
              "    <tr>\n",
              "      <th>76957</th>\n",
              "      <td>충남청</td>\n",
              "      <td>20/12/30 16:41:25.000000000</td>\n",
              "      <td>19</td>\n",
              "      <td>10</td>\n",
              "      <td>401</td>\n",
              "      <td>1.0</td>\n",
              "      <td>충청남도 예산군 덕산면 신평리(덕산면) 171-5</td>\n",
              "      <td>126.661613</td>\n",
              "      <td>36.694186</td>\n",
              "      <td>NaN</td>\n",
              "      <td>2020-12-30 16:41:25</td>\n",
              "      <td>2020-12-30</td>\n",
              "      <td>30</td>\n",
              "      <td>16:41:25</td>\n",
              "      <td>16</td>\n",
              "      <td>Wednesday</td>\n",
              "    </tr>\n",
              "    <tr>\n",
              "      <th>76971</th>\n",
              "      <td>충남청</td>\n",
              "      <td>20/12/31 00:15:47.000000000</td>\n",
              "      <td>19</td>\n",
              "      <td>10</td>\n",
              "      <td>401</td>\n",
              "      <td>1.0</td>\n",
              "      <td>충청남도 아산시 둔포면 둔포리(행정:둔포면) 415-3</td>\n",
              "      <td>127.037671</td>\n",
              "      <td>36.927216</td>\n",
              "      <td>Y</td>\n",
              "      <td>2020-12-31 00:15:47</td>\n",
              "      <td>2020-12-31</td>\n",
              "      <td>31</td>\n",
              "      <td>00:15:47</td>\n",
              "      <td>0</td>\n",
              "      <td>Thursday</td>\n",
              "    </tr>\n",
              "    <tr>\n",
              "      <th>76995</th>\n",
              "      <td>충남청</td>\n",
              "      <td>20/12/31 00:33:54.000000000</td>\n",
              "      <td>19</td>\n",
              "      <td>10</td>\n",
              "      <td>401</td>\n",
              "      <td>1.0</td>\n",
              "      <td>충청남도 서산시 온석동(동문1동) 354-2</td>\n",
              "      <td>126.471991</td>\n",
              "      <td>36.801294</td>\n",
              "      <td>Y</td>\n",
              "      <td>2020-12-31 00:33:54</td>\n",
              "      <td>2020-12-31</td>\n",
              "      <td>31</td>\n",
              "      <td>00:33:54</td>\n",
              "      <td>0</td>\n",
              "      <td>Thursday</td>\n",
              "    </tr>\n",
              "    <tr>\n",
              "      <th>76998</th>\n",
              "      <td>충남청</td>\n",
              "      <td>20/12/31 00:34:45.000000000</td>\n",
              "      <td>19</td>\n",
              "      <td>10</td>\n",
              "      <td>401</td>\n",
              "      <td>1.0</td>\n",
              "      <td>충청남도 서산시 온석동(동문1동) 393-3</td>\n",
              "      <td>126.471756</td>\n",
              "      <td>36.801603</td>\n",
              "      <td>Y</td>\n",
              "      <td>2020-12-31 00:34:45</td>\n",
              "      <td>2020-12-31</td>\n",
              "      <td>31</td>\n",
              "      <td>00:34:45</td>\n",
              "      <td>0</td>\n",
              "      <td>Thursday</td>\n",
              "    </tr>\n",
              "  </tbody>\n",
              "</table>\n",
              "<p>3849 rows × 16 columns</p>\n",
              "</div>\n",
              "      <button class=\"colab-df-convert\" onclick=\"convertToInteractive('df-ac20ec59-4d99-4f8b-8ada-13d04d6c9e61')\"\n",
              "              title=\"Convert this dataframe to an interactive table.\"\n",
              "              style=\"display:none;\">\n",
              "        \n",
              "  <svg xmlns=\"http://www.w3.org/2000/svg\" height=\"24px\"viewBox=\"0 0 24 24\"\n",
              "       width=\"24px\">\n",
              "    <path d=\"M0 0h24v24H0V0z\" fill=\"none\"/>\n",
              "    <path d=\"M18.56 5.44l.94 2.06.94-2.06 2.06-.94-2.06-.94-.94-2.06-.94 2.06-2.06.94zm-11 1L8.5 8.5l.94-2.06 2.06-.94-2.06-.94L8.5 2.5l-.94 2.06-2.06.94zm10 10l.94 2.06.94-2.06 2.06-.94-2.06-.94-.94-2.06-.94 2.06-2.06.94z\"/><path d=\"M17.41 7.96l-1.37-1.37c-.4-.4-.92-.59-1.43-.59-.52 0-1.04.2-1.43.59L10.3 9.45l-7.72 7.72c-.78.78-.78 2.05 0 2.83L4 21.41c.39.39.9.59 1.41.59.51 0 1.02-.2 1.41-.59l7.78-7.78 2.81-2.81c.8-.78.8-2.07 0-2.86zM5.41 20L4 18.59l7.72-7.72 1.47 1.35L5.41 20z\"/>\n",
              "  </svg>\n",
              "      </button>\n",
              "      \n",
              "  <style>\n",
              "    .colab-df-container {\n",
              "      display:flex;\n",
              "      flex-wrap:wrap;\n",
              "      gap: 12px;\n",
              "    }\n",
              "\n",
              "    .colab-df-convert {\n",
              "      background-color: #E8F0FE;\n",
              "      border: none;\n",
              "      border-radius: 50%;\n",
              "      cursor: pointer;\n",
              "      display: none;\n",
              "      fill: #1967D2;\n",
              "      height: 32px;\n",
              "      padding: 0 0 0 0;\n",
              "      width: 32px;\n",
              "    }\n",
              "\n",
              "    .colab-df-convert:hover {\n",
              "      background-color: #E2EBFA;\n",
              "      box-shadow: 0px 1px 2px rgba(60, 64, 67, 0.3), 0px 1px 3px 1px rgba(60, 64, 67, 0.15);\n",
              "      fill: #174EA6;\n",
              "    }\n",
              "\n",
              "    [theme=dark] .colab-df-convert {\n",
              "      background-color: #3B4455;\n",
              "      fill: #D2E3FC;\n",
              "    }\n",
              "\n",
              "    [theme=dark] .colab-df-convert:hover {\n",
              "      background-color: #434B5C;\n",
              "      box-shadow: 0px 1px 3px 1px rgba(0, 0, 0, 0.15);\n",
              "      filter: drop-shadow(0px 1px 2px rgba(0, 0, 0, 0.3));\n",
              "      fill: #FFFFFF;\n",
              "    }\n",
              "  </style>\n",
              "\n",
              "      <script>\n",
              "        const buttonEl =\n",
              "          document.querySelector('#df-ac20ec59-4d99-4f8b-8ada-13d04d6c9e61 button.colab-df-convert');\n",
              "        buttonEl.style.display =\n",
              "          google.colab.kernel.accessAllowed ? 'block' : 'none';\n",
              "\n",
              "        async function convertToInteractive(key) {\n",
              "          const element = document.querySelector('#df-ac20ec59-4d99-4f8b-8ada-13d04d6c9e61');\n",
              "          const dataTable =\n",
              "            await google.colab.kernel.invokeFunction('convertToInteractive',\n",
              "                                                     [key], {});\n",
              "          if (!dataTable) return;\n",
              "\n",
              "          const docLinkHtml = 'Like what you see? Visit the ' +\n",
              "            '<a target=\"_blank\" href=https://colab.research.google.com/notebooks/data_table.ipynb>data table notebook</a>'\n",
              "            + ' to learn more about interactive tables.';\n",
              "          element.innerHTML = '';\n",
              "          dataTable['output_type'] = 'display_data';\n",
              "          await google.colab.output.renderOutput(dataTable, element);\n",
              "          const docLink = document.createElement('div');\n",
              "          docLink.innerHTML = docLinkHtml;\n",
              "          element.appendChild(docLink);\n",
              "        }\n",
              "      </script>\n",
              "    </div>\n",
              "  </div>\n",
              "  "
            ]
          },
          "metadata": {},
          "execution_count": 39
        }
      ]
    },
    {
      "cell_type": "code",
      "source": [
        "chungnam_accident_KP2020['City']=chungnam_accident_KP2020['HPPN_PNU_ADDR'].str.split(\" \").str[1]\n",
        "chungnam_accident_KP2020.City.unique()"
      ],
      "metadata": {
        "colab": {
          "base_uri": "https://localhost:8080/"
        },
        "id": "QIZSXCGmUHd6",
        "outputId": "52ed19ef-67be-48e0-ccc5-4c0ce669f953"
      },
      "execution_count": null,
      "outputs": [
        {
          "output_type": "stream",
          "name": "stderr",
          "text": [
            "<ipython-input-40-bb037c3fb608>:1: SettingWithCopyWarning: \n",
            "A value is trying to be set on a copy of a slice from a DataFrame.\n",
            "Try using .loc[row_indexer,col_indexer] = value instead\n",
            "\n",
            "See the caveats in the documentation: https://pandas.pydata.org/pandas-docs/stable/user_guide/indexing.html#returning-a-view-versus-a-copy\n",
            "  chungnam_accident_KP2020['City']=chungnam_accident_KP2020['HPPN_PNU_ADDR'].str.split(\" \").str[1]\n"
          ]
        },
        {
          "output_type": "execute_result",
          "data": {
            "text/plain": [
              "array(['천안시', '청양군', '서산시', '아산시', '논산시', '보령시', '금산군', '공주시', '당진시',\n",
              "       '태안군', '예산군', '서천군', '홍성군', '계룡시', '부여군', '충청남도'], dtype=object)"
            ]
          },
          "metadata": {},
          "execution_count": 40
        }
      ]
    },
    {
      "cell_type": "code",
      "source": [
        "chungnam_accident_KP2020['Dong']=chungnam_accident_KP2020['HPPN_PNU_ADDR'].str.split(\" \").str[1]"
      ],
      "metadata": {
        "id": "bXs6t_6OUynP",
        "colab": {
          "base_uri": "https://localhost:8080/"
        },
        "outputId": "be1205fc-040f-42f4-fce6-9045a21c30a2"
      },
      "execution_count": null,
      "outputs": [
        {
          "output_type": "stream",
          "name": "stderr",
          "text": [
            "<ipython-input-41-45e4cb0163e2>:1: SettingWithCopyWarning: \n",
            "A value is trying to be set on a copy of a slice from a DataFrame.\n",
            "Try using .loc[row_indexer,col_indexer] = value instead\n",
            "\n",
            "See the caveats in the documentation: https://pandas.pydata.org/pandas-docs/stable/user_guide/indexing.html#returning-a-view-versus-a-copy\n",
            "  chungnam_accident_KP2020['Dong']=chungnam_accident_KP2020['HPPN_PNU_ADDR'].str.split(\" \").str[1]\n"
          ]
        }
      ]
    },
    {
      "cell_type": "markdown",
      "source": [
        "# **2021**"
      ],
      "metadata": {
        "id": "Gz6kh4kIQFG0"
      }
    },
    {
      "cell_type": "code",
      "source": [
        "file_path2='/content/drive/MyDrive/traffic/KP2021.csv'\n",
        "\n",
        "df_2021 = pd.read_csv(file_path2, encoding='cp949')\n",
        "df_2021"
      ],
      "metadata": {
        "colab": {
          "base_uri": "https://localhost:8080/",
          "height": 423
        },
        "id": "hunnSkOCQJMu",
        "outputId": "71c6990a-4f1a-4045-ae02-eceb45a407ce"
      },
      "execution_count": null,
      "outputs": [
        {
          "output_type": "execute_result",
          "data": {
            "text/plain": [
              "        RECV_DEPT_NM                 RECV_CPLT_DM  NPA_CL  EVT_STAT_CD  \\\n",
              "0                대전청  21/03/07 00:00:01.000000000      13           10   \n",
              "1                대전청  21/03/07 00:02:13.000000000      13           10   \n",
              "2                대전청  21/03/07 00:00:33.000000000      13           10   \n",
              "3                대전청  21/03/07 00:01:18.000000000      13           10   \n",
              "4                대전청  21/03/07 00:01:43.000000000      13           10   \n",
              "...              ...                          ...     ...          ...   \n",
              "2594055          대전청  23/01/12 11:23:09.000000000      13           10   \n",
              "2594056          충남청  23/01/16 11:59:47.000000000      19           10   \n",
              "2594057          충남청  23/01/16 11:58:54.000000000      19           10   \n",
              "2594058          충남청  23/01/14 01:00:47.000000000      19           10   \n",
              "2594059          대전청  23/01/14 01:22:31.000000000      13           10   \n",
              "\n",
              "         EVT_CL_CD  RPTER_SEX                    HPPN_PNU_ADDR      HPPN_X  \\\n",
              "0              604        3.0                대전광역시 서구 둔산동 1122  127.373676   \n",
              "1              201        1.0        대전광역시 유성구 상대동(원신흥동) 469-9  127.339018   \n",
              "2              601        3.0                              NaN  127.404663   \n",
              "3              601        3.0                              NaN  127.404663   \n",
              "4              308        1.0              대전광역시 중구 선화동 141-16  127.420455   \n",
              "...            ...        ...                              ...         ...   \n",
              "2594055        104        1.0  대전광역시 유성구 봉명동 (행정:원신흥동 ) 1016-7  127.344600   \n",
              "2594056        307        2.0     충청남도 서산시 음암면 부장리(음암면 ) 560-4  126.514047   \n",
              "2594057        601        3.0                              NaN         NaN   \n",
              "2594058        601        3.0                              NaN         NaN   \n",
              "2594059        606        1.0                              NaN  127.404663   \n",
              "\n",
              "            HPPN_Y SME_EVT_YN  \n",
              "0        36.350975          Y  \n",
              "1        36.347420        NaN  \n",
              "2        36.341685        NaN  \n",
              "3        36.341685        NaN  \n",
              "4        36.330413        NaN  \n",
              "...            ...        ...  \n",
              "2594055  36.352272        NaN  \n",
              "2594056  36.785626        NaN  \n",
              "2594057        NaN        NaN  \n",
              "2594058        NaN        NaN  \n",
              "2594059  36.341685        NaN  \n",
              "\n",
              "[2594060 rows x 10 columns]"
            ],
            "text/html": [
              "\n",
              "  <div id=\"df-1d4f2a26-1617-4901-9c9e-240f06378fbc\">\n",
              "    <div class=\"colab-df-container\">\n",
              "      <div>\n",
              "<style scoped>\n",
              "    .dataframe tbody tr th:only-of-type {\n",
              "        vertical-align: middle;\n",
              "    }\n",
              "\n",
              "    .dataframe tbody tr th {\n",
              "        vertical-align: top;\n",
              "    }\n",
              "\n",
              "    .dataframe thead th {\n",
              "        text-align: right;\n",
              "    }\n",
              "</style>\n",
              "<table border=\"1\" class=\"dataframe\">\n",
              "  <thead>\n",
              "    <tr style=\"text-align: right;\">\n",
              "      <th></th>\n",
              "      <th>RECV_DEPT_NM</th>\n",
              "      <th>RECV_CPLT_DM</th>\n",
              "      <th>NPA_CL</th>\n",
              "      <th>EVT_STAT_CD</th>\n",
              "      <th>EVT_CL_CD</th>\n",
              "      <th>RPTER_SEX</th>\n",
              "      <th>HPPN_PNU_ADDR</th>\n",
              "      <th>HPPN_X</th>\n",
              "      <th>HPPN_Y</th>\n",
              "      <th>SME_EVT_YN</th>\n",
              "    </tr>\n",
              "  </thead>\n",
              "  <tbody>\n",
              "    <tr>\n",
              "      <th>0</th>\n",
              "      <td>대전청</td>\n",
              "      <td>21/03/07 00:00:01.000000000</td>\n",
              "      <td>13</td>\n",
              "      <td>10</td>\n",
              "      <td>604</td>\n",
              "      <td>3.0</td>\n",
              "      <td>대전광역시 서구 둔산동 1122</td>\n",
              "      <td>127.373676</td>\n",
              "      <td>36.350975</td>\n",
              "      <td>Y</td>\n",
              "    </tr>\n",
              "    <tr>\n",
              "      <th>1</th>\n",
              "      <td>대전청</td>\n",
              "      <td>21/03/07 00:02:13.000000000</td>\n",
              "      <td>13</td>\n",
              "      <td>10</td>\n",
              "      <td>201</td>\n",
              "      <td>1.0</td>\n",
              "      <td>대전광역시 유성구 상대동(원신흥동) 469-9</td>\n",
              "      <td>127.339018</td>\n",
              "      <td>36.347420</td>\n",
              "      <td>NaN</td>\n",
              "    </tr>\n",
              "    <tr>\n",
              "      <th>2</th>\n",
              "      <td>대전청</td>\n",
              "      <td>21/03/07 00:00:33.000000000</td>\n",
              "      <td>13</td>\n",
              "      <td>10</td>\n",
              "      <td>601</td>\n",
              "      <td>3.0</td>\n",
              "      <td>NaN</td>\n",
              "      <td>127.404663</td>\n",
              "      <td>36.341685</td>\n",
              "      <td>NaN</td>\n",
              "    </tr>\n",
              "    <tr>\n",
              "      <th>3</th>\n",
              "      <td>대전청</td>\n",
              "      <td>21/03/07 00:01:18.000000000</td>\n",
              "      <td>13</td>\n",
              "      <td>10</td>\n",
              "      <td>601</td>\n",
              "      <td>3.0</td>\n",
              "      <td>NaN</td>\n",
              "      <td>127.404663</td>\n",
              "      <td>36.341685</td>\n",
              "      <td>NaN</td>\n",
              "    </tr>\n",
              "    <tr>\n",
              "      <th>4</th>\n",
              "      <td>대전청</td>\n",
              "      <td>21/03/07 00:01:43.000000000</td>\n",
              "      <td>13</td>\n",
              "      <td>10</td>\n",
              "      <td>308</td>\n",
              "      <td>1.0</td>\n",
              "      <td>대전광역시 중구 선화동 141-16</td>\n",
              "      <td>127.420455</td>\n",
              "      <td>36.330413</td>\n",
              "      <td>NaN</td>\n",
              "    </tr>\n",
              "    <tr>\n",
              "      <th>...</th>\n",
              "      <td>...</td>\n",
              "      <td>...</td>\n",
              "      <td>...</td>\n",
              "      <td>...</td>\n",
              "      <td>...</td>\n",
              "      <td>...</td>\n",
              "      <td>...</td>\n",
              "      <td>...</td>\n",
              "      <td>...</td>\n",
              "      <td>...</td>\n",
              "    </tr>\n",
              "    <tr>\n",
              "      <th>2594055</th>\n",
              "      <td>대전청</td>\n",
              "      <td>23/01/12 11:23:09.000000000</td>\n",
              "      <td>13</td>\n",
              "      <td>10</td>\n",
              "      <td>104</td>\n",
              "      <td>1.0</td>\n",
              "      <td>대전광역시 유성구 봉명동 (행정:원신흥동 ) 1016-7</td>\n",
              "      <td>127.344600</td>\n",
              "      <td>36.352272</td>\n",
              "      <td>NaN</td>\n",
              "    </tr>\n",
              "    <tr>\n",
              "      <th>2594056</th>\n",
              "      <td>충남청</td>\n",
              "      <td>23/01/16 11:59:47.000000000</td>\n",
              "      <td>19</td>\n",
              "      <td>10</td>\n",
              "      <td>307</td>\n",
              "      <td>2.0</td>\n",
              "      <td>충청남도 서산시 음암면 부장리(음암면 ) 560-4</td>\n",
              "      <td>126.514047</td>\n",
              "      <td>36.785626</td>\n",
              "      <td>NaN</td>\n",
              "    </tr>\n",
              "    <tr>\n",
              "      <th>2594057</th>\n",
              "      <td>충남청</td>\n",
              "      <td>23/01/16 11:58:54.000000000</td>\n",
              "      <td>19</td>\n",
              "      <td>10</td>\n",
              "      <td>601</td>\n",
              "      <td>3.0</td>\n",
              "      <td>NaN</td>\n",
              "      <td>NaN</td>\n",
              "      <td>NaN</td>\n",
              "      <td>NaN</td>\n",
              "    </tr>\n",
              "    <tr>\n",
              "      <th>2594058</th>\n",
              "      <td>충남청</td>\n",
              "      <td>23/01/14 01:00:47.000000000</td>\n",
              "      <td>19</td>\n",
              "      <td>10</td>\n",
              "      <td>601</td>\n",
              "      <td>3.0</td>\n",
              "      <td>NaN</td>\n",
              "      <td>NaN</td>\n",
              "      <td>NaN</td>\n",
              "      <td>NaN</td>\n",
              "    </tr>\n",
              "    <tr>\n",
              "      <th>2594059</th>\n",
              "      <td>대전청</td>\n",
              "      <td>23/01/14 01:22:31.000000000</td>\n",
              "      <td>13</td>\n",
              "      <td>10</td>\n",
              "      <td>606</td>\n",
              "      <td>1.0</td>\n",
              "      <td>NaN</td>\n",
              "      <td>127.404663</td>\n",
              "      <td>36.341685</td>\n",
              "      <td>NaN</td>\n",
              "    </tr>\n",
              "  </tbody>\n",
              "</table>\n",
              "<p>2594060 rows × 10 columns</p>\n",
              "</div>\n",
              "      <button class=\"colab-df-convert\" onclick=\"convertToInteractive('df-1d4f2a26-1617-4901-9c9e-240f06378fbc')\"\n",
              "              title=\"Convert this dataframe to an interactive table.\"\n",
              "              style=\"display:none;\">\n",
              "        \n",
              "  <svg xmlns=\"http://www.w3.org/2000/svg\" height=\"24px\"viewBox=\"0 0 24 24\"\n",
              "       width=\"24px\">\n",
              "    <path d=\"M0 0h24v24H0V0z\" fill=\"none\"/>\n",
              "    <path d=\"M18.56 5.44l.94 2.06.94-2.06 2.06-.94-2.06-.94-.94-2.06-.94 2.06-2.06.94zm-11 1L8.5 8.5l.94-2.06 2.06-.94-2.06-.94L8.5 2.5l-.94 2.06-2.06.94zm10 10l.94 2.06.94-2.06 2.06-.94-2.06-.94-.94-2.06-.94 2.06-2.06.94z\"/><path d=\"M17.41 7.96l-1.37-1.37c-.4-.4-.92-.59-1.43-.59-.52 0-1.04.2-1.43.59L10.3 9.45l-7.72 7.72c-.78.78-.78 2.05 0 2.83L4 21.41c.39.39.9.59 1.41.59.51 0 1.02-.2 1.41-.59l7.78-7.78 2.81-2.81c.8-.78.8-2.07 0-2.86zM5.41 20L4 18.59l7.72-7.72 1.47 1.35L5.41 20z\"/>\n",
              "  </svg>\n",
              "      </button>\n",
              "      \n",
              "  <style>\n",
              "    .colab-df-container {\n",
              "      display:flex;\n",
              "      flex-wrap:wrap;\n",
              "      gap: 12px;\n",
              "    }\n",
              "\n",
              "    .colab-df-convert {\n",
              "      background-color: #E8F0FE;\n",
              "      border: none;\n",
              "      border-radius: 50%;\n",
              "      cursor: pointer;\n",
              "      display: none;\n",
              "      fill: #1967D2;\n",
              "      height: 32px;\n",
              "      padding: 0 0 0 0;\n",
              "      width: 32px;\n",
              "    }\n",
              "\n",
              "    .colab-df-convert:hover {\n",
              "      background-color: #E2EBFA;\n",
              "      box-shadow: 0px 1px 2px rgba(60, 64, 67, 0.3), 0px 1px 3px 1px rgba(60, 64, 67, 0.15);\n",
              "      fill: #174EA6;\n",
              "    }\n",
              "\n",
              "    [theme=dark] .colab-df-convert {\n",
              "      background-color: #3B4455;\n",
              "      fill: #D2E3FC;\n",
              "    }\n",
              "\n",
              "    [theme=dark] .colab-df-convert:hover {\n",
              "      background-color: #434B5C;\n",
              "      box-shadow: 0px 1px 3px 1px rgba(0, 0, 0, 0.15);\n",
              "      filter: drop-shadow(0px 1px 2px rgba(0, 0, 0, 0.3));\n",
              "      fill: #FFFFFF;\n",
              "    }\n",
              "  </style>\n",
              "\n",
              "      <script>\n",
              "        const buttonEl =\n",
              "          document.querySelector('#df-1d4f2a26-1617-4901-9c9e-240f06378fbc button.colab-df-convert');\n",
              "        buttonEl.style.display =\n",
              "          google.colab.kernel.accessAllowed ? 'block' : 'none';\n",
              "\n",
              "        async function convertToInteractive(key) {\n",
              "          const element = document.querySelector('#df-1d4f2a26-1617-4901-9c9e-240f06378fbc');\n",
              "          const dataTable =\n",
              "            await google.colab.kernel.invokeFunction('convertToInteractive',\n",
              "                                                     [key], {});\n",
              "          if (!dataTable) return;\n",
              "\n",
              "          const docLinkHtml = 'Like what you see? Visit the ' +\n",
              "            '<a target=\"_blank\" href=https://colab.research.google.com/notebooks/data_table.ipynb>data table notebook</a>'\n",
              "            + ' to learn more about interactive tables.';\n",
              "          element.innerHTML = '';\n",
              "          dataTable['output_type'] = 'display_data';\n",
              "          await google.colab.output.renderOutput(dataTable, element);\n",
              "          const docLink = document.createElement('div');\n",
              "          docLink.innerHTML = docLinkHtml;\n",
              "          element.appendChild(docLink);\n",
              "        }\n",
              "      </script>\n",
              "    </div>\n",
              "  </div>\n",
              "  "
            ]
          },
          "metadata": {},
          "execution_count": 42
        }
      ]
    },
    {
      "cell_type": "code",
      "source": [
        "df_2021['Date']=pd.to_datetime(df_2021['RECV_CPLT_DM'], format='%y/%m/%d %H:%M:%S.%f')\n",
        "cnt_time_21=df_2021['Date']\n",
        "cnt_time_21"
      ],
      "metadata": {
        "colab": {
          "base_uri": "https://localhost:8080/"
        },
        "id": "5WNcPSr7TSkO",
        "outputId": "c3dc182e-6f7b-48ed-db9b-7dc34eba35ad"
      },
      "execution_count": null,
      "outputs": [
        {
          "output_type": "execute_result",
          "data": {
            "text/plain": [
              "0         2021-03-07 00:00:01\n",
              "1         2021-03-07 00:02:13\n",
              "2         2021-03-07 00:00:33\n",
              "3         2021-03-07 00:01:18\n",
              "4         2021-03-07 00:01:43\n",
              "                  ...        \n",
              "2594055   2023-01-12 11:23:09\n",
              "2594056   2023-01-16 11:59:47\n",
              "2594057   2023-01-16 11:58:54\n",
              "2594058   2023-01-14 01:00:47\n",
              "2594059   2023-01-14 01:22:31\n",
              "Name: Date, Length: 2594060, dtype: datetime64[ns]"
            ]
          },
          "metadata": {},
          "execution_count": 43
        }
      ]
    },
    {
      "cell_type": "code",
      "source": [
        "df_2021['Date_month']=df_2021['Date'].dt.month #월별로 데이터처리\n",
        "df_2021['Date_month_name']=df_2021['Date'].dt.month_name() #월별로 데이터처리\n",
        "df_2021['Date_date']=df_2021['Date'].dt.date #날짜별로 데이터처리\n",
        "df_2021['Date_day']=df_2021['Date'].dt.day #일별로 데이터 처리\n",
        "df_2021['Date_time']=df_2021['Date'].dt.time #전체 시간별로 데이터 처리\n",
        "df_2021['Date_hour']=df_2021['Date'].dt.hour #시간별로 데이터 처리(0~23시)\n",
        "df_2021['Date_weekname']=df_2021['Date'].dt.day_name() #요일별 데이터 처리"
      ],
      "metadata": {
        "id": "OHAMSADwUbNr"
      },
      "execution_count": null,
      "outputs": []
    },
    {
      "cell_type": "code",
      "source": [
        "#2021.csv에서 EVT_CL_CD(사건종별코드) == 401, 402, 403, 404인 행 \n",
        "is_accident_2021 = (df_2021['EVT_CL_CD'] == 401) | (df_2021['EVT_CL_CD']==402) | (df_2021['EVT_CL_CD']==403) | (df_2021['EVT_CL_CD']==404)\n",
        "accident_2021 = df_2021[is_accident_2021]\n",
        "accident_2021"
      ],
      "metadata": {
        "colab": {
          "base_uri": "https://localhost:8080/",
          "height": 869
        },
        "id": "gT03W3p7QXZ7",
        "outputId": "1a5c8091-e805-4220-e6b9-cc6f0d87da49"
      },
      "execution_count": null,
      "outputs": [
        {
          "output_type": "execute_result",
          "data": {
            "text/plain": [
              "        RECV_DEPT_NM                 RECV_CPLT_DM  NPA_CL  EVT_STAT_CD  \\\n",
              "20               충남청  21/03/07 00:09:04.000000000      19           10   \n",
              "23               대전청  21/03/07 00:07:54.000000000      13           10   \n",
              "26               대전청  21/03/07 00:15:27.000000000      13           10   \n",
              "44               충남청  21/03/07 00:12:08.000000000      19           10   \n",
              "49               충남청  21/03/07 00:13:58.000000000      19           10   \n",
              "...              ...                          ...     ...          ...   \n",
              "2593994          대전청  23/01/15 20:01:39.000000000      13           10   \n",
              "2594002          충남청  23/01/16 21:26:56.000000000      19           10   \n",
              "2594006          충남청  23/01/14 01:02:48.000000000      19           10   \n",
              "2594019          대전청  23/01/14 17:35:38.000000000      13           10   \n",
              "2594035          대전청  23/01/15 01:13:20.000000000      13           10   \n",
              "\n",
              "         EVT_CL_CD  RPTER_SEX                    HPPN_PNU_ADDR      HPPN_X  \\\n",
              "20             402        1.0       충청남도 천안시 동남구 문화동(문성동) 41-5  127.150988   \n",
              "23             401        2.0         대전광역시 서구 괴정동(괴정동) 367-40  127.371854   \n",
              "26             401        1.0              대전광역시 유성구 상대동 471-2  127.339334   \n",
              "44             403        2.0                충청남도 공주시 우성면 평목리   127.090733   \n",
              "49             401        1.0  충청남도 천안시 동남구 목천읍 운전리(목천읍) 333-1  127.230796   \n",
              "...            ...        ...                              ...         ...   \n",
              "2593994        401        1.0                   대전 서구 괴정동 88-6  127.384284   \n",
              "2594002        401        1.0     충청남도 태안군 근흥면 두야리(근흥면 ) 246-2  126.262393   \n",
              "2594006        403        2.0    충청남도 천안시 동남구 다가동 (일봉동 ) 61-35  127.147678   \n",
              "2594019        401        1.0  대전광역시 대덕구 신탄진동 (행정:신탄진동 ) 129-7  127.433785   \n",
              "2594035        401        1.0      대전광역시 대덕구 평촌동 (행정:덕암동 ) 346  127.428287   \n",
              "\n",
              "            HPPN_Y SME_EVT_YN                Date  Date_month Date_month_name  \\\n",
              "20       36.811792          Y 2021-03-07 00:09:04           3           March   \n",
              "23       36.341961        NaN 2021-03-07 00:07:54           3           March   \n",
              "26       36.346899        NaN 2021-03-07 00:15:27           3           March   \n",
              "44       36.453397        NaN 2021-03-07 00:12:08           3           March   \n",
              "49       36.767596        NaN 2021-03-07 00:13:58           3           March   \n",
              "...            ...        ...                 ...         ...             ...   \n",
              "2593994  36.334507        NaN 2023-01-15 20:01:39           1         January   \n",
              "2594002  36.751467        NaN 2023-01-16 21:26:56           1         January   \n",
              "2594006  36.789125        NaN 2023-01-14 01:02:48           1         January   \n",
              "2594019  36.450725        NaN 2023-01-14 17:35:38           1         January   \n",
              "2594035  36.425403          Y 2023-01-15 01:13:20           1         January   \n",
              "\n",
              "          Date_date  Date_day Date_time  Date_hour Date_weekname  \n",
              "20       2021-03-07         7  00:09:04          0        Sunday  \n",
              "23       2021-03-07         7  00:07:54          0        Sunday  \n",
              "26       2021-03-07         7  00:15:27          0        Sunday  \n",
              "44       2021-03-07         7  00:12:08          0        Sunday  \n",
              "49       2021-03-07         7  00:13:58          0        Sunday  \n",
              "...             ...       ...       ...        ...           ...  \n",
              "2593994  2023-01-15        15  20:01:39         20        Sunday  \n",
              "2594002  2023-01-16        16  21:26:56         21        Monday  \n",
              "2594006  2023-01-14        14  01:02:48          1      Saturday  \n",
              "2594019  2023-01-14        14  17:35:38         17      Saturday  \n",
              "2594035  2023-01-15        15  01:13:20          1        Sunday  \n",
              "\n",
              "[226336 rows x 18 columns]"
            ],
            "text/html": [
              "\n",
              "  <div id=\"df-a5bf1c62-a16e-4ff7-8f16-f158b9356dc7\">\n",
              "    <div class=\"colab-df-container\">\n",
              "      <div>\n",
              "<style scoped>\n",
              "    .dataframe tbody tr th:only-of-type {\n",
              "        vertical-align: middle;\n",
              "    }\n",
              "\n",
              "    .dataframe tbody tr th {\n",
              "        vertical-align: top;\n",
              "    }\n",
              "\n",
              "    .dataframe thead th {\n",
              "        text-align: right;\n",
              "    }\n",
              "</style>\n",
              "<table border=\"1\" class=\"dataframe\">\n",
              "  <thead>\n",
              "    <tr style=\"text-align: right;\">\n",
              "      <th></th>\n",
              "      <th>RECV_DEPT_NM</th>\n",
              "      <th>RECV_CPLT_DM</th>\n",
              "      <th>NPA_CL</th>\n",
              "      <th>EVT_STAT_CD</th>\n",
              "      <th>EVT_CL_CD</th>\n",
              "      <th>RPTER_SEX</th>\n",
              "      <th>HPPN_PNU_ADDR</th>\n",
              "      <th>HPPN_X</th>\n",
              "      <th>HPPN_Y</th>\n",
              "      <th>SME_EVT_YN</th>\n",
              "      <th>Date</th>\n",
              "      <th>Date_month</th>\n",
              "      <th>Date_month_name</th>\n",
              "      <th>Date_date</th>\n",
              "      <th>Date_day</th>\n",
              "      <th>Date_time</th>\n",
              "      <th>Date_hour</th>\n",
              "      <th>Date_weekname</th>\n",
              "    </tr>\n",
              "  </thead>\n",
              "  <tbody>\n",
              "    <tr>\n",
              "      <th>20</th>\n",
              "      <td>충남청</td>\n",
              "      <td>21/03/07 00:09:04.000000000</td>\n",
              "      <td>19</td>\n",
              "      <td>10</td>\n",
              "      <td>402</td>\n",
              "      <td>1.0</td>\n",
              "      <td>충청남도 천안시 동남구 문화동(문성동) 41-5</td>\n",
              "      <td>127.150988</td>\n",
              "      <td>36.811792</td>\n",
              "      <td>Y</td>\n",
              "      <td>2021-03-07 00:09:04</td>\n",
              "      <td>3</td>\n",
              "      <td>March</td>\n",
              "      <td>2021-03-07</td>\n",
              "      <td>7</td>\n",
              "      <td>00:09:04</td>\n",
              "      <td>0</td>\n",
              "      <td>Sunday</td>\n",
              "    </tr>\n",
              "    <tr>\n",
              "      <th>23</th>\n",
              "      <td>대전청</td>\n",
              "      <td>21/03/07 00:07:54.000000000</td>\n",
              "      <td>13</td>\n",
              "      <td>10</td>\n",
              "      <td>401</td>\n",
              "      <td>2.0</td>\n",
              "      <td>대전광역시 서구 괴정동(괴정동) 367-40</td>\n",
              "      <td>127.371854</td>\n",
              "      <td>36.341961</td>\n",
              "      <td>NaN</td>\n",
              "      <td>2021-03-07 00:07:54</td>\n",
              "      <td>3</td>\n",
              "      <td>March</td>\n",
              "      <td>2021-03-07</td>\n",
              "      <td>7</td>\n",
              "      <td>00:07:54</td>\n",
              "      <td>0</td>\n",
              "      <td>Sunday</td>\n",
              "    </tr>\n",
              "    <tr>\n",
              "      <th>26</th>\n",
              "      <td>대전청</td>\n",
              "      <td>21/03/07 00:15:27.000000000</td>\n",
              "      <td>13</td>\n",
              "      <td>10</td>\n",
              "      <td>401</td>\n",
              "      <td>1.0</td>\n",
              "      <td>대전광역시 유성구 상대동 471-2</td>\n",
              "      <td>127.339334</td>\n",
              "      <td>36.346899</td>\n",
              "      <td>NaN</td>\n",
              "      <td>2021-03-07 00:15:27</td>\n",
              "      <td>3</td>\n",
              "      <td>March</td>\n",
              "      <td>2021-03-07</td>\n",
              "      <td>7</td>\n",
              "      <td>00:15:27</td>\n",
              "      <td>0</td>\n",
              "      <td>Sunday</td>\n",
              "    </tr>\n",
              "    <tr>\n",
              "      <th>44</th>\n",
              "      <td>충남청</td>\n",
              "      <td>21/03/07 00:12:08.000000000</td>\n",
              "      <td>19</td>\n",
              "      <td>10</td>\n",
              "      <td>403</td>\n",
              "      <td>2.0</td>\n",
              "      <td>충청남도 공주시 우성면 평목리</td>\n",
              "      <td>127.090733</td>\n",
              "      <td>36.453397</td>\n",
              "      <td>NaN</td>\n",
              "      <td>2021-03-07 00:12:08</td>\n",
              "      <td>3</td>\n",
              "      <td>March</td>\n",
              "      <td>2021-03-07</td>\n",
              "      <td>7</td>\n",
              "      <td>00:12:08</td>\n",
              "      <td>0</td>\n",
              "      <td>Sunday</td>\n",
              "    </tr>\n",
              "    <tr>\n",
              "      <th>49</th>\n",
              "      <td>충남청</td>\n",
              "      <td>21/03/07 00:13:58.000000000</td>\n",
              "      <td>19</td>\n",
              "      <td>10</td>\n",
              "      <td>401</td>\n",
              "      <td>1.0</td>\n",
              "      <td>충청남도 천안시 동남구 목천읍 운전리(목천읍) 333-1</td>\n",
              "      <td>127.230796</td>\n",
              "      <td>36.767596</td>\n",
              "      <td>NaN</td>\n",
              "      <td>2021-03-07 00:13:58</td>\n",
              "      <td>3</td>\n",
              "      <td>March</td>\n",
              "      <td>2021-03-07</td>\n",
              "      <td>7</td>\n",
              "      <td>00:13:58</td>\n",
              "      <td>0</td>\n",
              "      <td>Sunday</td>\n",
              "    </tr>\n",
              "    <tr>\n",
              "      <th>...</th>\n",
              "      <td>...</td>\n",
              "      <td>...</td>\n",
              "      <td>...</td>\n",
              "      <td>...</td>\n",
              "      <td>...</td>\n",
              "      <td>...</td>\n",
              "      <td>...</td>\n",
              "      <td>...</td>\n",
              "      <td>...</td>\n",
              "      <td>...</td>\n",
              "      <td>...</td>\n",
              "      <td>...</td>\n",
              "      <td>...</td>\n",
              "      <td>...</td>\n",
              "      <td>...</td>\n",
              "      <td>...</td>\n",
              "      <td>...</td>\n",
              "      <td>...</td>\n",
              "    </tr>\n",
              "    <tr>\n",
              "      <th>2593994</th>\n",
              "      <td>대전청</td>\n",
              "      <td>23/01/15 20:01:39.000000000</td>\n",
              "      <td>13</td>\n",
              "      <td>10</td>\n",
              "      <td>401</td>\n",
              "      <td>1.0</td>\n",
              "      <td>대전 서구 괴정동 88-6</td>\n",
              "      <td>127.384284</td>\n",
              "      <td>36.334507</td>\n",
              "      <td>NaN</td>\n",
              "      <td>2023-01-15 20:01:39</td>\n",
              "      <td>1</td>\n",
              "      <td>January</td>\n",
              "      <td>2023-01-15</td>\n",
              "      <td>15</td>\n",
              "      <td>20:01:39</td>\n",
              "      <td>20</td>\n",
              "      <td>Sunday</td>\n",
              "    </tr>\n",
              "    <tr>\n",
              "      <th>2594002</th>\n",
              "      <td>충남청</td>\n",
              "      <td>23/01/16 21:26:56.000000000</td>\n",
              "      <td>19</td>\n",
              "      <td>10</td>\n",
              "      <td>401</td>\n",
              "      <td>1.0</td>\n",
              "      <td>충청남도 태안군 근흥면 두야리(근흥면 ) 246-2</td>\n",
              "      <td>126.262393</td>\n",
              "      <td>36.751467</td>\n",
              "      <td>NaN</td>\n",
              "      <td>2023-01-16 21:26:56</td>\n",
              "      <td>1</td>\n",
              "      <td>January</td>\n",
              "      <td>2023-01-16</td>\n",
              "      <td>16</td>\n",
              "      <td>21:26:56</td>\n",
              "      <td>21</td>\n",
              "      <td>Monday</td>\n",
              "    </tr>\n",
              "    <tr>\n",
              "      <th>2594006</th>\n",
              "      <td>충남청</td>\n",
              "      <td>23/01/14 01:02:48.000000000</td>\n",
              "      <td>19</td>\n",
              "      <td>10</td>\n",
              "      <td>403</td>\n",
              "      <td>2.0</td>\n",
              "      <td>충청남도 천안시 동남구 다가동 (일봉동 ) 61-35</td>\n",
              "      <td>127.147678</td>\n",
              "      <td>36.789125</td>\n",
              "      <td>NaN</td>\n",
              "      <td>2023-01-14 01:02:48</td>\n",
              "      <td>1</td>\n",
              "      <td>January</td>\n",
              "      <td>2023-01-14</td>\n",
              "      <td>14</td>\n",
              "      <td>01:02:48</td>\n",
              "      <td>1</td>\n",
              "      <td>Saturday</td>\n",
              "    </tr>\n",
              "    <tr>\n",
              "      <th>2594019</th>\n",
              "      <td>대전청</td>\n",
              "      <td>23/01/14 17:35:38.000000000</td>\n",
              "      <td>13</td>\n",
              "      <td>10</td>\n",
              "      <td>401</td>\n",
              "      <td>1.0</td>\n",
              "      <td>대전광역시 대덕구 신탄진동 (행정:신탄진동 ) 129-7</td>\n",
              "      <td>127.433785</td>\n",
              "      <td>36.450725</td>\n",
              "      <td>NaN</td>\n",
              "      <td>2023-01-14 17:35:38</td>\n",
              "      <td>1</td>\n",
              "      <td>January</td>\n",
              "      <td>2023-01-14</td>\n",
              "      <td>14</td>\n",
              "      <td>17:35:38</td>\n",
              "      <td>17</td>\n",
              "      <td>Saturday</td>\n",
              "    </tr>\n",
              "    <tr>\n",
              "      <th>2594035</th>\n",
              "      <td>대전청</td>\n",
              "      <td>23/01/15 01:13:20.000000000</td>\n",
              "      <td>13</td>\n",
              "      <td>10</td>\n",
              "      <td>401</td>\n",
              "      <td>1.0</td>\n",
              "      <td>대전광역시 대덕구 평촌동 (행정:덕암동 ) 346</td>\n",
              "      <td>127.428287</td>\n",
              "      <td>36.425403</td>\n",
              "      <td>Y</td>\n",
              "      <td>2023-01-15 01:13:20</td>\n",
              "      <td>1</td>\n",
              "      <td>January</td>\n",
              "      <td>2023-01-15</td>\n",
              "      <td>15</td>\n",
              "      <td>01:13:20</td>\n",
              "      <td>1</td>\n",
              "      <td>Sunday</td>\n",
              "    </tr>\n",
              "  </tbody>\n",
              "</table>\n",
              "<p>226336 rows × 18 columns</p>\n",
              "</div>\n",
              "      <button class=\"colab-df-convert\" onclick=\"convertToInteractive('df-a5bf1c62-a16e-4ff7-8f16-f158b9356dc7')\"\n",
              "              title=\"Convert this dataframe to an interactive table.\"\n",
              "              style=\"display:none;\">\n",
              "        \n",
              "  <svg xmlns=\"http://www.w3.org/2000/svg\" height=\"24px\"viewBox=\"0 0 24 24\"\n",
              "       width=\"24px\">\n",
              "    <path d=\"M0 0h24v24H0V0z\" fill=\"none\"/>\n",
              "    <path d=\"M18.56 5.44l.94 2.06.94-2.06 2.06-.94-2.06-.94-.94-2.06-.94 2.06-2.06.94zm-11 1L8.5 8.5l.94-2.06 2.06-.94-2.06-.94L8.5 2.5l-.94 2.06-2.06.94zm10 10l.94 2.06.94-2.06 2.06-.94-2.06-.94-.94-2.06-.94 2.06-2.06.94z\"/><path d=\"M17.41 7.96l-1.37-1.37c-.4-.4-.92-.59-1.43-.59-.52 0-1.04.2-1.43.59L10.3 9.45l-7.72 7.72c-.78.78-.78 2.05 0 2.83L4 21.41c.39.39.9.59 1.41.59.51 0 1.02-.2 1.41-.59l7.78-7.78 2.81-2.81c.8-.78.8-2.07 0-2.86zM5.41 20L4 18.59l7.72-7.72 1.47 1.35L5.41 20z\"/>\n",
              "  </svg>\n",
              "      </button>\n",
              "      \n",
              "  <style>\n",
              "    .colab-df-container {\n",
              "      display:flex;\n",
              "      flex-wrap:wrap;\n",
              "      gap: 12px;\n",
              "    }\n",
              "\n",
              "    .colab-df-convert {\n",
              "      background-color: #E8F0FE;\n",
              "      border: none;\n",
              "      border-radius: 50%;\n",
              "      cursor: pointer;\n",
              "      display: none;\n",
              "      fill: #1967D2;\n",
              "      height: 32px;\n",
              "      padding: 0 0 0 0;\n",
              "      width: 32px;\n",
              "    }\n",
              "\n",
              "    .colab-df-convert:hover {\n",
              "      background-color: #E2EBFA;\n",
              "      box-shadow: 0px 1px 2px rgba(60, 64, 67, 0.3), 0px 1px 3px 1px rgba(60, 64, 67, 0.15);\n",
              "      fill: #174EA6;\n",
              "    }\n",
              "\n",
              "    [theme=dark] .colab-df-convert {\n",
              "      background-color: #3B4455;\n",
              "      fill: #D2E3FC;\n",
              "    }\n",
              "\n",
              "    [theme=dark] .colab-df-convert:hover {\n",
              "      background-color: #434B5C;\n",
              "      box-shadow: 0px 1px 3px 1px rgba(0, 0, 0, 0.15);\n",
              "      filter: drop-shadow(0px 1px 2px rgba(0, 0, 0, 0.3));\n",
              "      fill: #FFFFFF;\n",
              "    }\n",
              "  </style>\n",
              "\n",
              "      <script>\n",
              "        const buttonEl =\n",
              "          document.querySelector('#df-a5bf1c62-a16e-4ff7-8f16-f158b9356dc7 button.colab-df-convert');\n",
              "        buttonEl.style.display =\n",
              "          google.colab.kernel.accessAllowed ? 'block' : 'none';\n",
              "\n",
              "        async function convertToInteractive(key) {\n",
              "          const element = document.querySelector('#df-a5bf1c62-a16e-4ff7-8f16-f158b9356dc7');\n",
              "          const dataTable =\n",
              "            await google.colab.kernel.invokeFunction('convertToInteractive',\n",
              "                                                     [key], {});\n",
              "          if (!dataTable) return;\n",
              "\n",
              "          const docLinkHtml = 'Like what you see? Visit the ' +\n",
              "            '<a target=\"_blank\" href=https://colab.research.google.com/notebooks/data_table.ipynb>data table notebook</a>'\n",
              "            + ' to learn more about interactive tables.';\n",
              "          element.innerHTML = '';\n",
              "          dataTable['output_type'] = 'display_data';\n",
              "          await google.colab.output.renderOutput(dataTable, element);\n",
              "          const docLink = document.createElement('div');\n",
              "          docLink.innerHTML = docLinkHtml;\n",
              "          element.appendChild(docLink);\n",
              "        }\n",
              "      </script>\n",
              "    </div>\n",
              "  </div>\n",
              "  "
            ]
          },
          "metadata": {},
          "execution_count": 45
        }
      ]
    },
    {
      "cell_type": "code",
      "source": [
        "accident_2021[['HPPN_Y', 'HPPN_X']].value_counts().loc[lambda x:x>1]"
      ],
      "metadata": {
        "colab": {
          "base_uri": "https://localhost:8080/"
        },
        "id": "8LVBNO7UioM9",
        "outputId": "19d3e636-3c93-4735-c40a-59a4721e94d2"
      },
      "execution_count": null,
      "outputs": [
        {
          "output_type": "execute_result",
          "data": {
            "text/plain": [
              "HPPN_X      HPPN_Y   \n",
              "127.404663  36.341685    5339\n",
              "127.327019  36.366825     131\n",
              "127.137808  36.830373     117\n",
              "127.353322  36.305138     110\n",
              "127.180888  36.855407      98\n",
              "                         ... \n",
              "127.430261  36.497782       2\n",
              "127.430204  36.327469       2\n",
              "127.423724  36.450580       2\n",
              "127.447171  36.360329       2\n",
              "127.457736  36.288561       2\n",
              "Length: 24417, dtype: int64"
            ]
          },
          "metadata": {},
          "execution_count": 46
        }
      ]
    },
    {
      "cell_type": "code",
      "source": [
        "sexdata_21=accident_2021.RPTER_SEX.value_counts().sort_index(ascending=True)\n",
        "plt.figure(figsize=(8,8))\n",
        "plt.bar(sexdata_21.index,sexdata_21)\n",
        "plt.title('신고자 성별')\n",
        "plt.xlabel('성별')\n",
        "plt.ylabel('숫자')\n",
        "plt.show()"
      ],
      "metadata": {
        "colab": {
          "base_uri": "https://localhost:8080/",
          "height": 512
        },
        "id": "clASUAlgQqcG",
        "outputId": "5d82bcea-c701-43e5-8521-cb63ca62b4e1"
      },
      "execution_count": null,
      "outputs": [
        {
          "output_type": "display_data",
          "data": {
            "text/plain": [
              "<Figure size 576x576 with 1 Axes>"
            ],
            "image/png": "[encoded data removed]"
          },
          "metadata": {
            "needs_background": "light"
          }
        }
      ]
    },
    {
      "cell_type": "code",
      "source": [
        "accident_dept_21=accident_2021.RECV_DEPT_NM\n",
        "accident_dept_21"
      ],
      "metadata": {
        "colab": {
          "base_uri": "https://localhost:8080/"
        },
        "id": "J3v27Hm0RSi0",
        "outputId": "267e9b97-0628-43f5-e66a-fea27905c1cc"
      },
      "execution_count": null,
      "outputs": [
        {
          "output_type": "execute_result",
          "data": {
            "text/plain": [
              "20         충남청\n",
              "23         대전청\n",
              "26         대전청\n",
              "44         충남청\n",
              "49         충남청\n",
              "          ... \n",
              "2593994    대전청\n",
              "2594002    충남청\n",
              "2594006    충남청\n",
              "2594019    대전청\n",
              "2594035    대전청\n",
              "Name: RECV_DEPT_NM, Length: 226336, dtype: object"
            ]
          },
          "metadata": {},
          "execution_count": 48
        }
      ]
    },
    {
      "cell_type": "code",
      "source": [
        "partdata_21=dept_by_accident=accident_dept_21.value_counts()\n",
        "partdata_21"
      ],
      "metadata": {
        "colab": {
          "base_uri": "https://localhost:8080/"
        },
        "id": "qVK5yaVtRjB4",
        "outputId": "a0840140-dd2d-4432-9dec-63eae3fe2970"
      },
      "execution_count": null,
      "outputs": [
        {
          "output_type": "execute_result",
          "data": {
            "text/plain": [
              "충남청        134084\n",
              "대전청         90718\n",
              "남대전지구대        286\n",
              "대전역지구대        225\n",
              "서대전지구대        204\n",
              "대전유성서         135\n",
              "대전파출소         114\n",
              "세종대왕파출소        79\n",
              "대전동부서          68\n",
              "대전서부서          59\n",
              "세종남부서          56\n",
              "대전중부서          51\n",
              "대전대덕서          42\n",
              "대전둔산서          41\n",
              "세종청            39\n",
              "세종서            38\n",
              "대전유성           19\n",
              "세종북부서          18\n",
              "세종             15\n",
              "세종로파출소         11\n",
              "대전둔산           11\n",
              "대전동부            9\n",
              "대전중부            6\n",
              "대전대덕            5\n",
              "대전서부            3\n",
              "Name: RECV_DEPT_NM, dtype: int64"
            ]
          },
          "metadata": {},
          "execution_count": 49
        }
      ]
    },
    {
      "cell_type": "code",
      "source": [
        "plt.figure(figsize=(24,8))\n",
        "plt.bar(partdata_21.index,partdata_21)\n",
        "plt.title('청별 교통사고')\n",
        "plt.xlabel('청')\n",
        "plt.ylabel('사고')\n",
        "plt.show()"
      ],
      "metadata": {
        "colab": {
          "base_uri": "https://localhost:8080/",
          "height": 512
        },
        "id": "iRD40hZ6RuQU",
        "outputId": "82e2efce-70c6-4c72-9059-1b422aec28f3"
      },
      "execution_count": null,
      "outputs": [
        {
          "output_type": "display_data",
          "data": {
            "text/plain": [
              "<Figure size 1728x576 with 1 Axes>"
            ],
            "image/png": "[encoded data removed]"
          },
          "metadata": {
            "needs_background": "light"
          }
        }
      ]
    },
    {
      "cell_type": "code",
      "source": [
        "plt.figure(figsize=(24,8))\n",
        "plt.bar(partdata_21[2:16].index,partdata_21[2:16])\n",
        "plt.title('청별 교통사고')\n",
        "plt.xlabel('청')\n",
        "plt.ylabel('사고')\n",
        "plt.show()"
      ],
      "metadata": {
        "colab": {
          "base_uri": "https://localhost:8080/",
          "height": 512
        },
        "id": "U8CVHUq-Rw5d",
        "outputId": "2d25d798-6288-4944-9f08-74deb7cb8a56"
      },
      "execution_count": null,
      "outputs": [
        {
          "output_type": "display_data",
          "data": {
            "text/plain": [
              "<Figure size 1728x576 with 1 Axes>"
            ],
            "image/png": "[encoded data removed]"
          },
          "metadata": {
            "needs_background": "light"
          }
        }
      ]
    },
    {
      "cell_type": "code",
      "source": [
        "plt.figure(figsize=(24,8))\n",
        "plt.pie(partdata_21[2:16], labels=accident_2021.RECV_DEPT_NM)\n",
        "plt.show()"
      ],
      "metadata": {
        "colab": {
          "base_uri": "https://localhost:8080/",
          "height": 849
        },
        "id": "6OeTqg0My7bz",
        "outputId": "b0caa178-c27f-4857-f805-5afbd3ec0d63"
      },
      "execution_count": null,
      "outputs": [
        {
          "output_type": "error",
          "ename": "ValueError",
          "evalue": "ignored",
          "traceback": [
            "\u001b[0;31m---------------------------------------------------------------------------\u001b[0m",
            "\u001b[0;31mValueError\u001b[0m                                Traceback (most recent call last)",
            "\u001b[0;32m<ipython-input-52-48a014fd229f>\u001b[0m in \u001b[0;36m<module>\u001b[0;34m\u001b[0m\n\u001b[1;32m      1\u001b[0m \u001b[0mplt\u001b[0m\u001b[0;34m.\u001b[0m\u001b[0mfigure\u001b[0m\u001b[0;34m(\u001b[0m\u001b[0mfigsize\u001b[0m\u001b[0;34m=\u001b[0m\u001b[0;34m(\u001b[0m\u001b[0;36m24\u001b[0m\u001b[0;34m,\u001b[0m\u001b[0;36m8\u001b[0m\u001b[0;34m)\u001b[0m\u001b[0;34m)\u001b[0m\u001b[0;34m\u001b[0m\u001b[0;34m\u001b[0m\u001b[0m\n\u001b[0;32m----> 2\u001b[0;31m \u001b[0mplt\u001b[0m\u001b[0;34m.\u001b[0m\u001b[0mpie\u001b[0m\u001b[0;34m(\u001b[0m\u001b[0mpartdata_21\u001b[0m\u001b[0;34m[\u001b[0m\u001b[0;36m2\u001b[0m\u001b[0;34m:\u001b[0m\u001b[0;36m16\u001b[0m\u001b[0;34m]\u001b[0m\u001b[0;34m,\u001b[0m \u001b[0mlabels\u001b[0m\u001b[0;34m=\u001b[0m\u001b[0maccident_2021\u001b[0m\u001b[0;34m.\u001b[0m\u001b[0mRECV_DEPT_NM\u001b[0m\u001b[0;34m)\u001b[0m\u001b[0;34m\u001b[0m\u001b[0;34m\u001b[0m\u001b[0m\n\u001b[0m\u001b[1;32m      3\u001b[0m \u001b[0mplt\u001b[0m\u001b[0;34m.\u001b[0m\u001b[0mshow\u001b[0m\u001b[0;34m(\u001b[0m\u001b[0;34m)\u001b[0m\u001b[0;34m\u001b[0m\u001b[0;34m\u001b[0m\u001b[0m\n",
            "\u001b[0;32m/usr/local/lib/python3.8/dist-packages/matplotlib/pyplot.py\u001b[0m in \u001b[0;36mpie\u001b[0;34m(x, explode, labels, colors, autopct, pctdistance, shadow, labeldistance, startangle, radius, counterclock, wedgeprops, textprops, center, frame, rotatelabels, data)\u001b[0m\n\u001b[1;32m   2746\u001b[0m         \u001b[0mwedgeprops\u001b[0m\u001b[0;34m=\u001b[0m\u001b[0;32mNone\u001b[0m\u001b[0;34m,\u001b[0m \u001b[0mtextprops\u001b[0m\u001b[0;34m=\u001b[0m\u001b[0;32mNone\u001b[0m\u001b[0;34m,\u001b[0m \u001b[0mcenter\u001b[0m\u001b[0;34m=\u001b[0m\u001b[0;34m(\u001b[0m\u001b[0;36m0\u001b[0m\u001b[0;34m,\u001b[0m \u001b[0;36m0\u001b[0m\u001b[0;34m)\u001b[0m\u001b[0;34m,\u001b[0m \u001b[0mframe\u001b[0m\u001b[0;34m=\u001b[0m\u001b[0;32mFalse\u001b[0m\u001b[0;34m,\u001b[0m\u001b[0;34m\u001b[0m\u001b[0;34m\u001b[0m\u001b[0m\n\u001b[1;32m   2747\u001b[0m         rotatelabels=False, *, data=None):\n\u001b[0;32m-> 2748\u001b[0;31m     return gca().pie(\n\u001b[0m\u001b[1;32m   2749\u001b[0m         \u001b[0mx\u001b[0m\u001b[0;34m,\u001b[0m \u001b[0mexplode\u001b[0m\u001b[0;34m=\u001b[0m\u001b[0mexplode\u001b[0m\u001b[0;34m,\u001b[0m \u001b[0mlabels\u001b[0m\u001b[0;34m=\u001b[0m\u001b[0mlabels\u001b[0m\u001b[0;34m,\u001b[0m \u001b[0mcolors\u001b[0m\u001b[0;34m=\u001b[0m\u001b[0mcolors\u001b[0m\u001b[0;34m,\u001b[0m\u001b[0;34m\u001b[0m\u001b[0;34m\u001b[0m\u001b[0m\n\u001b[1;32m   2750\u001b[0m         \u001b[0mautopct\u001b[0m\u001b[0;34m=\u001b[0m\u001b[0mautopct\u001b[0m\u001b[0;34m,\u001b[0m \u001b[0mpctdistance\u001b[0m\u001b[0;34m=\u001b[0m\u001b[0mpctdistance\u001b[0m\u001b[0;34m,\u001b[0m \u001b[0mshadow\u001b[0m\u001b[0;34m=\u001b[0m\u001b[0mshadow\u001b[0m\u001b[0;34m,\u001b[0m\u001b[0;34m\u001b[0m\u001b[0;34m\u001b[0m\u001b[0m\n",
            "\u001b[0;32m/usr/local/lib/python3.8/dist-packages/matplotlib/__init__.py\u001b[0m in \u001b[0;36minner\u001b[0;34m(ax, data, *args, **kwargs)\u001b[0m\n\u001b[1;32m   1563\u001b[0m     \u001b[0;32mdef\u001b[0m \u001b[0minner\u001b[0m\u001b[0;34m(\u001b[0m\u001b[0max\u001b[0m\u001b[0;34m,\u001b[0m \u001b[0;34m*\u001b[0m\u001b[0margs\u001b[0m\u001b[0;34m,\u001b[0m \u001b[0mdata\u001b[0m\u001b[0;34m=\u001b[0m\u001b[0;32mNone\u001b[0m\u001b[0;34m,\u001b[0m \u001b[0;34m**\u001b[0m\u001b[0mkwargs\u001b[0m\u001b[0;34m)\u001b[0m\u001b[0;34m:\u001b[0m\u001b[0;34m\u001b[0m\u001b[0;34m\u001b[0m\u001b[0m\n\u001b[1;32m   1564\u001b[0m         \u001b[0;32mif\u001b[0m \u001b[0mdata\u001b[0m \u001b[0;32mis\u001b[0m \u001b[0;32mNone\u001b[0m\u001b[0;34m:\u001b[0m\u001b[0;34m\u001b[0m\u001b[0;34m\u001b[0m\u001b[0m\n\u001b[0;32m-> 1565\u001b[0;31m             \u001b[0;32mreturn\u001b[0m \u001b[0mfunc\u001b[0m\u001b[0;34m(\u001b[0m\u001b[0max\u001b[0m\u001b[0;34m,\u001b[0m \u001b[0;34m*\u001b[0m\u001b[0mmap\u001b[0m\u001b[0;34m(\u001b[0m\u001b[0msanitize_sequence\u001b[0m\u001b[0;34m,\u001b[0m \u001b[0margs\u001b[0m\u001b[0;34m)\u001b[0m\u001b[0;34m,\u001b[0m \u001b[0;34m**\u001b[0m\u001b[0mkwargs\u001b[0m\u001b[0;34m)\u001b[0m\u001b[0;34m\u001b[0m\u001b[0;34m\u001b[0m\u001b[0m\n\u001b[0m\u001b[1;32m   1566\u001b[0m \u001b[0;34m\u001b[0m\u001b[0m\n\u001b[1;32m   1567\u001b[0m         \u001b[0mbound\u001b[0m \u001b[0;34m=\u001b[0m \u001b[0mnew_sig\u001b[0m\u001b[0;34m.\u001b[0m\u001b[0mbind\u001b[0m\u001b[0;34m(\u001b[0m\u001b[0max\u001b[0m\u001b[0;34m,\u001b[0m \u001b[0;34m*\u001b[0m\u001b[0margs\u001b[0m\u001b[0;34m,\u001b[0m \u001b[0;34m**\u001b[0m\u001b[0mkwargs\u001b[0m\u001b[0;34m)\u001b[0m\u001b[0;34m\u001b[0m\u001b[0;34m\u001b[0m\u001b[0m\n",
            "\u001b[0;32m/usr/local/lib/python3.8/dist-packages/matplotlib/axes/_axes.py\u001b[0m in \u001b[0;36mpie\u001b[0;34m(self, x, explode, labels, colors, autopct, pctdistance, shadow, labeldistance, startangle, radius, counterclock, wedgeprops, textprops, center, frame, rotatelabels)\u001b[0m\n\u001b[1;32m   2927\u001b[0m             \u001b[0mexplode\u001b[0m \u001b[0;34m=\u001b[0m \u001b[0;34m[\u001b[0m\u001b[0;36m0\u001b[0m\u001b[0;34m]\u001b[0m \u001b[0;34m*\u001b[0m \u001b[0mlen\u001b[0m\u001b[0;34m(\u001b[0m\u001b[0mx\u001b[0m\u001b[0;34m)\u001b[0m\u001b[0;34m\u001b[0m\u001b[0;34m\u001b[0m\u001b[0m\n\u001b[1;32m   2928\u001b[0m         \u001b[0;32mif\u001b[0m \u001b[0mlen\u001b[0m\u001b[0;34m(\u001b[0m\u001b[0mx\u001b[0m\u001b[0;34m)\u001b[0m \u001b[0;34m!=\u001b[0m \u001b[0mlen\u001b[0m\u001b[0;34m(\u001b[0m\u001b[0mlabels\u001b[0m\u001b[0;34m)\u001b[0m\u001b[0;34m:\u001b[0m\u001b[0;34m\u001b[0m\u001b[0;34m\u001b[0m\u001b[0m\n\u001b[0;32m-> 2929\u001b[0;31m             \u001b[0;32mraise\u001b[0m \u001b[0mValueError\u001b[0m\u001b[0;34m(\u001b[0m\u001b[0;34m\"'label' must be of length 'x'\"\u001b[0m\u001b[0;34m)\u001b[0m\u001b[0;34m\u001b[0m\u001b[0;34m\u001b[0m\u001b[0m\n\u001b[0m\u001b[1;32m   2930\u001b[0m         \u001b[0;32mif\u001b[0m \u001b[0mlen\u001b[0m\u001b[0;34m(\u001b[0m\u001b[0mx\u001b[0m\u001b[0;34m)\u001b[0m \u001b[0;34m!=\u001b[0m \u001b[0mlen\u001b[0m\u001b[0;34m(\u001b[0m\u001b[0mexplode\u001b[0m\u001b[0;34m)\u001b[0m\u001b[0;34m:\u001b[0m\u001b[0;34m\u001b[0m\u001b[0;34m\u001b[0m\u001b[0m\n\u001b[1;32m   2931\u001b[0m             \u001b[0;32mraise\u001b[0m \u001b[0mValueError\u001b[0m\u001b[0;34m(\u001b[0m\u001b[0;34m\"'explode' must be of length 'x'\"\u001b[0m\u001b[0;34m)\u001b[0m\u001b[0;34m\u001b[0m\u001b[0;34m\u001b[0m\u001b[0m\n",
            "\u001b[0;31mValueError\u001b[0m: 'label' must be of length 'x'"
          ]
        },
        {
          "output_type": "display_data",
          "data": {
            "text/plain": [
              "<Figure size 1728x576 with 1 Axes>"
            ],
            "image/png": "[encoded data removed]"
          },
          "metadata": {
            "needs_background": "light"
          }
        }
      ]
    },
    {
      "cell_type": "code",
      "source": [
        "accident_2021.Date"
      ],
      "metadata": {
        "colab": {
          "base_uri": "https://localhost:8080/"
        },
        "id": "jfUPAHDET-8B",
        "outputId": "f4301843-142d-423d-8a44-a9cca6872664"
      },
      "execution_count": null,
      "outputs": [
        {
          "output_type": "execute_result",
          "data": {
            "text/plain": [
              "20        2021-03-07 00:09:04\n",
              "23        2021-03-07 00:07:54\n",
              "26        2021-03-07 00:15:27\n",
              "44        2021-03-07 00:12:08\n",
              "49        2021-03-07 00:13:58\n",
              "                  ...        \n",
              "2593994   2023-01-15 20:01:39\n",
              "2594002   2023-01-16 21:26:56\n",
              "2594006   2023-01-14 01:02:48\n",
              "2594019   2023-01-14 17:35:38\n",
              "2594035   2023-01-15 01:13:20\n",
              "Name: Date, Length: 226336, dtype: datetime64[ns]"
            ]
          },
          "metadata": {},
          "execution_count": 53
        }
      ]
    },
    {
      "cell_type": "code",
      "source": [
        "monthdata_21=accident_2021.Date_month_name.value_counts().sort_index(ascending=True) #월별\n",
        "monthdata_21"
      ],
      "metadata": {
        "colab": {
          "base_uri": "https://localhost:8080/"
        },
        "id": "snxCK7qaUYyw",
        "outputId": "e7390755-7669-42ab-9764-e53ae676bf40"
      },
      "execution_count": null,
      "outputs": [
        {
          "output_type": "execute_result",
          "data": {
            "text/plain": [
              "April        17177\n",
              "August       19489\n",
              "December     19214\n",
              "February     13639\n",
              "January      19889\n",
              "July         19712\n",
              "June         18595\n",
              "March        16162\n",
              "May          19049\n",
              "November     20640\n",
              "October      21302\n",
              "September    21468\n",
              "Name: Date_month_name, dtype: int64"
            ]
          },
          "metadata": {},
          "execution_count": 56
        }
      ]
    },
    {
      "cell_type": "code",
      "source": [
        "months=['January','February','March','April',\"May\",\"June\",\"July\", \"August\", \"September\", \"October\", \"November\", \"December\"]\n",
        "monthdata_21=monthdata_21.agg(months)\n",
        "plt.figure(figsize=(12,10))\n",
        "plt.bar(monthdata_21.index,monthdata_21)\n",
        "plt.title('월 별 교통사고')\n",
        "plt.xlabel('월')\n",
        "plt.ylabel('사고')\n",
        "plt.xticks(rotation=90)\n",
        "plt.show()"
      ],
      "metadata": {
        "colab": {
          "base_uri": "https://localhost:8080/",
          "height": 661
        },
        "id": "PFOA3G65XnAp",
        "outputId": "2361472b-0e42-4ce3-aff7-f991743295d1"
      },
      "execution_count": null,
      "outputs": [
        {
          "output_type": "display_data",
          "data": {
            "text/plain": [
              "<Figure size 864x720 with 1 Axes>"
            ],
            "image/png": "[encoded data removed]"
          },
          "metadata": {
            "needs_background": "light"
          }
        }
      ]
    },
    {
      "cell_type": "code",
      "source": [
        "hourdata_21=accident_2021.Date_hour.value_counts().sort_index(ascending=True) #시간별\n",
        "hourdata_21"
      ],
      "metadata": {
        "colab": {
          "base_uri": "https://localhost:8080/"
        },
        "id": "F9fS7SgNNigu",
        "outputId": "67362640-308e-4ac5-e83a-f111811fbf94"
      },
      "execution_count": null,
      "outputs": [
        {
          "output_type": "execute_result",
          "data": {
            "text/plain": [
              "0      5279\n",
              "1      3597\n",
              "2      2419\n",
              "3      1826\n",
              "4      1555\n",
              "5      2045\n",
              "6      3524\n",
              "7      6318\n",
              "8     10951\n",
              "9     11101\n",
              "10    11742\n",
              "11    12524\n",
              "12    12781\n",
              "13    13706\n",
              "14    14545\n",
              "15    14715\n",
              "16    14984\n",
              "17    16069\n",
              "18    17515\n",
              "19    12745\n",
              "20    10793\n",
              "21    10156\n",
              "22     8869\n",
              "23     6577\n",
              "Name: Date_hour, dtype: int64"
            ]
          },
          "metadata": {},
          "execution_count": 57
        }
      ]
    },
    {
      "cell_type": "code",
      "source": [
        "plt.figure(figsize=(10,5))\n",
        "plt.bar(hourdata_21.index,hourdata_21)\n",
        "plt.title('시간별 교통사고')\n",
        "plt.xlabel('시간')\n",
        "plt.ylabel('사고')\n",
        "plt.xticks(np.arange(24))\n",
        "plt.show()"
      ],
      "metadata": {
        "colab": {
          "base_uri": "https://localhost:8080/",
          "height": 349
        },
        "id": "XrQxmHa9OGb8",
        "outputId": "d349cb7e-fa58-4231-f18b-7624bdec1937"
      },
      "execution_count": null,
      "outputs": [
        {
          "output_type": "display_data",
          "data": {
            "text/plain": [
              "<Figure size 720x360 with 1 Axes>"
            ],
            "image/png": "[encoded data removed]"
          },
          "metadata": {
            "needs_background": "light"
          }
        }
      ]
    },
    {
      "cell_type": "code",
      "source": [
        "weekdata_21=accident_2021.Date_weekname.value_counts().sort_index(ascending=True)\n",
        "weekdata_21"
      ],
      "metadata": {
        "colab": {
          "base_uri": "https://localhost:8080/"
        },
        "id": "6FYtfUhJOcdx",
        "outputId": "151da94e-0c30-455e-e76a-41e029d937a1"
      },
      "execution_count": null,
      "outputs": [
        {
          "output_type": "execute_result",
          "data": {
            "text/plain": [
              "Friday       35979\n",
              "Monday       32273\n",
              "Saturday     35393\n",
              "Sunday       26649\n",
              "Thursday     31750\n",
              "Tuesday      32085\n",
              "Wednesday    32207\n",
              "Name: Date_weekname, dtype: int64"
            ]
          },
          "metadata": {},
          "execution_count": 59
        }
      ]
    },
    {
      "cell_type": "code",
      "source": [
        "weeks=['Monday','Tuesday','Wednesday','Thursday',\"Friday\",\"Saturday\",\"Sunday\"]\n",
        "weekdata_21=weekdata_21.agg(weeks)\n",
        "plt.figure(figsize=(8,10))\n",
        "plt.bar(weekdata_21.index,weekdata_21)\n",
        "plt.title('요일 별 교통사고')\n",
        "plt.xlabel('요일')\n",
        "plt.ylabel('사고')\n",
        "plt.xticks(rotation=90)\n",
        "plt.show()"
      ],
      "metadata": {
        "colab": {
          "base_uri": "https://localhost:8080/",
          "height": 664
        },
        "id": "kIZ-1B9lOhEv",
        "outputId": "7c40cfe6-ef78-475f-a8b2-32d9ba82985b"
      },
      "execution_count": null,
      "outputs": [
        {
          "output_type": "display_data",
          "data": {
            "text/plain": [
              "<Figure size 576x720 with 1 Axes>"
            ],
            "image/png": "[encoded data removed]"
          },
          "metadata": {
            "needs_background": "light"
          }
        }
      ]
    },
    {
      "cell_type": "markdown",
      "source": [
        "# NPA"
      ],
      "metadata": {
        "id": "cnnBZBLoTWvc"
      }
    },
    {
      "cell_type": "code",
      "source": [
        "file_path3='/content/drive/MyDrive/traffic/NPA2020.csv'\n",
        "\n",
        "df_NPA_2020 = pd.read_csv(file_path3, encoding='cp949')\n",
        "df_NPA_2020"
      ],
      "metadata": {
        "colab": {
          "base_uri": "https://localhost:8080/",
          "height": 423
        },
        "id": "Wr7Tj95yTYwY",
        "outputId": "8e7db354-0191-471b-94a9-f27b306091eb"
      },
      "execution_count": null,
      "outputs": [
        {
          "output_type": "execute_result",
          "data": {
            "text/plain": [
              "         RECV_CPLT_DT  RECV_CPLT_TM  NPA_CL  EVT_STAT_CD  EVT_CL_CD RPTER_SEX  \\\n",
              "0            20200101             7      13           10        501         2   \n",
              "1            20200101           132      13           10        501         1   \n",
              "2            20200101            39      13           10        501         1   \n",
              "3            20200101           110      13           10        601         3   \n",
              "4            20200101           342      13           10        601         1   \n",
              "...               ...           ...     ...          ...        ...       ...   \n",
              "1178239      20201122          3505      19           10        501         1   \n",
              "1178240      20201122          5213      13           10        601             \n",
              "1178241      20201122          4627      19           10        601         1   \n",
              "1178242      20201122          5246      19            5        301         1   \n",
              "1178243      20201122          1134      13           10        601             \n",
              "\n",
              "                   HPPN_OLD_ADDR      HPPN_X     HPPN_Y SME_EVT_YN  \n",
              "0         대전광역시 중구 목동(행정:목동) 360  127.409270  36.333010          Y  \n",
              "1        대전광역시 중구 대흥동(대흥동) 499-1  127.421295  36.325575        NaN  \n",
              "2                            NaN  127.404663  36.341685        NaN  \n",
              "3                            NaN    0.000000   0.000000        NaN  \n",
              "4                            NaN  127.404663  36.341685        NaN  \n",
              "...                          ...         ...        ...        ...  \n",
              "1178239                                  NaN        NaN             \n",
              "1178240                           127.404663  36.341685             \n",
              "1178241                                  NaN        NaN          Y  \n",
              "1178242   충청남도 보령시 신흑동(행정:대천5동)   126.516040  36.305619             \n",
              "1178243                           127.404663  36.341685             \n",
              "\n",
              "[1178244 rows x 10 columns]"
            ],
            "text/html": [
              "\n",
              "  <div id=\"df-ccb89c11-27ea-4027-8425-e46013bc646d\">\n",
              "    <div class=\"colab-df-container\">\n",
              "      <div>\n",
              "<style scoped>\n",
              "    .dataframe tbody tr th:only-of-type {\n",
              "        vertical-align: middle;\n",
              "    }\n",
              "\n",
              "    .dataframe tbody tr th {\n",
              "        vertical-align: top;\n",
              "    }\n",
              "\n",
              "    .dataframe thead th {\n",
              "        text-align: right;\n",
              "    }\n",
              "</style>\n",
              "<table border=\"1\" class=\"dataframe\">\n",
              "  <thead>\n",
              "    <tr style=\"text-align: right;\">\n",
              "      <th></th>\n",
              "      <th>RECV_CPLT_DT</th>\n",
              "      <th>RECV_CPLT_TM</th>\n",
              "      <th>NPA_CL</th>\n",
              "      <th>EVT_STAT_CD</th>\n",
              "      <th>EVT_CL_CD</th>\n",
              "      <th>RPTER_SEX</th>\n",
              "      <th>HPPN_OLD_ADDR</th>\n",
              "      <th>HPPN_X</th>\n",
              "      <th>HPPN_Y</th>\n",
              "      <th>SME_EVT_YN</th>\n",
              "    </tr>\n",
              "  </thead>\n",
              "  <tbody>\n",
              "    <tr>\n",
              "      <th>0</th>\n",
              "      <td>20200101</td>\n",
              "      <td>7</td>\n",
              "      <td>13</td>\n",
              "      <td>10</td>\n",
              "      <td>501</td>\n",
              "      <td>2</td>\n",
              "      <td>대전광역시 중구 목동(행정:목동) 360</td>\n",
              "      <td>127.409270</td>\n",
              "      <td>36.333010</td>\n",
              "      <td>Y</td>\n",
              "    </tr>\n",
              "    <tr>\n",
              "      <th>1</th>\n",
              "      <td>20200101</td>\n",
              "      <td>132</td>\n",
              "      <td>13</td>\n",
              "      <td>10</td>\n",
              "      <td>501</td>\n",
              "      <td>1</td>\n",
              "      <td>대전광역시 중구 대흥동(대흥동) 499-1</td>\n",
              "      <td>127.421295</td>\n",
              "      <td>36.325575</td>\n",
              "      <td>NaN</td>\n",
              "    </tr>\n",
              "    <tr>\n",
              "      <th>2</th>\n",
              "      <td>20200101</td>\n",
              "      <td>39</td>\n",
              "      <td>13</td>\n",
              "      <td>10</td>\n",
              "      <td>501</td>\n",
              "      <td>1</td>\n",
              "      <td>NaN</td>\n",
              "      <td>127.404663</td>\n",
              "      <td>36.341685</td>\n",
              "      <td>NaN</td>\n",
              "    </tr>\n",
              "    <tr>\n",
              "      <th>3</th>\n",
              "      <td>20200101</td>\n",
              "      <td>110</td>\n",
              "      <td>13</td>\n",
              "      <td>10</td>\n",
              "      <td>601</td>\n",
              "      <td>3</td>\n",
              "      <td>NaN</td>\n",
              "      <td>0.000000</td>\n",
              "      <td>0.000000</td>\n",
              "      <td>NaN</td>\n",
              "    </tr>\n",
              "    <tr>\n",
              "      <th>4</th>\n",
              "      <td>20200101</td>\n",
              "      <td>342</td>\n",
              "      <td>13</td>\n",
              "      <td>10</td>\n",
              "      <td>601</td>\n",
              "      <td>1</td>\n",
              "      <td>NaN</td>\n",
              "      <td>127.404663</td>\n",
              "      <td>36.341685</td>\n",
              "      <td>NaN</td>\n",
              "    </tr>\n",
              "    <tr>\n",
              "      <th>...</th>\n",
              "      <td>...</td>\n",
              "      <td>...</td>\n",
              "      <td>...</td>\n",
              "      <td>...</td>\n",
              "      <td>...</td>\n",
              "      <td>...</td>\n",
              "      <td>...</td>\n",
              "      <td>...</td>\n",
              "      <td>...</td>\n",
              "      <td>...</td>\n",
              "    </tr>\n",
              "    <tr>\n",
              "      <th>1178239</th>\n",
              "      <td>20201122</td>\n",
              "      <td>3505</td>\n",
              "      <td>19</td>\n",
              "      <td>10</td>\n",
              "      <td>501</td>\n",
              "      <td>1</td>\n",
              "      <td></td>\n",
              "      <td>NaN</td>\n",
              "      <td>NaN</td>\n",
              "      <td></td>\n",
              "    </tr>\n",
              "    <tr>\n",
              "      <th>1178240</th>\n",
              "      <td>20201122</td>\n",
              "      <td>5213</td>\n",
              "      <td>13</td>\n",
              "      <td>10</td>\n",
              "      <td>601</td>\n",
              "      <td></td>\n",
              "      <td></td>\n",
              "      <td>127.404663</td>\n",
              "      <td>36.341685</td>\n",
              "      <td></td>\n",
              "    </tr>\n",
              "    <tr>\n",
              "      <th>1178241</th>\n",
              "      <td>20201122</td>\n",
              "      <td>4627</td>\n",
              "      <td>19</td>\n",
              "      <td>10</td>\n",
              "      <td>601</td>\n",
              "      <td>1</td>\n",
              "      <td></td>\n",
              "      <td>NaN</td>\n",
              "      <td>NaN</td>\n",
              "      <td>Y</td>\n",
              "    </tr>\n",
              "    <tr>\n",
              "      <th>1178242</th>\n",
              "      <td>20201122</td>\n",
              "      <td>5246</td>\n",
              "      <td>19</td>\n",
              "      <td>5</td>\n",
              "      <td>301</td>\n",
              "      <td>1</td>\n",
              "      <td>충청남도 보령시 신흑동(행정:대천5동)</td>\n",
              "      <td>126.516040</td>\n",
              "      <td>36.305619</td>\n",
              "      <td></td>\n",
              "    </tr>\n",
              "    <tr>\n",
              "      <th>1178243</th>\n",
              "      <td>20201122</td>\n",
              "      <td>1134</td>\n",
              "      <td>13</td>\n",
              "      <td>10</td>\n",
              "      <td>601</td>\n",
              "      <td></td>\n",
              "      <td></td>\n",
              "      <td>127.404663</td>\n",
              "      <td>36.341685</td>\n",
              "      <td></td>\n",
              "    </tr>\n",
              "  </tbody>\n",
              "</table>\n",
              "<p>1178244 rows × 10 columns</p>\n",
              "</div>\n",
              "      <button class=\"colab-df-convert\" onclick=\"convertToInteractive('df-ccb89c11-27ea-4027-8425-e46013bc646d')\"\n",
              "              title=\"Convert this dataframe to an interactive table.\"\n",
              "              style=\"display:none;\">\n",
              "        \n",
              "  <svg xmlns=\"http://www.w3.org/2000/svg\" height=\"24px\"viewBox=\"0 0 24 24\"\n",
              "       width=\"24px\">\n",
              "    <path d=\"M0 0h24v24H0V0z\" fill=\"none\"/>\n",
              "    <path d=\"M18.56 5.44l.94 2.06.94-2.06 2.06-.94-2.06-.94-.94-2.06-.94 2.06-2.06.94zm-11 1L8.5 8.5l.94-2.06 2.06-.94-2.06-.94L8.5 2.5l-.94 2.06-2.06.94zm10 10l.94 2.06.94-2.06 2.06-.94-2.06-.94-.94-2.06-.94 2.06-2.06.94z\"/><path d=\"M17.41 7.96l-1.37-1.37c-.4-.4-.92-.59-1.43-.59-.52 0-1.04.2-1.43.59L10.3 9.45l-7.72 7.72c-.78.78-.78 2.05 0 2.83L4 21.41c.39.39.9.59 1.41.59.51 0 1.02-.2 1.41-.59l7.78-7.78 2.81-2.81c.8-.78.8-2.07 0-2.86zM5.41 20L4 18.59l7.72-7.72 1.47 1.35L5.41 20z\"/>\n",
              "  </svg>\n",
              "      </button>\n",
              "      \n",
              "  <style>\n",
              "    .colab-df-container {\n",
              "      display:flex;\n",
              "      flex-wrap:wrap;\n",
              "      gap: 12px;\n",
              "    }\n",
              "\n",
              "    .colab-df-convert {\n",
              "      background-color: #E8F0FE;\n",
              "      border: none;\n",
              "      border-radius: 50%;\n",
              "      cursor: pointer;\n",
              "      display: none;\n",
              "      fill: #1967D2;\n",
              "      height: 32px;\n",
              "      padding: 0 0 0 0;\n",
              "      width: 32px;\n",
              "    }\n",
              "\n",
              "    .colab-df-convert:hover {\n",
              "      background-color: #E2EBFA;\n",
              "      box-shadow: 0px 1px 2px rgba(60, 64, 67, 0.3), 0px 1px 3px 1px rgba(60, 64, 67, 0.15);\n",
              "      fill: #174EA6;\n",
              "    }\n",
              "\n",
              "    [theme=dark] .colab-df-convert {\n",
              "      background-color: #3B4455;\n",
              "      fill: #D2E3FC;\n",
              "    }\n",
              "\n",
              "    [theme=dark] .colab-df-convert:hover {\n",
              "      background-color: #434B5C;\n",
              "      box-shadow: 0px 1px 3px 1px rgba(0, 0, 0, 0.15);\n",
              "      filter: drop-shadow(0px 1px 2px rgba(0, 0, 0, 0.3));\n",
              "      fill: #FFFFFF;\n",
              "    }\n",
              "  </style>\n",
              "\n",
              "      <script>\n",
              "        const buttonEl =\n",
              "          document.querySelector('#df-ccb89c11-27ea-4027-8425-e46013bc646d button.colab-df-convert');\n",
              "        buttonEl.style.display =\n",
              "          google.colab.kernel.accessAllowed ? 'block' : 'none';\n",
              "\n",
              "        async function convertToInteractive(key) {\n",
              "          const element = document.querySelector('#df-ccb89c11-27ea-4027-8425-e46013bc646d');\n",
              "          const dataTable =\n",
              "            await google.colab.kernel.invokeFunction('convertToInteractive',\n",
              "                                                     [key], {});\n",
              "          if (!dataTable) return;\n",
              "\n",
              "          const docLinkHtml = 'Like what you see? Visit the ' +\n",
              "            '<a target=\"_blank\" href=https://colab.research.google.com/notebooks/data_table.ipynb>data table notebook</a>'\n",
              "            + ' to learn more about interactive tables.';\n",
              "          element.innerHTML = '';\n",
              "          dataTable['output_type'] = 'display_data';\n",
              "          await google.colab.output.renderOutput(dataTable, element);\n",
              "          const docLink = document.createElement('div');\n",
              "          docLink.innerHTML = docLinkHtml;\n",
              "          element.appendChild(docLink);\n",
              "        }\n",
              "      </script>\n",
              "    </div>\n",
              "  </div>\n",
              "  "
            ]
          },
          "metadata": {},
          "execution_count": 61
        }
      ]
    },
    {
      "cell_type": "code",
      "source": [
        "df_NPA_2020.dtypes"
      ],
      "metadata": {
        "colab": {
          "base_uri": "https://localhost:8080/"
        },
        "id": "zOYI3S77VjY2",
        "outputId": "665937d8-579e-44c0-eb31-72d54c739833"
      },
      "execution_count": null,
      "outputs": [
        {
          "output_type": "execute_result",
          "data": {
            "text/plain": [
              "RECV_CPLT_DT       int64\n",
              "RECV_CPLT_TM       int64\n",
              "NPA_CL             int64\n",
              "EVT_STAT_CD        int64\n",
              "EVT_CL_CD          int64\n",
              "RPTER_SEX         object\n",
              "HPPN_OLD_ADDR     object\n",
              "HPPN_X           float64\n",
              "HPPN_Y           float64\n",
              "SME_EVT_YN        object\n",
              "dtype: object"
            ]
          },
          "metadata": {},
          "execution_count": 62
        }
      ]
    },
    {
      "cell_type": "code",
      "source": [
        "change_date=df_NPA_2020['Date'] = df_NPA_2020['RECV_CPLT_DT'].apply(lambda x: pd.to_datetime(str(x), format='%Y-%m-%d')) #날짜 데이터로 바꾸기\n",
        "change_date"
      ],
      "metadata": {
        "colab": {
          "base_uri": "https://localhost:8080/"
        },
        "id": "K5YznhVgTox2",
        "outputId": "1f4438ad-f967-40f5-bbca-d938a8be7a38"
      },
      "execution_count": null,
      "outputs": [
        {
          "output_type": "execute_result",
          "data": {
            "text/plain": [
              "0         2020-01-01\n",
              "1         2020-01-01\n",
              "2         2020-01-01\n",
              "3         2020-01-01\n",
              "4         2020-01-01\n",
              "             ...    \n",
              "1178239   2020-11-22\n",
              "1178240   2020-11-22\n",
              "1178241   2020-11-22\n",
              "1178242   2020-11-22\n",
              "1178243   2020-11-22\n",
              "Name: RECV_CPLT_DT, Length: 1178244, dtype: datetime64[ns]"
            ]
          },
          "metadata": {},
          "execution_count": 63
        }
      ]
    },
    {
      "cell_type": "code",
      "source": [
        "df_NPA_2020['Time'] = pd.to_datetime(df_NPA_2020['RECV_CPLT_TM'].astype(str).str.zfill(6), format='%H%M%S') #시간데이터로 바꾸기, 앞에 1900-01-01은 밑에서 다 버릴예정\n",
        "df_NPA_2020.Time\n"
      ],
      "metadata": {
        "colab": {
          "base_uri": "https://localhost:8080/"
        },
        "id": "kR_2YLO0W9cw",
        "outputId": "da4d6682-8f93-4dd4-ddad-3d6ffc2d2d3c"
      },
      "execution_count": null,
      "outputs": [
        {
          "output_type": "execute_result",
          "data": {
            "text/plain": [
              "0         1900-01-01 00:00:07\n",
              "1         1900-01-01 00:01:32\n",
              "2         1900-01-01 00:00:39\n",
              "3         1900-01-01 00:01:10\n",
              "4         1900-01-01 00:03:42\n",
              "                  ...        \n",
              "1178239   1900-01-01 00:35:05\n",
              "1178240   1900-01-01 00:52:13\n",
              "1178241   1900-01-01 00:46:27\n",
              "1178242   1900-01-01 00:52:46\n",
              "1178243   1900-01-01 00:11:34\n",
              "Name: Time, Length: 1178244, dtype: datetime64[ns]"
            ]
          },
          "metadata": {},
          "execution_count": 64
        }
      ]
    },
    {
      "cell_type": "code",
      "source": [
        "df_NPA_2020['Date_month']=df_NPA_2020['Date'].dt.month #월별로 데이터처리\n",
        "df_NPA_2020['Date_month_name']=df_NPA_2020['Date'].dt.month_name() #월별로 데이터처리\n",
        "df_NPA_2020['Date_date']=df_NPA_2020['Date'].dt.date #날짜별로 데이터처리\n",
        "df_NPA_2020['Date_day']=df_NPA_2020['Date'].dt.day #일별로 데이터 처리\n",
        "df_NPA_2020['Date_time']=df_NPA_2020['Time'].dt.time #전체 시간별로 데이터 처리\n",
        "df_NPA_2020['Date_hour']=df_NPA_2020['Time'].dt.hour #시간별로 데이터 처리(0~23시)\n",
        "df_NPA_2020['Date_weekname']=df_NPA_2020['Date'].dt.day_name() #요일별 데이터 처리"
      ],
      "metadata": {
        "id": "FK9Qz5EdPBoC"
      },
      "execution_count": null,
      "outputs": []
    },
    {
      "cell_type": "code",
      "source": [
        "is_accident_2020 = (df_NPA_2020['EVT_CL_CD'] == 401) | (df_NPA_2020['EVT_CL_CD']==402) | (df_NPA_2020['EVT_CL_CD']==403) | (df_NPA_2020['EVT_CL_CD']==404) #교통관련 데이터만 분류\n",
        "accident_2020 = df_NPA_2020[is_accident_2020]\n",
        "accident_2020"
      ],
      "metadata": {
        "colab": {
          "base_uri": "https://localhost:8080/",
          "height": 834
        },
        "id": "xYHSoVueRRsi",
        "outputId": "7b0d99c0-4b77-4ba6-d99f-b2468154beda"
      },
      "execution_count": null,
      "outputs": [
        {
          "output_type": "execute_result",
          "data": {
            "text/plain": [
              "         RECV_CPLT_DT  RECV_CPLT_TM  NPA_CL  EVT_STAT_CD  EVT_CL_CD RPTER_SEX  \\\n",
              "38           20200101          3240      13           10        402         1   \n",
              "54           20200101          2135      13           10        401         1   \n",
              "66           20200101          4301      13           10        401         1   \n",
              "117          20200101        184335      13           10        401         3   \n",
              "118          20200101        184647      13           10        403         1   \n",
              "...               ...           ...     ...          ...        ...       ...   \n",
              "1178004      20201120        102622      19           10        402         1   \n",
              "1178035      20201122           322      13            5        401         1   \n",
              "1178051      20201122          5410      13            5        401         1   \n",
              "1178086      20201122          4008      13            5        401         1   \n",
              "1178173      20201122          3753      13            5        401         1   \n",
              "\n",
              "                         HPPN_OLD_ADDR      HPPN_X     HPPN_Y SME_EVT_YN  \\\n",
              "38            대전광역시 서구 탄방동(탄방동) 1447-1  127.386346  36.346856        NaN   \n",
              "54       대전광역시 유성구 봉명동(행정:온천1동) 541-26  127.348625  36.353829        NaN   \n",
              "66         대전광역시 중구 오류동(행정:오류동) 187-27  127.405055  36.328573        NaN   \n",
              "117                   대전광역시 동구 가양동 630  127.445780  36.345500          N   \n",
              "118                                NaN  127.404663  36.341685        NaN   \n",
              "...                                ...         ...        ...        ...   \n",
              "1178004    충청남도 논산시 강경읍 염천리(행정:강경읍) 20  127.014461  36.161151              \n",
              "1178035   대전광역시 유성구 봉명동(행정:온천1동) 651-1  127.347209  36.357588              \n",
              "1178051   대전광역시 유성구 장대동(행정:온천2동) 375-3  127.339844  36.358391              \n",
              "1178086       대전광역시 동구 신흥동(행정:신인동) 212  127.446090  36.320140          Y   \n",
              "1178173       대전광역시 동구 신흥동(행정:신인동) 212  127.446090  36.320140          Y   \n",
              "\n",
              "              Date                Time  Date_month Date_month_name  \\\n",
              "38      2020-01-01 1900-01-01 00:32:40           1         January   \n",
              "54      2020-01-01 1900-01-01 00:21:35           1         January   \n",
              "66      2020-01-01 1900-01-01 00:43:01           1         January   \n",
              "117     2020-01-01 1900-01-01 18:43:35           1         January   \n",
              "118     2020-01-01 1900-01-01 18:46:47           1         January   \n",
              "...            ...                 ...         ...             ...   \n",
              "1178004 2020-11-20 1900-01-01 10:26:22          11        November   \n",
              "1178035 2020-11-22 1900-01-01 00:03:22          11        November   \n",
              "1178051 2020-11-22 1900-01-01 00:54:10          11        November   \n",
              "1178086 2020-11-22 1900-01-01 00:40:08          11        November   \n",
              "1178173 2020-11-22 1900-01-01 00:37:53          11        November   \n",
              "\n",
              "          Date_date  Date_day Date_time  Date_hour Date_weekname  \n",
              "38       2020-01-01         1  00:32:40          0     Wednesday  \n",
              "54       2020-01-01         1  00:21:35          0     Wednesday  \n",
              "66       2020-01-01         1  00:43:01          0     Wednesday  \n",
              "117      2020-01-01         1  18:43:35         18     Wednesday  \n",
              "118      2020-01-01         1  18:46:47         18     Wednesday  \n",
              "...             ...       ...       ...        ...           ...  \n",
              "1178004  2020-11-20        20  10:26:22         10        Friday  \n",
              "1178035  2020-11-22        22  00:03:22          0        Sunday  \n",
              "1178051  2020-11-22        22  00:54:10          0        Sunday  \n",
              "1178086  2020-11-22        22  00:40:08          0        Sunday  \n",
              "1178173  2020-11-22        22  00:37:53          0        Sunday  \n",
              "\n",
              "[126113 rows x 19 columns]"
            ],
            "text/html": [
              "\n",
              "  <div id=\"df-6a1763b1-82c4-45e3-ba1f-c285565d8ee0\">\n",
              "    <div class=\"colab-df-container\">\n",
              "      <div>\n",
              "<style scoped>\n",
              "    .dataframe tbody tr th:only-of-type {\n",
              "        vertical-align: middle;\n",
              "    }\n",
              "\n",
              "    .dataframe tbody tr th {\n",
              "        vertical-align: top;\n",
              "    }\n",
              "\n",
              "    .dataframe thead th {\n",
              "        text-align: right;\n",
              "    }\n",
              "</style>\n",
              "<table border=\"1\" class=\"dataframe\">\n",
              "  <thead>\n",
              "    <tr style=\"text-align: right;\">\n",
              "      <th></th>\n",
              "      <th>RECV_CPLT_DT</th>\n",
              "      <th>RECV_CPLT_TM</th>\n",
              "      <th>NPA_CL</th>\n",
              "      <th>EVT_STAT_CD</th>\n",
              "      <th>EVT_CL_CD</th>\n",
              "      <th>RPTER_SEX</th>\n",
              "      <th>HPPN_OLD_ADDR</th>\n",
              "      <th>HPPN_X</th>\n",
              "      <th>HPPN_Y</th>\n",
              "      <th>SME_EVT_YN</th>\n",
              "      <th>Date</th>\n",
              "      <th>Time</th>\n",
              "      <th>Date_month</th>\n",
              "      <th>Date_month_name</th>\n",
              "      <th>Date_date</th>\n",
              "      <th>Date_day</th>\n",
              "      <th>Date_time</th>\n",
              "      <th>Date_hour</th>\n",
              "      <th>Date_weekname</th>\n",
              "    </tr>\n",
              "  </thead>\n",
              "  <tbody>\n",
              "    <tr>\n",
              "      <th>38</th>\n",
              "      <td>20200101</td>\n",
              "      <td>3240</td>\n",
              "      <td>13</td>\n",
              "      <td>10</td>\n",
              "      <td>402</td>\n",
              "      <td>1</td>\n",
              "      <td>대전광역시 서구 탄방동(탄방동) 1447-1</td>\n",
              "      <td>127.386346</td>\n",
              "      <td>36.346856</td>\n",
              "      <td>NaN</td>\n",
              "      <td>2020-01-01</td>\n",
              "      <td>1900-01-01 00:32:40</td>\n",
              "      <td>1</td>\n",
              "      <td>January</td>\n",
              "      <td>2020-01-01</td>\n",
              "      <td>1</td>\n",
              "      <td>00:32:40</td>\n",
              "      <td>0</td>\n",
              "      <td>Wednesday</td>\n",
              "    </tr>\n",
              "    <tr>\n",
              "      <th>54</th>\n",
              "      <td>20200101</td>\n",
              "      <td>2135</td>\n",
              "      <td>13</td>\n",
              "      <td>10</td>\n",
              "      <td>401</td>\n",
              "      <td>1</td>\n",
              "      <td>대전광역시 유성구 봉명동(행정:온천1동) 541-26</td>\n",
              "      <td>127.348625</td>\n",
              "      <td>36.353829</td>\n",
              "      <td>NaN</td>\n",
              "      <td>2020-01-01</td>\n",
              "      <td>1900-01-01 00:21:35</td>\n",
              "      <td>1</td>\n",
              "      <td>January</td>\n",
              "      <td>2020-01-01</td>\n",
              "      <td>1</td>\n",
              "      <td>00:21:35</td>\n",
              "      <td>0</td>\n",
              "      <td>Wednesday</td>\n",
              "    </tr>\n",
              "    <tr>\n",
              "      <th>66</th>\n",
              "      <td>20200101</td>\n",
              "      <td>4301</td>\n",
              "      <td>13</td>\n",
              "      <td>10</td>\n",
              "      <td>401</td>\n",
              "      <td>1</td>\n",
              "      <td>대전광역시 중구 오류동(행정:오류동) 187-27</td>\n",
              "      <td>127.405055</td>\n",
              "      <td>36.328573</td>\n",
              "      <td>NaN</td>\n",
              "      <td>2020-01-01</td>\n",
              "      <td>1900-01-01 00:43:01</td>\n",
              "      <td>1</td>\n",
              "      <td>January</td>\n",
              "      <td>2020-01-01</td>\n",
              "      <td>1</td>\n",
              "      <td>00:43:01</td>\n",
              "      <td>0</td>\n",
              "      <td>Wednesday</td>\n",
              "    </tr>\n",
              "    <tr>\n",
              "      <th>117</th>\n",
              "      <td>20200101</td>\n",
              "      <td>184335</td>\n",
              "      <td>13</td>\n",
              "      <td>10</td>\n",
              "      <td>401</td>\n",
              "      <td>3</td>\n",
              "      <td>대전광역시 동구 가양동 630</td>\n",
              "      <td>127.445780</td>\n",
              "      <td>36.345500</td>\n",
              "      <td>N</td>\n",
              "      <td>2020-01-01</td>\n",
              "      <td>1900-01-01 18:43:35</td>\n",
              "      <td>1</td>\n",
              "      <td>January</td>\n",
              "      <td>2020-01-01</td>\n",
              "      <td>1</td>\n",
              "      <td>18:43:35</td>\n",
              "      <td>18</td>\n",
              "      <td>Wednesday</td>\n",
              "    </tr>\n",
              "    <tr>\n",
              "      <th>118</th>\n",
              "      <td>20200101</td>\n",
              "      <td>184647</td>\n",
              "      <td>13</td>\n",
              "      <td>10</td>\n",
              "      <td>403</td>\n",
              "      <td>1</td>\n",
              "      <td>NaN</td>\n",
              "      <td>127.404663</td>\n",
              "      <td>36.341685</td>\n",
              "      <td>NaN</td>\n",
              "      <td>2020-01-01</td>\n",
              "      <td>1900-01-01 18:46:47</td>\n",
              "      <td>1</td>\n",
              "      <td>January</td>\n",
              "      <td>2020-01-01</td>\n",
              "      <td>1</td>\n",
              "      <td>18:46:47</td>\n",
              "      <td>18</td>\n",
              "      <td>Wednesday</td>\n",
              "    </tr>\n",
              "    <tr>\n",
              "      <th>...</th>\n",
              "      <td>...</td>\n",
              "      <td>...</td>\n",
              "      <td>...</td>\n",
              "      <td>...</td>\n",
              "      <td>...</td>\n",
              "      <td>...</td>\n",
              "      <td>...</td>\n",
              "      <td>...</td>\n",
              "      <td>...</td>\n",
              "      <td>...</td>\n",
              "      <td>...</td>\n",
              "      <td>...</td>\n",
              "      <td>...</td>\n",
              "      <td>...</td>\n",
              "      <td>...</td>\n",
              "      <td>...</td>\n",
              "      <td>...</td>\n",
              "      <td>...</td>\n",
              "      <td>...</td>\n",
              "    </tr>\n",
              "    <tr>\n",
              "      <th>1178004</th>\n",
              "      <td>20201120</td>\n",
              "      <td>102622</td>\n",
              "      <td>19</td>\n",
              "      <td>10</td>\n",
              "      <td>402</td>\n",
              "      <td>1</td>\n",
              "      <td>충청남도 논산시 강경읍 염천리(행정:강경읍) 20</td>\n",
              "      <td>127.014461</td>\n",
              "      <td>36.161151</td>\n",
              "      <td></td>\n",
              "      <td>2020-11-20</td>\n",
              "      <td>1900-01-01 10:26:22</td>\n",
              "      <td>11</td>\n",
              "      <td>November</td>\n",
              "      <td>2020-11-20</td>\n",
              "      <td>20</td>\n",
              "      <td>10:26:22</td>\n",
              "      <td>10</td>\n",
              "      <td>Friday</td>\n",
              "    </tr>\n",
              "    <tr>\n",
              "      <th>1178035</th>\n",
              "      <td>20201122</td>\n",
              "      <td>322</td>\n",
              "      <td>13</td>\n",
              "      <td>5</td>\n",
              "      <td>401</td>\n",
              "      <td>1</td>\n",
              "      <td>대전광역시 유성구 봉명동(행정:온천1동) 651-1</td>\n",
              "      <td>127.347209</td>\n",
              "      <td>36.357588</td>\n",
              "      <td></td>\n",
              "      <td>2020-11-22</td>\n",
              "      <td>1900-01-01 00:03:22</td>\n",
              "      <td>11</td>\n",
              "      <td>November</td>\n",
              "      <td>2020-11-22</td>\n",
              "      <td>22</td>\n",
              "      <td>00:03:22</td>\n",
              "      <td>0</td>\n",
              "      <td>Sunday</td>\n",
              "    </tr>\n",
              "    <tr>\n",
              "      <th>1178051</th>\n",
              "      <td>20201122</td>\n",
              "      <td>5410</td>\n",
              "      <td>13</td>\n",
              "      <td>5</td>\n",
              "      <td>401</td>\n",
              "      <td>1</td>\n",
              "      <td>대전광역시 유성구 장대동(행정:온천2동) 375-3</td>\n",
              "      <td>127.339844</td>\n",
              "      <td>36.358391</td>\n",
              "      <td></td>\n",
              "      <td>2020-11-22</td>\n",
              "      <td>1900-01-01 00:54:10</td>\n",
              "      <td>11</td>\n",
              "      <td>November</td>\n",
              "      <td>2020-11-22</td>\n",
              "      <td>22</td>\n",
              "      <td>00:54:10</td>\n",
              "      <td>0</td>\n",
              "      <td>Sunday</td>\n",
              "    </tr>\n",
              "    <tr>\n",
              "      <th>1178086</th>\n",
              "      <td>20201122</td>\n",
              "      <td>4008</td>\n",
              "      <td>13</td>\n",
              "      <td>5</td>\n",
              "      <td>401</td>\n",
              "      <td>1</td>\n",
              "      <td>대전광역시 동구 신흥동(행정:신인동) 212</td>\n",
              "      <td>127.446090</td>\n",
              "      <td>36.320140</td>\n",
              "      <td>Y</td>\n",
              "      <td>2020-11-22</td>\n",
              "      <td>1900-01-01 00:40:08</td>\n",
              "      <td>11</td>\n",
              "      <td>November</td>\n",
              "      <td>2020-11-22</td>\n",
              "      <td>22</td>\n",
              "      <td>00:40:08</td>\n",
              "      <td>0</td>\n",
              "      <td>Sunday</td>\n",
              "    </tr>\n",
              "    <tr>\n",
              "      <th>1178173</th>\n",
              "      <td>20201122</td>\n",
              "      <td>3753</td>\n",
              "      <td>13</td>\n",
              "      <td>5</td>\n",
              "      <td>401</td>\n",
              "      <td>1</td>\n",
              "      <td>대전광역시 동구 신흥동(행정:신인동) 212</td>\n",
              "      <td>127.446090</td>\n",
              "      <td>36.320140</td>\n",
              "      <td>Y</td>\n",
              "      <td>2020-11-22</td>\n",
              "      <td>1900-01-01 00:37:53</td>\n",
              "      <td>11</td>\n",
              "      <td>November</td>\n",
              "      <td>2020-11-22</td>\n",
              "      <td>22</td>\n",
              "      <td>00:37:53</td>\n",
              "      <td>0</td>\n",
              "      <td>Sunday</td>\n",
              "    </tr>\n",
              "  </tbody>\n",
              "</table>\n",
              "<p>126113 rows × 19 columns</p>\n",
              "</div>\n",
              "      <button class=\"colab-df-convert\" onclick=\"convertToInteractive('df-6a1763b1-82c4-45e3-ba1f-c285565d8ee0')\"\n",
              "              title=\"Convert this dataframe to an interactive table.\"\n",
              "              style=\"display:none;\">\n",
              "        \n",
              "  <svg xmlns=\"http://www.w3.org/2000/svg\" height=\"24px\"viewBox=\"0 0 24 24\"\n",
              "       width=\"24px\">\n",
              "    <path d=\"M0 0h24v24H0V0z\" fill=\"none\"/>\n",
              "    <path d=\"M18.56 5.44l.94 2.06.94-2.06 2.06-.94-2.06-.94-.94-2.06-.94 2.06-2.06.94zm-11 1L8.5 8.5l.94-2.06 2.06-.94-2.06-.94L8.5 2.5l-.94 2.06-2.06.94zm10 10l.94 2.06.94-2.06 2.06-.94-2.06-.94-.94-2.06-.94 2.06-2.06.94z\"/><path d=\"M17.41 7.96l-1.37-1.37c-.4-.4-.92-.59-1.43-.59-.52 0-1.04.2-1.43.59L10.3 9.45l-7.72 7.72c-.78.78-.78 2.05 0 2.83L4 21.41c.39.39.9.59 1.41.59.51 0 1.02-.2 1.41-.59l7.78-7.78 2.81-2.81c.8-.78.8-2.07 0-2.86zM5.41 20L4 18.59l7.72-7.72 1.47 1.35L5.41 20z\"/>\n",
              "  </svg>\n",
              "      </button>\n",
              "      \n",
              "  <style>\n",
              "    .colab-df-container {\n",
              "      display:flex;\n",
              "      flex-wrap:wrap;\n",
              "      gap: 12px;\n",
              "    }\n",
              "\n",
              "    .colab-df-convert {\n",
              "      background-color: #E8F0FE;\n",
              "      border: none;\n",
              "      border-radius: 50%;\n",
              "      cursor: pointer;\n",
              "      display: none;\n",
              "      fill: #1967D2;\n",
              "      height: 32px;\n",
              "      padding: 0 0 0 0;\n",
              "      width: 32px;\n",
              "    }\n",
              "\n",
              "    .colab-df-convert:hover {\n",
              "      background-color: #E2EBFA;\n",
              "      box-shadow: 0px 1px 2px rgba(60, 64, 67, 0.3), 0px 1px 3px 1px rgba(60, 64, 67, 0.15);\n",
              "      fill: #174EA6;\n",
              "    }\n",
              "\n",
              "    [theme=dark] .colab-df-convert {\n",
              "      background-color: #3B4455;\n",
              "      fill: #D2E3FC;\n",
              "    }\n",
              "\n",
              "    [theme=dark] .colab-df-convert:hover {\n",
              "      background-color: #434B5C;\n",
              "      box-shadow: 0px 1px 3px 1px rgba(0, 0, 0, 0.15);\n",
              "      filter: drop-shadow(0px 1px 2px rgba(0, 0, 0, 0.3));\n",
              "      fill: #FFFFFF;\n",
              "    }\n",
              "  </style>\n",
              "\n",
              "      <script>\n",
              "        const buttonEl =\n",
              "          document.querySelector('#df-6a1763b1-82c4-45e3-ba1f-c285565d8ee0 button.colab-df-convert');\n",
              "        buttonEl.style.display =\n",
              "          google.colab.kernel.accessAllowed ? 'block' : 'none';\n",
              "\n",
              "        async function convertToInteractive(key) {\n",
              "          const element = document.querySelector('#df-6a1763b1-82c4-45e3-ba1f-c285565d8ee0');\n",
              "          const dataTable =\n",
              "            await google.colab.kernel.invokeFunction('convertToInteractive',\n",
              "                                                     [key], {});\n",
              "          if (!dataTable) return;\n",
              "\n",
              "          const docLinkHtml = 'Like what you see? Visit the ' +\n",
              "            '<a target=\"_blank\" href=https://colab.research.google.com/notebooks/data_table.ipynb>data table notebook</a>'\n",
              "            + ' to learn more about interactive tables.';\n",
              "          element.innerHTML = '';\n",
              "          dataTable['output_type'] = 'display_data';\n",
              "          await google.colab.output.renderOutput(dataTable, element);\n",
              "          const docLink = document.createElement('div');\n",
              "          docLink.innerHTML = docLinkHtml;\n",
              "          element.appendChild(docLink);\n",
              "        }\n",
              "      </script>\n",
              "    </div>\n",
              "  </div>\n",
              "  "
            ]
          },
          "metadata": {},
          "execution_count": 66
        }
      ]
    },
    {
      "cell_type": "code",
      "source": [
        "sexdata_2020=accident_2020.RPTER_SEX.value_counts().sort_index(ascending=True) #신고자 성별 분석\n",
        "plt.figure(figsize=(8,8))\n",
        "plt.bar(sexdata_2020.index,sexdata_2020)\n",
        "plt.title('신고자 성별')\n",
        "plt.xlabel('성별')\n",
        "plt.ylabel('숫자')\n",
        "plt.show()"
      ],
      "metadata": {
        "colab": {
          "base_uri": "https://localhost:8080/",
          "height": 512
        },
        "id": "7UXYz-IqRuVX",
        "outputId": "806aaa49-616f-4f84-a67d-cba7b6be05c5"
      },
      "execution_count": null,
      "outputs": [
        {
          "output_type": "display_data",
          "data": {
            "text/plain": [
              "<Figure size 576x576 with 1 Axes>"
            ],
            "image/png": "[encoded data removed]"
          },
          "metadata": {
            "needs_background": "light"
          }
        }
      ]
    },
    {
      "cell_type": "code",
      "source": [
        "sexdata_2020"
      ],
      "metadata": {
        "colab": {
          "base_uri": "https://localhost:8080/"
        },
        "id": "UbdTHIP3Vmii",
        "outputId": "53b162e5-a71e-46c7-eace-0a541bde41c4"
      },
      "execution_count": null,
      "outputs": [
        {
          "output_type": "execute_result",
          "data": {
            "text/plain": [
              "1    87269\n",
              "2    23964\n",
              "3    14879\n",
              "{        1\n",
              "Name: RPTER_SEX, dtype: int64"
            ]
          },
          "metadata": {},
          "execution_count": 68
        }
      ]
    },
    {
      "cell_type": "code",
      "source": [
        "accident_dept_2020=accident_2020.NPA_CL #청 분석\n",
        "accident_dept_2020"
      ],
      "metadata": {
        "colab": {
          "base_uri": "https://localhost:8080/"
        },
        "id": "_RjIchocR9cZ",
        "outputId": "6a85030a-9bef-485d-90fb-13e160f64dc2"
      },
      "execution_count": null,
      "outputs": [
        {
          "output_type": "execute_result",
          "data": {
            "text/plain": [
              "38         13\n",
              "54         13\n",
              "66         13\n",
              "117        13\n",
              "118        13\n",
              "           ..\n",
              "1178004    19\n",
              "1178035    13\n",
              "1178051    13\n",
              "1178086    13\n",
              "1178173    13\n",
              "Name: NPA_CL, Length: 126113, dtype: int64"
            ]
          },
          "metadata": {},
          "execution_count": 69
        }
      ]
    },
    {
      "cell_type": "code",
      "source": [
        "partdata_2020=dept_by_accident=accident_dept_2020.value_counts()\n",
        "partdata_2020"
      ],
      "metadata": {
        "colab": {
          "base_uri": "https://localhost:8080/"
        },
        "id": "CloVz0SDSxn3",
        "outputId": "7602ca7e-2482-4858-c4d1-ee7679e60f38"
      },
      "execution_count": null,
      "outputs": [
        {
          "output_type": "execute_result",
          "data": {
            "text/plain": [
              "19    80698\n",
              "13    45415\n",
              "Name: NPA_CL, dtype: int64"
            ]
          },
          "metadata": {},
          "execution_count": 70
        }
      ]
    },
    {
      "cell_type": "code",
      "source": [
        "plt.figure(figsize=(4,8))\n",
        "plt.bar(partdata_2020.index,partdata_2020)\n",
        "plt.title('청별 교통사고')\n",
        "plt.xlabel('청')\n",
        "plt.ylabel('사고')\n",
        "plt.show()"
      ],
      "metadata": {
        "colab": {
          "base_uri": "https://localhost:8080/",
          "height": 512
        },
        "id": "b7LvmU2gStAk",
        "outputId": "ab5adafe-8194-4b23-b64d-7083257bf60b"
      },
      "execution_count": null,
      "outputs": [
        {
          "output_type": "display_data",
          "data": {
            "text/plain": [
              "<Figure size 288x576 with 1 Axes>"
            ],
            "image/png": "[encoded data removed]"
          },
          "metadata": {
            "needs_background": "light"
          }
        }
      ]
    },
    {
      "cell_type": "code",
      "source": [
        "monthdata_2020=accident_2020.Date_month_name.value_counts().sort_index(ascending=True) #월별\n",
        "monthdata_2020"
      ],
      "metadata": {
        "colab": {
          "base_uri": "https://localhost:8080/"
        },
        "id": "uEFyaZgZTECM",
        "outputId": "fc4f4315-6ea1-4b4c-d8ac-f8c851d3f978"
      },
      "execution_count": null,
      "outputs": [
        {
          "output_type": "execute_result",
          "data": {
            "text/plain": [
              "April        10465\n",
              "August       12865\n",
              "February     10097\n",
              "January      11501\n",
              "July         12783\n",
              "June         12454\n",
              "March         9430\n",
              "May          12149\n",
              "November      8821\n",
              "October      12529\n",
              "September    13019\n",
              "Name: Date_month_name, dtype: int64"
            ]
          },
          "metadata": {},
          "execution_count": 72
        }
      ]
    },
    {
      "cell_type": "code",
      "source": [
        "months=['January','February','March','April',\"May\",\"June\",\"July\", \"August\", \"September\", \"October\", \"November\"] #데이터가 11월까지라 12월은 없음\n",
        "monthdata_2020=monthdata_2020.agg(months)\n",
        "plt.figure(figsize=(12,10))\n",
        "plt.bar(monthdata_2020.index,monthdata_2020)\n",
        "plt.title('월 별 교통사고')\n",
        "plt.xlabel('월')\n",
        "plt.ylabel('사고')\n",
        "plt.xticks(rotation=90)\n",
        "plt.show()"
      ],
      "metadata": {
        "colab": {
          "base_uri": "https://localhost:8080/",
          "height": 661
        },
        "id": "GtfYwZ6dTS1o",
        "outputId": "037c54e2-2aef-4ecd-cd6e-546d3a93e2ab"
      },
      "execution_count": null,
      "outputs": [
        {
          "output_type": "display_data",
          "data": {
            "text/plain": [
              "<Figure size 864x720 with 1 Axes>"
            ],
            "image/png": "[encoded data removed]"
          },
          "metadata": {
            "needs_background": "light"
          }
        }
      ]
    },
    {
      "cell_type": "code",
      "source": [
        "hourdata_2020=accident_2020.Date_hour.value_counts().sort_index(ascending=True) #시간별\n",
        "hourdata_2020"
      ],
      "metadata": {
        "colab": {
          "base_uri": "https://localhost:8080/"
        },
        "id": "_ndFMVpcUobq",
        "outputId": "d8bea95a-18b8-4178-caa3-0081cf9588c0"
      },
      "execution_count": null,
      "outputs": [
        {
          "output_type": "execute_result",
          "data": {
            "text/plain": [
              "0     3016\n",
              "1     2244\n",
              "2     1717\n",
              "3     1305\n",
              "4     1120\n",
              "5     1256\n",
              "6     2137\n",
              "7     3560\n",
              "8     5789\n",
              "9     6253\n",
              "10    6913\n",
              "11    6940\n",
              "12    6895\n",
              "13    7663\n",
              "14    8109\n",
              "15    8095\n",
              "16    8235\n",
              "17    8820\n",
              "18    9377\n",
              "19    7118\n",
              "20    5984\n",
              "21    5337\n",
              "22    4705\n",
              "23    3525\n",
              "Name: Date_hour, dtype: int64"
            ]
          },
          "metadata": {},
          "execution_count": 74
        }
      ]
    },
    {
      "cell_type": "code",
      "source": [
        "plt.figure(figsize=(10,5))\n",
        "plt.bar(hourdata_2020.index,hourdata_2020)\n",
        "plt.title('시간별 교통사고')\n",
        "plt.xlabel('시간')\n",
        "plt.ylabel('사고')\n",
        "plt.xticks(np.arange(24))\n",
        "plt.show()"
      ],
      "metadata": {
        "colab": {
          "base_uri": "https://localhost:8080/",
          "height": 349
        },
        "id": "uqMTLHpDUxa-",
        "outputId": "c2d2f59a-3ec7-49fa-a063-a142ec9a7430"
      },
      "execution_count": null,
      "outputs": [
        {
          "output_type": "display_data",
          "data": {
            "text/plain": [
              "<Figure size 720x360 with 1 Axes>"
            ],
            "image/png": "[encoded data removed]"
          },
          "metadata": {
            "needs_background": "light"
          }
        }
      ]
    },
    {
      "cell_type": "code",
      "source": [
        "weekdata_2020=accident_2020.Date_weekname.value_counts().sort_index(ascending=True) #요일벌\n",
        "weekdata_2020"
      ],
      "metadata": {
        "colab": {
          "base_uri": "https://localhost:8080/"
        },
        "id": "EkKUMvslU3xg",
        "outputId": "a1eb5f25-237e-419b-f5ee-423d4744d0a5"
      },
      "execution_count": null,
      "outputs": [
        {
          "output_type": "execute_result",
          "data": {
            "text/plain": [
              "Friday       19728\n",
              "Monday       18515\n",
              "Saturday     19028\n",
              "Sunday       14583\n",
              "Thursday     18381\n",
              "Tuesday      17968\n",
              "Wednesday    17910\n",
              "Name: Date_weekname, dtype: int64"
            ]
          },
          "metadata": {},
          "execution_count": 76
        }
      ]
    },
    {
      "cell_type": "code",
      "source": [
        "weeks=['Monday','Tuesday','Wednesday','Thursday',\"Friday\",\"Saturday\",\"Sunday\"]\n",
        "weekdata_2020=weekdata_2020.agg(weeks)\n",
        "plt.figure(figsize=(8,14))\n",
        "plt.bar(weekdata_2020.index,weekdata_2020)\n",
        "plt.title('요일 별 교통사고')\n",
        "plt.xlabel('요일')\n",
        "plt.ylabel('사고')\n",
        "plt.xticks(rotation=90)\n",
        "plt.show()"
      ],
      "metadata": {
        "colab": {
          "base_uri": "https://localhost:8080/",
          "height": 882
        },
        "id": "Eecthr9vVG2Z",
        "outputId": "3080bc47-4e1e-4b2b-84c7-cf6aec980672"
      },
      "execution_count": null,
      "outputs": [
        {
          "output_type": "display_data",
          "data": {
            "text/plain": [
              "<Figure size 576x1008 with 1 Axes>"
            ],
            "image/png": "[encoded data removed]"
          },
          "metadata": {
            "needs_background": "light"
          }
        }
      ]
    }
  ]
}